{
 "cells": [
  {
   "cell_type": "code",
   "execution_count": 1,
   "id": "a61d44d3-37f8-4327-9fc2-12cc8a461698",
   "metadata": {},
   "outputs": [],
   "source": [
    "#functions  \n",
    "\n",
    "#What are Functions?\n",
    "#Block of code for specific tasks.\n",
    "\n",
    "##Black Box Concept:Ignore internal code; focus on inputs/outputs.\n",
    "\n",
    "#Advantages:\n",
    "#Reusability\n",
    "#Avoids repetition\n",
    "\n",
    "# Two Key Points Regarding Functions:\n",
    "#1. Abstraction: Hides internal workings. , Users know \"what\" it does, not \"how\".\n",
    "\n",
    "#2. Decomposition: Splits systems into modules.\n",
    "                   #Each module offers specific functionality.\n",
    "                   #Modules can impact others.\n",
    "\n"
   ]
  },
  {
   "cell_type": "code",
   "execution_count": 2,
   "id": "4e44230a-538a-46e5-8d28-d99263717ddb",
   "metadata": {},
   "outputs": [
    {
     "ename": "SyntaxError",
     "evalue": "invalid syntax (4066834671.py, line 7)",
     "output_type": "error",
     "traceback": [
      "  \u001b[36mCell\u001b[39m\u001b[36m \u001b[39m\u001b[32mIn[2]\u001b[39m\u001b[32m, line 7\u001b[39m\n\u001b[31m    \u001b[39m\u001b[31m`def`       ---> Function start.\u001b[39m\n    ^\n\u001b[31mSyntaxError\u001b[39m\u001b[31m:\u001b[39m invalid syntax\n"
     ]
    }
   ],
   "source": [
    "# Components of a Function\n",
    "\n",
    "def function_name(parameters):\n",
    "    \"\"\"docstring\"\"\"\n",
    "    statement(s)\n",
    "\n",
    "`def`       ---> Function start.\n",
    "Name        ---> Function identifier.\n",
    "Params      ---> Input values.\n",
    "Colon (`:`) ---> Ends header.\n",
    "Docstring   ---> Function description.\n",
    "Body        ---> Statements.\n",
    "`return`    ---> Output value (optional).\n",
    "\n",
    "function_name(values)   \n"
   ]
  },
  {
   "cell_type": "code",
   "execution_count": 2,
   "id": "fb443f2c-dfba-45c3-931c-b25e09df7bd5",
   "metadata": {},
   "outputs": [],
   "source": [
    "#CREATE  A FUNCTION \n",
    "#def is_even(number):\n",
    "#    \"\"\"TELLS if number is odd or even\"\"\"\n",
    "#    if number%2 == 0: \n",
    "#        return(\"even\")\n",
    "#    else:\n",
    "#        return(\"odd\") \n",
    "\n"
   ]
  },
  {
   "cell_type": "code",
   "execution_count": 3,
   "id": "8ec79317-654c-4d1c-ac09-b4a48a8c402e",
   "metadata": {},
   "outputs": [
    {
     "ename": "NameError",
     "evalue": "name 'is_even' is not defined",
     "output_type": "error",
     "traceback": [
      "\u001b[31m---------------------------------------------------------------------------\u001b[39m",
      "\u001b[31mNameError\u001b[39m                                 Traceback (most recent call last)",
      "\u001b[36mCell\u001b[39m\u001b[36m \u001b[39m\u001b[32mIn[3]\u001b[39m\u001b[32m, line 2\u001b[39m\n\u001b[32m      1\u001b[39m \u001b[38;5;28;01mfor\u001b[39;00m i \u001b[38;5;129;01min\u001b[39;00m \u001b[38;5;28mrange\u001b[39m(\u001b[32m1\u001b[39m,\u001b[32m12\u001b[39m):\n\u001b[32m----> \u001b[39m\u001b[32m2\u001b[39m     \u001b[38;5;28mprint\u001b[39m( i , \u001b[33m\"\u001b[39m\u001b[33m:\u001b[39m\u001b[33m\"\u001b[39m ,\u001b[43mis_even\u001b[49m(i)) \n",
      "\u001b[31mNameError\u001b[39m: name 'is_even' is not defined"
     ]
    }
   ],
   "source": [
    "for i in range(1,12):\n",
    "    print( i , \":\" ,is_even(i)) \n",
    "    "
   ]
  },
  {
   "cell_type": "code",
   "execution_count": 4,
   "id": "37d0ac19-910d-4740-ad0b-6f5c974ff05e",
   "metadata": {},
   "outputs": [
    {
     "data": {
      "text/plain": [
       "'Prints the values to a stream, or to sys.stdout by default.\\n\\n  sep\\n    string inserted between values, default a space.\\n  end\\n    string appended after the last value, default a newline.\\n  file\\n    a file-like object (stream); defaults to the current sys.stdout.\\n  flush\\n    whether to forcibly flush the stream.'"
      ]
     },
     "execution_count": 4,
     "metadata": {},
     "output_type": "execute_result"
    }
   ],
   "source": [
    "print.__doc__ \n"
   ]
  },
  {
   "cell_type": "code",
   "execution_count": 5,
   "id": "3c4067e8-e35a-4fe7-af44-af8a32e6f375",
   "metadata": {},
   "outputs": [
    {
     "data": {
      "text/plain": [
       "\"type(object) -> the object's type\\ntype(name, bases, dict, **kwds) -> a new type\""
      ]
     },
     "execution_count": 5,
     "metadata": {},
     "output_type": "execute_result"
    }
   ],
   "source": [
    "type.__doc__"
   ]
  },
  {
   "cell_type": "code",
   "execution_count": 6,
   "id": "455e6c68-d4d1-4ddb-9b54-0ba6e5b05bf8",
   "metadata": {},
   "outputs": [
    {
     "data": {
      "text/plain": [
       "'Return the number of items in a container.'"
      ]
     },
     "execution_count": 6,
     "metadata": {},
     "output_type": "execute_result"
    }
   ],
   "source": [
    "len.__doc__"
   ]
  },
  {
   "cell_type": "code",
   "execution_count": 7,
   "id": "2f71f86a-c1f4-430f-be04-c861df1db5d0",
   "metadata": {},
   "outputs": [],
   "source": [
    "# FUNCTION: 2 Perspectives   \n",
    "#1. Creator's Perspective \n",
    "#2. User's perspective \n"
   ]
  },
  {
   "cell_type": "code",
   "execution_count": 8,
   "id": "bd3ddd51-f46a-4d8e-962c-fca97d4ccce4",
   "metadata": {},
   "outputs": [
    {
     "ename": "NameError",
     "evalue": "name 'fd' is not defined",
     "output_type": "error",
     "traceback": [
      "\u001b[31m---------------------------------------------------------------------------\u001b[39m",
      "\u001b[31mNameError\u001b[39m                                 Traceback (most recent call last)",
      "\u001b[36mCell\u001b[39m\u001b[36m \u001b[39m\u001b[32mIn[8]\u001b[39m\u001b[32m, line 1\u001b[39m\n\u001b[32m----> \u001b[39m\u001b[32m1\u001b[39m \u001b[43mfd\u001b[49m.is_even(\u001b[32m34\u001b[39m)   \n",
      "\u001b[31mNameError\u001b[39m: name 'fd' is not defined"
     ]
    }
   ],
   "source": [
    "\n",
    "fd.is_even(34)   "
   ]
  },
  {
   "cell_type": "code",
   "execution_count": 9,
   "id": "476b405a-7e30-4f67-9f62-569106fbf028",
   "metadata": {},
   "outputs": [
    {
     "ename": "NameError",
     "evalue": "name 'fd' is not defined",
     "output_type": "error",
     "traceback": [
      "\u001b[31m---------------------------------------------------------------------------\u001b[39m",
      "\u001b[31mNameError\u001b[39m                                 Traceback (most recent call last)",
      "\u001b[36mCell\u001b[39m\u001b[36m \u001b[39m\u001b[32mIn[9]\u001b[39m\u001b[32m, line 1\u001b[39m\n\u001b[32m----> \u001b[39m\u001b[32m1\u001b[39m \u001b[43mfd\u001b[49m.is_even(\u001b[33m\"\u001b[39m\u001b[33mcrafts\u001b[39m\u001b[33m\"\u001b[39m) \n",
      "\u001b[31mNameError\u001b[39m: name 'fd' is not defined"
     ]
    }
   ],
   "source": [
    "fd.is_even(\"crafts\") "
   ]
  },
  {
   "cell_type": "code",
   "execution_count": 10,
   "id": "4a2d96ec-a52b-4ccf-8fac-5ca2fd0557fc",
   "metadata": {},
   "outputs": [],
   "source": [
    "##Parameters Vs Arguments\n",
    "\n",
    "#Parameters:\n",
    "#Vars in () during func definition..\n",
    "#Defined in func declaration.\n",
    "\n",
    "#def func(param1, param2):\n",
    "    # Body\n",
    "\n",
    "\n",
    "#Arguments:\n",
    "#Values passed at func call.\n",
    "#Inputs during function invocation.\n",
    "\n",
    "#func(arg1, arg2)\n",
    "#1. Default Argument\n",
    "\n",
    "#2. Positional Argument\n",
    "\n",
    "#3. Keyword Argument\n",
    "\n",
    "#4. Arbitrary Argument (*args)*\n",
    "\n"
   ]
  },
  {
   "cell_type": "code",
   "execution_count": 11,
   "id": "f6c763cd-2804-4f61-8f20-79207d171b2a",
   "metadata": {},
   "outputs": [
    {
     "name": "stdout",
     "output_type": "stream",
     "text": [
      "8\n",
      "1\n",
      "0.1111111111111111\n",
      "8.225263339969959e-20\n"
     ]
    }
   ],
   "source": [
    "#1 . POSITIONAL ARGUMENTS   VALUES ASSIGNED BY CALL ORDER \n",
    "def power(a,b): \n",
    "    return a**b \n",
    "\n",
    "print(power(2,3)) \n",
    "\n",
    "print(power(9,0)) \n",
    "\n",
    "print(power(9,-1)) \n",
    "\n",
    "print(power(-9,-20))  \n",
    "\n"
   ]
  },
  {
   "cell_type": "code",
   "execution_count": 12,
   "id": "65a0dd8b-385e-40f1-a26d-43e9ee5e0858",
   "metadata": {},
   "outputs": [
    {
     "ename": "TypeError",
     "evalue": "power() missing 2 required positional arguments: 'a' and 'b'",
     "output_type": "error",
     "traceback": [
      "\u001b[31m---------------------------------------------------------------------------\u001b[39m",
      "\u001b[31mTypeError\u001b[39m                                 Traceback (most recent call last)",
      "\u001b[36mCell\u001b[39m\u001b[36m \u001b[39m\u001b[32mIn[12]\u001b[39m\u001b[32m, line 1\u001b[39m\n\u001b[32m----> \u001b[39m\u001b[32m1\u001b[39m \u001b[43mpower\u001b[49m\u001b[43m(\u001b[49m\u001b[43m)\u001b[49m \n",
      "\u001b[31mTypeError\u001b[39m: power() missing 2 required positional arguments: 'a' and 'b'"
     ]
    }
   ],
   "source": [
    "power() "
   ]
  },
  {
   "cell_type": "code",
   "execution_count": 13,
   "id": "edcde4c3-6f45-4af3-81df-4792b3f62141",
   "metadata": {},
   "outputs": [
    {
     "ename": "TypeError",
     "evalue": "power() missing 1 required positional argument: 'b'",
     "output_type": "error",
     "traceback": [
      "\u001b[31m---------------------------------------------------------------------------\u001b[39m",
      "\u001b[31mTypeError\u001b[39m                                 Traceback (most recent call last)",
      "\u001b[36mCell\u001b[39m\u001b[36m \u001b[39m\u001b[32mIn[13]\u001b[39m\u001b[32m, line 1\u001b[39m\n\u001b[32m----> \u001b[39m\u001b[32m1\u001b[39m \u001b[43mpower\u001b[49m\u001b[43m(\u001b[49m\u001b[32;43m3\u001b[39;49m\u001b[43m)\u001b[49m\n",
      "\u001b[31mTypeError\u001b[39m: power() missing 1 required positional argument: 'b'"
     ]
    }
   ],
   "source": [
    "power(3)"
   ]
  },
  {
   "cell_type": "code",
   "execution_count": 14,
   "id": "ce0fc020-0570-4d14-bf3b-2a8ea5eb1838",
   "metadata": {},
   "outputs": [],
   "source": [
    "#2.  DEFAULT ARGUMENTS \n",
    "# Default Argument: Function arguments with default values.\n",
    "\n",
    "def power(a=1 , b=1):\n",
    "    return a**b  "
   ]
  },
  {
   "cell_type": "code",
   "execution_count": 15,
   "id": "312c5018-e4a3-4f12-86d3-3bff3b605ee8",
   "metadata": {},
   "outputs": [
    {
     "data": {
      "text/plain": [
       "8"
      ]
     },
     "execution_count": 15,
     "metadata": {},
     "output_type": "execute_result"
    }
   ],
   "source": [
    "power(2,3)  "
   ]
  },
  {
   "cell_type": "code",
   "execution_count": 16,
   "id": "997d32f0-e282-419f-9641-c8fec863cba3",
   "metadata": {},
   "outputs": [
    {
     "data": {
      "text/plain": [
       "3"
      ]
     },
     "execution_count": 16,
     "metadata": {},
     "output_type": "execute_result"
    }
   ],
   "source": [
    "power(3)  "
   ]
  },
  {
   "cell_type": "code",
   "execution_count": 17,
   "id": "be22a0bd-dcae-497d-b046-524d9f2def50",
   "metadata": {},
   "outputs": [
    {
     "data": {
      "text/plain": [
       "81"
      ]
     },
     "execution_count": 17,
     "metadata": {},
     "output_type": "execute_result"
    }
   ],
   "source": [
    "power(9,2)"
   ]
  },
  {
   "cell_type": "code",
   "execution_count": 18,
   "id": "f69fce80-8e0c-4a93-b73e-18ddd9f08f31",
   "metadata": {},
   "outputs": [
    {
     "data": {
      "text/plain": [
       "1"
      ]
     },
     "execution_count": 18,
     "metadata": {},
     "output_type": "execute_result"
    }
   ],
   "source": [
    "power() "
   ]
  },
  {
   "cell_type": "code",
   "execution_count": 19,
   "id": "5f60ae50-96b8-45f0-a978-13cef08db7b6",
   "metadata": {},
   "outputs": [
    {
     "data": {
      "text/plain": [
       "4"
      ]
     },
     "execution_count": 19,
     "metadata": {},
     "output_type": "execute_result"
    }
   ],
   "source": [
    "# Keyword Argument: Values assigned to args by name at call time.\n",
    "\n",
    "# NOTE: *Keyword args* will Overrides *Positional args*.\n",
    "\n",
    "# Priority ---> Keyword args > Positional args.\n",
    "\n",
    "#power(b=2, a=3) \n",
    "\n",
    "power(a=2 , b=2) \n",
    "\n",
    "\n"
   ]
  },
  {
   "cell_type": "code",
   "execution_count": 20,
   "id": "ced545b6-88ee-4484-b4f1-adadb644ec5a",
   "metadata": {},
   "outputs": [
    {
     "name": "stdout",
     "output_type": "stream",
     "text": [
      "<class 'type'>\n"
     ]
    }
   ],
   "source": [
    "#ARBITARY ARGUMENTS: ACCEPTS ANY nummber of args \n",
    "#Useful when the number of argummets is unknown\n",
    "  \n",
    "print(type(dict))\n",
    "def making_list(*items):\n",
    "    list = []  \n",
    "    print(len(items)) \n",
    "    j =len(items)   \n",
    "    print(type(items))\n",
    "    i=0 \n",
    "#    if type(*items)==str: \n",
    "    while i<len(items):\n",
    "        #print(items[i])\n",
    "        list.append(items[i])\n",
    "        i+=1\n",
    "    print(list)  \n"
   ]
  },
  {
   "cell_type": "code",
   "execution_count": 21,
   "id": "3a146fb9-007d-4117-96f3-5310fd0e33de",
   "metadata": {},
   "outputs": [
    {
     "name": "stdout",
     "output_type": "stream",
     "text": [
      "4\n",
      "<class 'tuple'>\n",
      "['sal', 'xal', 'zal', 'pal']\n"
     ]
    }
   ],
   "source": [
    "making_list( \"sal\",\"xal\",\"zal\",\"pal\" )  "
   ]
  },
  {
   "cell_type": "code",
   "execution_count": 22,
   "id": "2bdf8aa2-aa5a-4391-b685-290f28b03462",
   "metadata": {},
   "outputs": [
    {
     "name": "stdout",
     "output_type": "stream",
     "text": [
      "5\n",
      "<class 'tuple'>\n",
      "[1, 2, 3, 4, 5]\n"
     ]
    }
   ],
   "source": [
    "making_list(1,2,3,4,5)"
   ]
  },
  {
   "cell_type": "code",
   "execution_count": 1,
   "id": "abe73b28-9647-45c4-b941-1284b1d39a1e",
   "metadata": {},
   "outputs": [],
   "source": [
    "#*args and **kwargs\n",
    "#*args: Variable-length positional arguments.\n",
    "\n",
    "#def func(*args)\n",
    "#**kwargs: Variable-length keyword arguments.\n",
    "\n",
    "#**kwargs\n",
    "def fun(**kwargs):\n",
    "    print(kwargs.items())\n",
    "    print(type(kwargs))\n",
    "    for (key,value) in kwargs.items(): \n",
    "        print(key, \">>>>\", value) \n",
    "    print({key:value for (key,value) in kwargs.items() })                                        \n",
    "\n",
    "# Notes: while using *args and **kwargs\n",
    "# Argument order: normal ---> *args ---> **kwargs\n",
    "# The words “args” and “kwargs” are only a convention, you can use any name of your choice\n"
   ]
  },
  {
   "cell_type": "code",
   "execution_count": 2,
   "id": "94e300b9-757f-4ff3-8d64-4e2d3aaf8e17",
   "metadata": {},
   "outputs": [
    {
     "name": "stdout",
     "output_type": "stream",
     "text": [
      "dict_items([('value', 1900), ('Location', 'octagon square'), ('direction', 'west'), ('youth', 98)])\n",
      "<class 'dict'>\n",
      "value >>>> 1900\n",
      "Location >>>> octagon square\n",
      "direction >>>> west\n",
      "youth >>>> 98\n",
      "{'value': 1900, 'Location': 'octagon square', 'direction': 'west', 'youth': 98}\n"
     ]
    }
   ],
   "source": [
    "fun(value = 1900,Location = \"octagon square\", direction = \"west\", youth = 98) \n",
    "#D130 = {key:value*2.0 for (key , value) in DDD.items()} \n",
    "\n"
   ]
  },
  {
   "cell_type": "code",
   "execution_count": 25,
   "id": "7613b239-242e-4c5a-b10c-4306c475744b",
   "metadata": {},
   "outputs": [
    {
     "name": "stdout",
     "output_type": "stream",
     "text": [
      "inside func_a: \n",
      "None\n",
      "inside func_b: \n",
      "7\n",
      "inside func_b: \n",
      "inside func_c: \n",
      "inside func_a: \n",
      "unique>>> None\n"
     ]
    }
   ],
   "source": [
    "# Global Var and Local Var\n",
    "\n",
    "# Functions as Arguments\n",
    "\n",
    "def func_a():\n",
    "    print(\"inside func_a: \")\n",
    "    # No return value ---> `None`\n",
    "    \n",
    "def func_b(y):\n",
    "    print(\"inside func_b: \")\n",
    "    return y\n",
    "\n",
    "def func_c(z):\n",
    "    print(\"inside func_c: \")\n",
    "    return z() \n",
    "\n",
    "\n",
    "print(func_a()) \n",
    "\n",
    "print(5 + func_b(2))  \n",
    "\n",
    "print( \"unique>>>\" ,func_c(func_b(func_a)))"
   ]
  },
  {
   "cell_type": "code",
   "execution_count": 26,
   "id": "8b41c690-645c-4b59-8273-2009d35d6d0c",
   "metadata": {},
   "outputs": [
    {
     "name": "stdout",
     "output_type": "stream",
     "text": [
      "2\n",
      "2\n",
      "5\n"
     ]
    }
   ],
   "source": [
    "def f(y):\n",
    "    x=1    #Local variable \n",
    "    x+=1\n",
    "    print(x)\n",
    "    return x  #LOCAL VARIABLE 2 \n",
    "    \n",
    "\n",
    "x=5     #Global x\n",
    "print(f(x))  #Local variable #Calss f()    \n",
    "print(x) #GLOBAL Variable is unaffected    \n",
    "\n",
    "#Local Variables: Inside function.\n",
    "#Global Variables: Outside any function, in main program.\n",
    "##"
   ]
  },
  {
   "cell_type": "code",
   "execution_count": 27,
   "id": "60d52108-25e3-4bfa-a0a0-ef7e0f19ad08",
   "metadata": {},
   "outputs": [
    {
     "name": "stdout",
     "output_type": "stream",
     "text": [
      "10\n",
      "5\n"
     ]
    }
   ],
   "source": [
    "def g(y): \n",
    "    print(x + 5) #GLOBAL VAR USED\n",
    "    return x     #GLOBAL VAR UNCHANGED   \n",
    "\n",
    "x = 5\n",
    "\n",
    "print(g(x)) \n"
   ]
  },
  {
   "cell_type": "code",
   "execution_count": 28,
   "id": "0587ad66-cba7-4425-b475-a4eb5a02fa8f",
   "metadata": {},
   "outputs": [
    {
     "name": "stdout",
     "output_type": "stream",
     "text": [
      "10\n",
      "5\n"
     ]
    }
   ],
   "source": [
    "def h(y): \n",
    "    y = y+x #LOCAL VARIABLE\n",
    "    print(y) #LOCAL VARIABLE\n",
    "    #x+=1 #GLOBAL variable cannot be changed \n",
    "    return x \n",
    "\n",
    "x=5  # GLOBAL VARIABLE\n",
    "\n",
    "print(h(5)) "
   ]
  },
  {
   "cell_type": "code",
   "execution_count": 29,
   "id": "956b8920-b245-43cf-b28d-1b11a060984d",
   "metadata": {},
   "outputs": [],
   "source": [
    "# Rule: Global vars: accessed but not modified in functions.\n",
    "# Concept 1: Globals exist outside funcs, accessed by any func.\n",
    "# Concept 2: Funcs without local vars can use globals.\n",
    "# Concept 3: Locals access globals but can't modify."
   ]
  },
  {
   "cell_type": "code",
   "execution_count": null,
   "id": "80a11afd-08dd-465c-8ba4-d7c55cfe1a9d",
   "metadata": {},
   "outputs": [],
   "source": []
  },
  {
   "cell_type": "code",
   "execution_count": 30,
   "id": "b3e19c24-f983-4556-a075-ffcc959e43f5",
   "metadata": {},
   "outputs": [
    {
     "name": "stdout",
     "output_type": "stream",
     "text": [
      "Global variable chnged\n",
      "6\n"
     ]
    }
   ],
   "source": [
    "#EXPLICITLY MODIFYING A GLOBAL VARIABLE \n",
    "#Discouraged to change GLOBAL variable \n",
    "def h(y):\n",
    "    global x\n",
    "    x+=1 \n",
    "    print( \"Global variable chnged\")\n",
    "    return x\n",
    "\n",
    "\n",
    "x=5 \n",
    "print(h(x)) "
   ]
  },
  {
   "cell_type": "code",
   "execution_count": 31,
   "id": "6dd31a0e-939a-44e3-af76-2bd12dc16b69",
   "metadata": {},
   "outputs": [],
   "source": [
    "#Nested funciton \n",
    "def a():\n",
    "    print(\"Inside a\")\n",
    "    def b():\n",
    "        print(\"Inside b\")\n",
    "    b() \n"
   ]
  },
  {
   "cell_type": "code",
   "execution_count": 32,
   "id": "2c85d391-db72-4344-8d4a-0db1e45808b2",
   "metadata": {},
   "outputs": [
    {
     "name": "stdout",
     "output_type": "stream",
     "text": [
      "Inside a\n",
      "Inside b\n"
     ]
    }
   ],
   "source": [
    "a() "
   ]
  },
  {
   "cell_type": "code",
   "execution_count": 33,
   "id": "c1823ee7-7773-4359-afd8-a303fa3818ae",
   "metadata": {},
   "outputs": [],
   "source": [
    "def e():\n",
    "    print(\"inside e\") \n",
    "    def f():\n",
    "        print(\"inside f\") \n",
    "        def g():\n",
    "            print(\"inside g\")\n",
    "        g()    \n",
    "    f() \n",
    "        "
   ]
  },
  {
   "cell_type": "code",
   "execution_count": 34,
   "id": "60525302-e387-46fa-8524-f5a0ed589285",
   "metadata": {},
   "outputs": [
    {
     "name": "stdout",
     "output_type": "stream",
     "text": [
      "inside e\n",
      "inside f\n",
      "inside g\n"
     ]
    }
   ],
   "source": [
    "e()  #python tutprial pe viualize krke dekhna "
   ]
  },
  {
   "cell_type": "code",
   "execution_count": 35,
   "id": "af256b35-1417-4a9e-88eb-9561e0ad27e1",
   "metadata": {},
   "outputs": [
    {
     "name": "stdout",
     "output_type": "stream",
     "text": [
      "global variable x >>. 108528325064520\n",
      "in g(x) : x =  2\n",
      "108528325064552\n",
      "1\n",
      "2\n"
     ]
    }
   ],
   "source": [
    "#HARDER SCOPE \n",
    "def g(x):\n",
    "    def h(): \n",
    "        x= \"abc\"\n",
    "    x+=1\n",
    "    print(\"in g(x) : x = \",x) \n",
    "    h()\n",
    "    print(id(x)) \n",
    "    return x\n",
    "\n",
    "\n",
    "x =1 \n",
    "print(\"global variable x >>.\" ,id(x))\n",
    "z =     g(x) \n",
    "print(x)\n",
    "print(z)\n"
   ]
  },
  {
   "cell_type": "code",
   "execution_count": 36,
   "id": "e9b65e73-149d-48db-9a99-ff997a1f0fcc",
   "metadata": {},
   "outputs": [],
   "source": [
    "#COMPLICATED SCOPE \n",
    "\n",
    "def g(x): \n",
    "    def h(x):\n",
    "        x+=2\n",
    "        print(\"In h(x) : x =\",x)\n",
    "    x+=1\n",
    "    print(\"in g(x): x=\", x) \n",
    "    h(x)\n",
    "    return x \n",
    "\n"
   ]
  },
  {
   "cell_type": "code",
   "execution_count": 37,
   "id": "1e2f1731-1440-4044-9b53-2b7c125fc211",
   "metadata": {},
   "outputs": [
    {
     "name": "stdout",
     "output_type": "stream",
     "text": [
      "in g(x): x= 2\n",
      "In h(x) : x = 4\n",
      "2\n"
     ]
    }
   ],
   "source": [
    "x =1 \n",
    "print(g(x)) "
   ]
  },
  {
   "cell_type": "code",
   "execution_count": 39,
   "id": "735bf5c1-ee4d-48b6-bf74-8ab513670176",
   "metadata": {},
   "outputs": [
    {
     "name": "stdout",
     "output_type": "stream",
     "text": [
      "in g(x): x= 5\n",
      "In h(x) : x = 7\n",
      "5\n",
      "Ratio of weight and height is : 2.282051282051282\n",
      "\n"
     ]
    }
   ],
   "source": [
    "#Everything in Python an Object\n",
    "\n",
    "#ALIASING  \n",
    "#Functions are aslo objects \n",
    "yours = g \n",
    "print(yours(4))\n",
    "\n",
    "def f(a,b):\n",
    "    print( \"Ratio of weight and height is :\",a/b , end=\"\\n\\n\")#2 parameters \n",
    "    \n",
    "\n",
    "#keyword arguments \n",
    "f(a=178 , b=78)"
   ]
  },
  {
   "cell_type": "code",
   "execution_count": 46,
   "id": "e2e492b2-8a73-4043-9366-a03d577ad865",
   "metadata": {},
   "outputs": [
    {
     "name": "stdout",
     "output_type": "stream",
     "text": [
      "4\n",
      "9\n"
     ]
    },
    {
     "data": {
      "text/plain": [
       "function"
      ]
     },
     "execution_count": 46,
     "metadata": {},
     "output_type": "execute_result"
    }
   ],
   "source": [
    "#OBJECTS  \n",
    "#FUNCTIONS are treated a s obbjects \n",
    "# In Python, Functions behave like any other Data type.\n",
    "# Can be assigned, passed, and returned.\n",
    "\n",
    "\n",
    "def f(num):\n",
    "    return num**2\n",
    "\n",
    "print(f(2)) \n",
    "\n",
    "x = f  # Object refrence\n",
    "\n",
    "print(x(3))   #call by Object refrence\n",
    "type(x) "
   ]
  },
  {
   "cell_type": "code",
   "execution_count": 48,
   "id": "1228ee46-b968-4cc5-b4ab-5e587f22798b",
   "metadata": {},
   "outputs": [
    {
     "name": "stdout",
     "output_type": "stream",
     "text": [
      "(1, 2, 3, <function f at 0x7e9472cc1080>)\n"
     ]
    }
   ],
   "source": [
    "tup1 = (1,2,3,x) \n",
    "print(tup1)"
   ]
  },
  {
   "cell_type": "code",
   "execution_count": 53,
   "id": "b3c65d16-4b93-4bbc-9095-725a78cfc58c",
   "metadata": {},
   "outputs": [
    {
     "name": "stdout",
     "output_type": "stream",
     "text": [
      "81\n",
      "16\n"
     ]
    }
   ],
   "source": [
    "print(tup1[-1](9))  \n",
    "print(tup1[-1](4)) "
   ]
  },
  {
   "cell_type": "code",
   "execution_count": 54,
   "id": "32720a9d-d722-45d2-ab59-5040212b877b",
   "metadata": {},
   "outputs": [],
   "source": [
    "#FUNCTIONAS CAN BE \n",
    "#1. Renaming Function: def new_name(old_name): \n",
    "#2. Deleting Function: del func_name\n",
    "#3. Storing Function: func_var = def\\]_func()\n",
    "#4. Returning Function: return func_name\n",
    "#5. Function as Argument: def outer(func): func() \n"
   ]
  },
  {
   "cell_type": "code",
   "execution_count": 61,
   "id": "3616db6b-c415-4e73-a316-352f2d6d3658",
   "metadata": {},
   "outputs": [
    {
     "name": "stdout",
     "output_type": "stream",
     "text": [
      "inside func_c: \n",
      "inside func_a: \n",
      "None\n"
     ]
    }
   ],
   "source": [
    "# Function as Argument: def outer(func): func() \n",
    "def fun_a():\n",
    "    print(\"inside func a\")\n",
    "    def func_c(z):\n",
    "        print(\"Inside fun_c\")\n",
    "        return  z()\n",
    "\n",
    "\n",
    "        \n",
    "print(func_c(func_a))  \n",
    "    "
   ]
  },
  {
   "cell_type": "code",
   "execution_count": 75,
   "id": "9e3403e1-c5e1-4ec8-9e1f-81ad048cc44e",
   "metadata": {},
   "outputs": [
    {
     "name": "stdout",
     "output_type": "stream",
     "text": [
      "7\n"
     ]
    }
   ],
   "source": [
    "#NESTED CALLING , RETURNING A FUNCTION \n",
    "def f():\n",
    "    def a(x,y):\n",
    "        return x + y\n",
    "    return a  #RETURNING A  FUNCTION \n",
    "\n",
    "val = f()(3,4)  #NESTED CALLING \n",
    "print(val)"
   ]
  },
  {
   "cell_type": "code",
   "execution_count": 138,
   "id": "c9137dd7-f9b6-430a-9c43-ffea90d75a40",
   "metadata": {},
   "outputs": [],
   "source": [
    "def list(**kwargs):\n",
    "    list0 = [] #keys \n",
    "    list1= []  #values \n",
    "    print(kwargs.items())\n",
    "    print(type(kwargs))\n",
    "    for (key,value) in kwargs.items(): \n",
    "        print(key, \":\" , value)\n",
    "        for only_key in (key,value): \n",
    "            print(key)\n",
    "            list0.extend(key)\n",
    "            list1.extend(value)       \n",
    "            \n",
    "\n",
    "    print(list0, end =\"\\n\\n\")\n",
    "    print(list1, end =\"\\n\\n\")\n",
    "        "
   ]
  },
  {
   "cell_type": "code",
   "execution_count": 139,
   "id": "acd0a16c-f41a-4c6d-8b4b-0aa863f8fa7a",
   "metadata": {},
   "outputs": [
    {
     "name": "stdout",
     "output_type": "stream",
     "text": [
      "dict_items([('PLace', 'BABBOLL'), ('Location', '2345'), ('Altitude', '1234'), ('Map', 'Mountains'), ('Operation', 'Azaadi'), ('Team', 'Sutlej')])\n",
      "<class 'dict'>\n",
      "PLace : BABBOLL\n",
      "PLace\n",
      "PLace\n",
      "Location : 2345\n",
      "Location\n",
      "Location\n",
      "Altitude : 1234\n",
      "Altitude\n",
      "Altitude\n",
      "Map : Mountains\n",
      "Map\n",
      "Map\n",
      "Operation : Azaadi\n",
      "Operation\n",
      "Operation\n",
      "Team : Sutlej\n",
      "Team\n",
      "Team\n",
      "['P', 'L', 'a', 'c', 'e', 'P', 'L', 'a', 'c', 'e', 'L', 'o', 'c', 'a', 't', 'i', 'o', 'n', 'L', 'o', 'c', 'a', 't', 'i', 'o', 'n', 'A', 'l', 't', 'i', 't', 'u', 'd', 'e', 'A', 'l', 't', 'i', 't', 'u', 'd', 'e', 'M', 'a', 'p', 'M', 'a', 'p', 'O', 'p', 'e', 'r', 'a', 't', 'i', 'o', 'n', 'O', 'p', 'e', 'r', 'a', 't', 'i', 'o', 'n', 'T', 'e', 'a', 'm', 'T', 'e', 'a', 'm']\n",
      "\n",
      "['B', 'A', 'B', 'B', 'O', 'L', 'L', 'B', 'A', 'B', 'B', 'O', 'L', 'L', '2', '3', '4', '5', '2', '3', '4', '5', '1', '2', '3', '4', '1', '2', '3', '4', 'M', 'o', 'u', 'n', 't', 'a', 'i', 'n', 's', 'M', 'o', 'u', 'n', 't', 'a', 'i', 'n', 's', 'A', 'z', 'a', 'a', 'd', 'i', 'A', 'z', 'a', 'a', 'd', 'i', 'S', 'u', 't', 'l', 'e', 'j', 'S', 'u', 't', 'l', 'e', 'j']\n",
      "\n"
     ]
    }
   ],
   "source": [
    "list(PLace = \"BABBOLL\",Location = \"2345\",Altitude = \"1234\",Map = \"Mountains\" ,Operation = \"Azaadi\", Team=  \"Sutlej\") \n"
   ]
  },
  {
   "cell_type": "code",
   "execution_count": 86,
   "id": "2a556bda-25d3-4819-869c-51daa96442ca",
   "metadata": {},
   "outputs": [],
   "source": [
    "def fun(**kwargs):\n",
    "    print(kwargs.items())\n",
    "    print(type(kwargs))\n",
    "    for (key,value) in kwargs.items(): \n",
    "        print(key, \">>>>\", value) \n",
    "    print({key:value for (key,value) in kwargs.items() })                                        \n",
    "\n"
   ]
  },
  {
   "cell_type": "code",
   "execution_count": 92,
   "id": "876d9bd3-69d2-40b8-8f28-be5d58b6e39d",
   "metadata": {},
   "outputs": [
    {
     "name": "stdout",
     "output_type": "stream",
     "text": [
      "dict_items([('value', 1900), ('Location', 'octagon square'), ('direction', 'west'), ('youth', 98)])\n",
      "<class 'dict'>\n",
      "value >>>> 1900\n",
      "Location >>>> octagon square\n",
      "direction >>>> west\n",
      "youth >>>> 98\n",
      "{'value': 1900, 'Location': 'octagon square', 'direction': 'west', 'youth': 98}\n"
     ]
    }
   ],
   "source": [
    "fun(value = 1900,Location = \"octagon square\", direction = \"west\", youth = 98) \n"
   ]
  },
  {
   "cell_type": "code",
   "execution_count": 168,
   "id": "ba55a2df-0cf2-4568-926b-37a07e13dea3",
   "metadata": {},
   "outputs": [
    {
     "name": "stdout",
     "output_type": "stream",
     "text": [
      "8100\n",
      "7744\n"
     ]
    },
    {
     "data": {
      "text/plain": [
       "81"
      ]
     },
     "execution_count": 168,
     "metadata": {},
     "output_type": "execute_result"
    }
   ],
   "source": [
    "def square(x):\n",
    "    return x**2\n",
    "\n",
    "tup = (1,2,3,square)\n",
    "print(tup[-1](90))\n",
    "\n",
    "#set = {1,2,3,4,5,6,square}\n",
    "#set[-1](9)  TypeError: 'set' object is not subscriptable\n",
    "\n",
    "list = [122,233,344,455,566,square] \n",
    "print(list[-1](88)) \n",
    "\n",
    "dict = {\"geo\":5 , \"Microbes\":890 , \"places\":44 , \"pop\":square(9)}\n",
    "dict[\"pop\"] \n"
   ]
  },
  {
   "cell_type": "code",
   "execution_count": 171,
   "id": "51696762-cf57-4f3c-a47b-54384b445285",
   "metadata": {},
   "outputs": [],
   "source": [
    "#🔹 Function Definition vs Function Call\n",
    "#Definition uses parameters:\n",
    "\n",
    "#def foo(this_is_a_parameter):\n",
    "#    print(this_is_a_parameter)\n",
    "\n",
    "#Call uses arguments:\n",
    "\n",
    "#foo(this_is_an_argument)\n"
   ]
  },
  {
   "cell_type": "code",
   "execution_count": 176,
   "id": "bbc1a488-f196-4147-a09c-f4c2e7f87027",
   "metadata": {},
   "outputs": [
    {
     "name": "stdout",
     "output_type": "stream",
     "text": [
      "1 2 3\n"
     ]
    }
   ],
   "source": [
    "#🔹 Positional Arguments\n",
    "#Mapped by order:\n",
    "\n",
    "def foo(a, b, c):\n",
    "    print(a, b, c)\n",
    "\n",
    "foo(1, 2, 3)  # 1 2 3\n"
   ]
  },
  {
   "cell_type": "code",
   "execution_count": 177,
   "id": "6de0ca33-9670-4f30-9054-5e0f56bfa952",
   "metadata": {},
   "outputs": [
    {
     "name": "stdout",
     "output_type": "stream",
     "text": [
      "1 2 3\n"
     ]
    }
   ],
   "source": [
    "#🔹 Keyword Arguments\n",
    "#Mapped by name, order doesn't matter:\n",
    "foo(c=3, b=2, a=1)  # 1 2 3\n"
   ]
  },
  {
   "cell_type": "code",
   "execution_count": 178,
   "id": "16fee782-7e1e-42cd-9ac7-27aee4a3ceee",
   "metadata": {},
   "outputs": [
    {
     "ename": "SyntaxError",
     "evalue": "positional argument follows keyword argument (3668731676.py, line 7)",
     "output_type": "error",
     "traceback": [
      "  \u001b[36mCell\u001b[39m\u001b[36m \u001b[39m\u001b[32mIn[178]\u001b[39m\u001b[32m, line 7\u001b[39m\n\u001b[31m    \u001b[39m\u001b[31mfoo(a=1, 2, 3)    #  SyntaxError\u001b[39m\n                 ^\n\u001b[31mSyntaxError\u001b[39m\u001b[31m:\u001b[39m positional argument follows keyword argument\n"
     ]
    }
   ],
   "source": [
    "#🔹 Mixing Positional and Keyword\n",
    "#Positional first, then keyword:\n",
    "\n",
    "foo(1, c=3, b=2)  # OK\n",
    "foo(1, 2, a=3)    # TypeError\n",
    "foo(1, b=2, b=3)  #  SyntaxError\n",
    "foo(a=1, 2, 3)    #  SyntaxError\n"
   ]
  },
  {
   "cell_type": "code",
   "execution_count": 180,
   "id": "b8b9bbf1-62c3-4c3b-ac5a-1b60ff0b096b",
   "metadata": {},
   "outputs": [
    {
     "ename": "SyntaxError",
     "evalue": "non-default argument follows default argument (2185716088.py, line 12)",
     "output_type": "error",
     "traceback": [
      "  \u001b[36mCell\u001b[39m\u001b[36m \u001b[39m\u001b[32mIn[180]\u001b[39m\u001b[32m, line 12\u001b[39m\n\u001b[31m    \u001b[39m\u001b[31mdef foo(a=0, b):  # ❌ SyntaxError\u001b[39m\n                 ^\n\u001b[31mSyntaxError\u001b[39m\u001b[31m:\u001b[39m non-default argument follows default argument\n"
     ]
    }
   ],
   "source": [
    "#🔹 Default Parameter Values\n",
    "#Set in function definition:\n",
    "\n",
    "def foo(a=0, b=0, c=0):\n",
    "    print(a, b, c)\n",
    "\n",
    "foo()                  # 0 0 0\n",
    "foo(1, c=3)            # 1 0 3\n",
    "foo(1, 2, a=3)         # ❌ TypeError\n",
    "#Rule: Non-default parameters must come first:\n",
    "\n",
    "def foo(a=0, b):  # ❌ SyntaxError\n",
    "    ...\n"
   ]
  },
  {
   "cell_type": "code",
   "execution_count": null,
   "id": "d13f9f28-e86d-4a6b-899a-6c2e95e6f6b7",
   "metadata": {},
   "outputs": [],
   "source": []
  }
 ],
 "metadata": {
  "kernelspec": {
   "display_name": "Python 3 (ipykernel)",
   "language": "python",
   "name": "python3"
  },
  "language_info": {
   "codemirror_mode": {
    "name": "ipython",
    "version": 3
   },
   "file_extension": ".py",
   "mimetype": "text/x-python",
   "name": "python",
   "nbconvert_exporter": "python",
   "pygments_lexer": "ipython3",
   "version": "3.10.14"
  }
 },
 "nbformat": 4,
 "nbformat_minor": 5
}
