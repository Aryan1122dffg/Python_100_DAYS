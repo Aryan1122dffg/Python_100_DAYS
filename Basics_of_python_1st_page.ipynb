{
 "cells": [
  {
   "cell_type": "code",
   "execution_count": 1,
   "id": "0163237b-5d49-4765-aad3-03ce9e7db218",
   "metadata": {},
   "outputs": [
    {
     "name": "stdout",
     "output_type": "stream",
     "text": [
      "Love you harsh 1 laove you jatin love you nish`a mam love you mamma sir 10000\n"
     ]
    }
   ],
   "source": [
    "print(\"Love you harsh\",'1',\"laove you jatin\",\"love you nish`a mam\",\"love you mamma sir\",10000)"
   ]
  },
  {
   "cell_type": "code",
   "execution_count": 2,
   "id": "18420a61-d708-45e9-9729-eadc8f750781",
   "metadata": {},
   "outputs": [
    {
     "name": "stdout",
     "output_type": "stream",
     "text": [
      "Carrymindfulllovingtemplemumma\n"
     ]
    }
   ],
   "source": [
    "print(\"Carry\",\"mindfull\",\"loving\",\"temple\",\"mumma\", sep='')"
   ]
  },
  {
   "cell_type": "code",
   "execution_count": 3,
   "id": "22e6f1c6-1cf0-47ba-96e2-09e0d134ddf7",
   "metadata": {},
   "outputs": [
    {
     "name": "stdout",
     "output_type": "stream",
     "text": [
      "Hi Take care\n"
     ]
    }
   ],
   "source": [
    "print( \"Hi\" ,end =' ')\n",
    "print(\"Take care\")"
   ]
  },
  {
   "cell_type": "code",
   "execution_count": 4,
   "id": "a999ebf9-a1d9-44ce-a440-b74cf894de70",
   "metadata": {},
   "outputs": [],
   "source": [
    "\n",
    "#Dataypes \n",
    "\n",
    "#1. Basic Datatypes {int(90, 20), float(1.234, 8.0) , boolean(True,False), string(\"stjnjndf\") , complex(4+3i), }\n",
    "#2. Contaiers : {Tuples, Dictionary, List, Set}\n",
    "#3. User Defined : oops concept\n",
    "\n",
    "\n"
   ]
  },
  {
   "cell_type": "code",
   "execution_count": 5,
   "id": "edd2409e-4d79-4e63-a443-e56c7ca338b4",
   "metadata": {},
   "outputs": [
    {
     "name": "stdout",
     "output_type": "stream",
     "text": [
      "8890\n",
      "1.7e+308\n",
      "1.345\n",
      "1.7e+308\n",
      "True\n",
      "False\n",
      "(90+5j)\n",
      "Joke erddaicates dulness\n",
      "Joke erddaicates dulness\n",
      "Joke erddaicates dulness\n"
     ]
    }
   ],
   "source": [
    "#integer \n",
    "print(8890)\n",
    "print(1.7e308) \n",
    "\n",
    "\n",
    "#float\n",
    "print(1.345)\n",
    "print(1.7e308)\n",
    "\n",
    "#boolean\n",
    "print(True)\n",
    "print(False)\n",
    "\n",
    "\n",
    "#complex\n",
    "print(90+5j)\n",
    "\n",
    "\n",
    "#stiring \n",
    "print('Joke erddaicates dulness')\n",
    "print(\"Joke erddaicates dulness\")\n",
    "print(\"\"\"Joke erddaicates dulness\"\"\")\n",
    "#each  has different use 3,2,1 qoute \n"
   ]
  },
  {
   "cell_type": "code",
   "execution_count": 6,
   "id": "e7a4bac8-a60f-4d22-acd9-0d83db02baf8",
   "metadata": {},
   "outputs": [
    {
     "name": "stdout",
     "output_type": "stream",
     "text": [
      "['aryan', 'virangan', 'Indra', 'Ishmanpreet', 'Karuna', 'Rishi']\n",
      "('aryan', 'virangan', 'Indra', 'Ishmanpreet', 'Karuna', 'Rishi')\n",
      "{'Source': 'Canals', 'Industry': 'Oil'}\n",
      "{8, 2, 4, 6} {1, 3, 5, 7}\n"
     ]
    }
   ],
   "source": [
    "\n",
    "#Container datatypes \n",
    "\n",
    "#list\n",
    "print([\"aryan\",\"virangan\", \"Indra\",\"Ishmanpreet\",\"Karuna\",\"Rishi\"])\n",
    "\n",
    "#tuple\n",
    "print((\"aryan\",\"virangan\", \"Indra\",\"Ishmanpreet\",\"Karuna\",\"Rishi\")) \n",
    "\n",
    "#Dictionary \n",
    "print({\"Source\":\"Canals\", \"Industry\":\"Oil\"})\n",
    "\n",
    "#Set \n",
    "print({2,4,6,8}, {1,3,5,7})\n",
    "\n"
   ]
  },
  {
   "cell_type": "code",
   "execution_count": 7,
   "id": "dbcb8e6a-6ba7-42e4-a358-4f8c12d5e2a2",
   "metadata": {},
   "outputs": [],
   "source": [
    "\n",
    "\n",
    "#OPERATORS \n",
    "\n",
    "#A> AIRTHEMETIC OPerators \n",
    "#B> RELATIONAL Operators \n",
    "#C> Memebrship  Operators\n",
    "#D> BITWISE Operators \n",
    "#F> IDENTITY Operators \n",
    "#G> LOGICAL Operators "
   ]
  },
  {
   "cell_type": "code",
   "execution_count": 8,
   "id": "834d9997-4ea4-4eb5-b195-a664476eee7d",
   "metadata": {},
   "outputs": [
    {
     "name": "stdout",
     "output_type": "stream",
     "text": [
      "10\n",
      "-4\n",
      "21\n",
      "0.42857142857142855\n",
      "3\n",
      "0\n",
      "2187\n"
     ]
    }
   ],
   "source": [
    "\n",
    "#A> AIRTHEMETIC OPerators\n",
    "\n",
    "a= 3 \n",
    "b=7\n",
    "print(a+b)\n",
    "\n",
    "print(a-b)\n",
    "\n",
    "print(a*b)\n",
    "\n",
    "print(a/b)\n",
    "\n",
    "print(a%b)\n",
    "\n",
    "print(a//b)\n",
    "\n",
    "print(a ** b)\n"
   ]
  },
  {
   "cell_type": "code",
   "execution_count": 9,
   "id": "6f93c318-7598-46fa-a5b0-19e6cfdc6696",
   "metadata": {},
   "outputs": [
    {
     "name": "stdout",
     "output_type": "stream",
     "text": [
      "True\n",
      "False\n",
      "False\n",
      "True\n",
      "False\n",
      "True\n"
     ]
    }
   ],
   "source": [
    "#B> RELATIONAL Operators \n",
    "\n",
    "a = 10 \n",
    "b= 11\n",
    "\n",
    "print(a<b)\n",
    "\n",
    "print(a>b)\n",
    "\n",
    "print(a>=b)\n",
    "\n",
    "print(a<=b)\n",
    "\n",
    "print(a==b)\n",
    "\n",
    "print(a!=b)"
   ]
  },
  {
   "cell_type": "code",
   "execution_count": 10,
   "id": "9978baaf-5c98-44fc-831a-1dba7dc12dc5",
   "metadata": {},
   "outputs": [
    {
     "name": "stdout",
     "output_type": "stream",
     "text": [
      "True\n",
      "False\n",
      "True\n",
      "False\n",
      "False\n"
     ]
    }
   ],
   "source": [
    "#C> Memebrship  Operators\n",
    "\n",
    "# in , not in\n",
    "\n",
    "a= [12,23,45,56]   #List\n",
    "b={\"birth\":\"8 sept 1810\",\"Samadhi\":\"10 Oct 1910\", \"Name\":\"Saint Shri Gajanan Maharaj\" , \"place\":\"Sheagaon, Maharashtra\"}  #Dictionary\n",
    "c= ('D','E','A','R')   #sets\n",
    "\n",
    "print( 12 in a) #list item\n",
    "\n",
    "print( 12 not in a) \n",
    "\n",
    "\n",
    "print( \"birth\" in b)  #  Dictionary Key\n",
    "#Vlaue is not identified it is thorugh only key it finds \n",
    "print( \"Sheagaon, Maharashtra\"  in b) #Vlaue\n",
    "print(\"8 sept 1810\" in b) #value\n",
    "\n",
    "\n"
   ]
  },
  {
   "cell_type": "code",
   "execution_count": 11,
   "id": "5aa7fa4d-1707-4bc1-8dfc-69cdccd68d66",
   "metadata": {},
   "outputs": [
    {
     "name": "stdout",
     "output_type": "stream",
     "text": [
      "False\n",
      "False\n",
      "True\n",
      "True\n",
      "a = False\n",
      "b = True\n"
     ]
    }
   ],
   "source": [
    "#G> Logical Operators \n",
    "#True , False, Not\n",
    "a= True\n",
    "b=False\n",
    "\n",
    "#AND\n",
    "print(a and b)\n",
    "print(a & b)\n",
    "\n",
    "#OR \n",
    "print(a or b)\n",
    "print(a | b)\n",
    "\n",
    "#NOT\n",
    "print( \"a =\" , not a)\n",
    "print( \"b =\" , not b)"
   ]
  },
  {
   "cell_type": "code",
   "execution_count": 12,
   "id": "021fd529-3990-473b-8bb0-2d225fabb908",
   "metadata": {},
   "outputs": [
    {
     "name": "stdout",
     "output_type": "stream",
     "text": [
      "1408\n",
      "0\n",
      "-12\n",
      "3\n",
      "15\n",
      "12\n"
     ]
    }
   ],
   "source": [
    "#D> BITWISE Operators \n",
    "a = 11\n",
    "b= 7 \n",
    "\n",
    "print(a << b) #LEFT SHIFT\n",
    "\n",
    "print(a >> b) #RIGHT SHIFT\n",
    "\n",
    "#0 becomes 1 and vice versa (~) BITWISE NOT\n",
    "print(~a) \n",
    "\n",
    "#BITWISE AND(&) \n",
    "print(a & b)\n",
    "\n",
    "#BITWISE OR(|)\n",
    "print(a | b)\n",
    "\n",
    "#BITWISE XOR(^)\n",
    "print(a ^ b)\n"
   ]
  },
  {
   "cell_type": "code",
   "execution_count": 13,
   "id": "05680bba-694f-484f-b268-665e4a5db333",
   "metadata": {},
   "outputs": [
    {
     "name": "stdout",
     "output_type": "stream",
     "text": [
      "True\n",
      "False\n"
     ]
    }
   ],
   "source": [
    "#F> IDENTITY Operators \n",
    "a= 90\n",
    "b=90\n",
    "\n",
    "print(a is b)\n",
    "\n",
    "c = ['1', '3', '5', '7']\n",
    "d=  ['1', '3', '5', '7']\n",
    "\n",
    "print(c is d)   \n",
    "#not every 2 variuable having same data or value willl be stored at sanme memory \n"
   ]
  },
  {
   "cell_type": "code",
   "execution_count": 14,
   "id": "7ecca4bf-f72c-42cd-9ccc-41879c5db854",
   "metadata": {},
   "outputs": [
    {
     "name": "stdout",
     "output_type": "stream",
     "text": [
      "91\n",
      "-10.18018018018018\n",
      "-1130.0\n",
      "-10.18018018018018\n"
     ]
    },
    {
     "ename": "TypeError",
     "evalue": "unsupported operand type(s) for &=: 'float' and 'int'",
     "output_type": "error",
     "traceback": [
      "\u001b[31m---------------------------------------------------------------------------\u001b[39m",
      "\u001b[31mTypeError\u001b[39m                                 Traceback (most recent call last)",
      "\u001b[36mCell\u001b[39m\u001b[36m \u001b[39m\u001b[32mIn[14]\u001b[39m\u001b[32m, line 21\u001b[39m\n\u001b[32m     18\u001b[39m a /= \u001b[32m111\u001b[39m\n\u001b[32m     19\u001b[39m \u001b[38;5;28mprint\u001b[39m(a)\n\u001b[32m---> \u001b[39m\u001b[32m21\u001b[39m \u001b[43ma\u001b[49m\u001b[43m \u001b[49m\u001b[43m&\u001b[49m\u001b[43m=\u001b[49m\u001b[43m \u001b[49m\u001b[32;43m111\u001b[39;49m\n\u001b[32m     22\u001b[39m \u001b[38;5;28mprint\u001b[39m(a)\n\u001b[32m     24\u001b[39m a //= \u001b[32m111\u001b[39m\n",
      "\u001b[31mTypeError\u001b[39m: unsupported operand type(s) for &=: 'float' and 'int'"
     ]
    }
   ],
   "source": [
    "# ASSIGNMNET OPERATORS\n",
    "\n",
    "a= 80 \n",
    "b=11\n",
    "\n",
    "a+=11 \n",
    "\n",
    "print(a)  \n",
    "a /= 111\n",
    "\n",
    "\n",
    "a -= 11\n",
    "print(a)\n",
    "\n",
    "a *= 111\n",
    "print(a)\n",
    "\n",
    "a /= 111\n",
    "print(a)\n",
    "\n",
    "a &= 111\n",
    "print(a)\n",
    "\n",
    "a //= 111\n",
    "print(a)\n",
    "\n",
    "a |= 111\n",
    "print(a)\n",
    "\n",
    "a >>= 111\n",
    "print(a)\n",
    "\n",
    "a <<= 111\n",
    "print(a)\n",
    "\n"
   ]
  },
  {
   "cell_type": "code",
   "execution_count": 16,
   "id": "0f38e3ec-c8c8-4e57-81ff-d1f53149f3f4",
   "metadata": {},
   "outputs": [
    {
     "name": "stdin",
     "output_type": "stream",
     "text": [
      "Tell the email asas\n"
     ]
    }
   ],
   "source": [
    "# IF_ELSE   \n",
    "\n",
    "email = \"aryan1234@gmail.com\"\n",
    "pswd = \"12345\"\n",
    "\n",
    "\n",
    "mailid = input(\"Tell the email\")\n",
    "if \"@\" in mailid:\n",
    "    key = input(\"Tell the pasword\")\n",
    "    if mailid == \"aryan1234@gmail.com\" and key == \"12345\":\n",
    "        print(\"Welcome to site\")\n",
    "    else: \n",
    "        print(\"incorrect emailid or pswd\")\n",
    "        mailid1 = input(\"Tell email\")\n",
    "        key1 = input(\"Tell password\")\n",
    "        if mailid1 == \"aryan1234@gmail.com\" and key1 ==\"12345\" :\n",
    "            print(\"Welocme\") \n",
    "        else:\n",
    "            print(\"Incorrect Credentials\") \n",
    "        "
   ]
  },
  {
   "cell_type": "code",
   "execution_count": 17,
   "id": "51a80f5a-313d-4a1c-9c00-0cbda5b3d5ed",
   "metadata": {},
   "outputs": [
    {
     "name": "stdin",
     "output_type": "stream",
     "text": [
      "Enter number as\n"
     ]
    },
    {
     "ename": "ValueError",
     "evalue": "invalid literal for int() with base 10: 'as'",
     "output_type": "error",
     "traceback": [
      "\u001b[31m---------------------------------------------------------------------------\u001b[39m",
      "\u001b[31mValueError\u001b[39m                                Traceback (most recent call last)",
      "\u001b[36mCell\u001b[39m\u001b[36m \u001b[39m\u001b[32mIn[17]\u001b[39m\u001b[32m, line 4\u001b[39m\n\u001b[32m      1\u001b[39m \u001b[38;5;66;03m# while  , #do while , #For-> range, sequence \u001b[39;00m\n\u001b[32m      2\u001b[39m \u001b[38;5;66;03m# while loop -> dont know how many times itis going to iterate   ,   For -> When know how many times iterations is .  \u001b[39;00m\n\u001b[32m      3\u001b[39m \u001b[38;5;66;03m# ITERATIVE CONDITIONAL LOOP \u001b[39;00m\n\u001b[32m----> \u001b[39m\u001b[32m4\u001b[39m number = \u001b[38;5;28;43mint\u001b[39;49m\u001b[43m(\u001b[49m\u001b[38;5;28;43minput\u001b[39;49m\u001b[43m(\u001b[49m\u001b[33;43m\"\u001b[39;49m\u001b[33;43mEnter number\u001b[39;49m\u001b[33;43m\"\u001b[39;49m\u001b[43m)\u001b[49m\u001b[43m)\u001b[49m\n\u001b[32m      5\u001b[39m i=\u001b[32m1\u001b[39m\n\u001b[32m      7\u001b[39m \u001b[38;5;28;01mwhile\u001b[39;00m i<\u001b[32m11\u001b[39m:\n",
      "\u001b[31mValueError\u001b[39m: invalid literal for int() with base 10: 'as'"
     ]
    }
   ],
   "source": [
    "# while  , #do while , #For-> range, sequence \n",
    "# while loop -> dont know how many times itis going to iterate   ,   For -> When know how many times iterations is .  \n",
    "# ITERATIVE CONDITIONAL LOOP \n",
    "number = int(input(\"Enter number\"))\n",
    "i=1\n",
    "\n",
    "while i<11:\n",
    "    result = i*number\n",
    "    print(i , \"*\" , number, \"=\" , result,sep='    ')  \n",
    "    i+=1 \n"
   ]
  },
  {
   "cell_type": "code",
   "execution_count": 18,
   "id": "fa5620a4-b0f4-469e-90aa-826f5e714053",
   "metadata": {},
   "outputs": [
    {
     "name": "stdout",
     "output_type": "stream",
     "text": [
      "72\n"
     ]
    },
    {
     "ename": "NameError",
     "evalue": "name 'num' is not defined",
     "output_type": "error",
     "traceback": [
      "\u001b[31m---------------------------------------------------------------------------\u001b[39m",
      "\u001b[31mNameError\u001b[39m                                 Traceback (most recent call last)",
      "\u001b[36mCell\u001b[39m\u001b[36m \u001b[39m\u001b[32mIn[18]\u001b[39m\u001b[32m, line 9\u001b[39m\n\u001b[32m      7\u001b[39m i=\u001b[32m0\u001b[39m\n\u001b[32m      8\u001b[39m \u001b[38;5;66;03m#while i<6  constraint the number of cahnces \u001b[39;00m\n\u001b[32m----> \u001b[39m\u001b[32m9\u001b[39m \u001b[38;5;28;01mwhile\u001b[39;00m \u001b[43mnum\u001b[49m != random_Number:\n\u001b[32m     10\u001b[39m     num = \u001b[38;5;28mint\u001b[39m(\u001b[38;5;28minput\u001b[39m(\u001b[33m\"\u001b[39m\u001b[33mEnter number guessed\u001b[39m\u001b[33m\"\u001b[39m))    \n\u001b[32m     11\u001b[39m     \u001b[38;5;28;01mif\u001b[39;00m num > random_Number:\n",
      "\u001b[31mNameError\u001b[39m: name 'num' is not defined"
     ]
    }
   ],
   "source": [
    "#GUESSING GAME \n",
    "import random \n",
    "random_Number = random.randint(10,100)\n",
    "print(random_Number)\n",
    "\n",
    "\n",
    "i=0\n",
    "#while i<6  constraint the number of cahnces \n",
    "while num != random_Number:\n",
    "    num = int(input(\"Enter number guessed\"))    \n",
    "    if num > random_Number:\n",
    "        print(\"number is smaller than\" , num)\n",
    "    elif num < random_Number:\n",
    "        print(\"number is greater than\", num )\n",
    "    elif num == random_Number:\n",
    "        print(\"Congrats You Guessed the number Right :)\"  , num)\n",
    "        break\n",
    "    #Constaining the number of chances to 6     \n",
    "    #if i == 5:\n",
    "    #    print(\"Number of Guesses are over!!\") \n",
    "    #print(\"Try AGAIN YOU HAVE \" , 6-i, \"left chances\")\n",
    "    #i+=1\n",
    "    \n"
   ]
  },
  {
   "cell_type": "code",
   "execution_count": 19,
   "id": "c17e5448-bc47-49a3-a9fe-921630f30563",
   "metadata": {},
   "outputs": [],
   "source": [
    "#FOR LOOP \n",
    "\n",
    "#RANGE\n",
    "#SEQUENCE \n",
    "\n",
    "#RANGE range(start,End,Iterate)  \n",
    "\n",
    " \n",
    "\n"
   ]
  },
  {
   "cell_type": "code",
   "execution_count": 20,
   "id": "cd630275-0cc0-4423-99de-be054389e7f0",
   "metadata": {},
   "outputs": [
    {
     "data": {
      "text/plain": [
       "[0, 1, 2, 3, 4, 5, 6, 7, 8, 9, 10, 11, 12, 13, 14]"
      ]
     },
     "execution_count": 20,
     "metadata": {},
     "output_type": "execute_result"
    }
   ],
   "source": [
    "list(range(15))       #Starts assuming from 0 to 14 , Taken 15 as end number "
   ]
  },
  {
   "cell_type": "code",
   "execution_count": 21,
   "id": "384b4fcb-6143-4a00-b5ed-edc8e92e4c42",
   "metadata": {},
   "outputs": [
    {
     "data": {
      "text/plain": [
       "[1, 2, 3, 4, 5, 6, 7, 8, 9, 10]"
      ]
     },
     "execution_count": 21,
     "metadata": {},
     "output_type": "execute_result"
    }
   ],
   "source": [
    "range(1,11)\n",
    "list(range(1,11))   #Starts with 1 to 10 "
   ]
  },
  {
   "cell_type": "code",
   "execution_count": 22,
   "id": "283a48f8-0636-4593-904e-a06e51f904fc",
   "metadata": {},
   "outputs": [
    {
     "data": {
      "text/plain": [
       "[10, 9, 8, 7, 6, 5, 4, 3, 2, 1]"
      ]
     },
     "execution_count": 22,
     "metadata": {},
     "output_type": "execute_result"
    }
   ],
   "source": [
    "list(range(10,0,-1))   # 10 to 1 doing  -1 "
   ]
  },
  {
   "cell_type": "code",
   "execution_count": 23,
   "id": "926be428-6a30-41e1-acb4-0e4ac809cae8",
   "metadata": {},
   "outputs": [
    {
     "data": {
      "text/plain": [
       "[0, 5, 10, 15, 20]"
      ]
     },
     "execution_count": 23,
     "metadata": {},
     "output_type": "execute_result"
    }
   ],
   "source": [
    "list(range(0,25,5))   "
   ]
  },
  {
   "cell_type": "code",
   "execution_count": 24,
   "id": "081f7acf-d726-4a79-ac6d-d6123fb4f5fa",
   "metadata": {},
   "outputs": [
    {
     "name": "stdout",
     "output_type": "stream",
     "text": [
      "0\n",
      "1\n",
      "2\n",
      "3\n",
      "4\n"
     ]
    }
   ],
   "source": [
    "for i in range(5):\n",
    "    print(i)"
   ]
  },
  {
   "cell_type": "code",
   "execution_count": 25,
   "id": "e7f1faa2-2cc4-497e-b470-559eea7e0b78",
   "metadata": {},
   "outputs": [
    {
     "name": "stdout",
     "output_type": "stream",
     "text": [
      "40  40 * 2 = 80\n",
      "44  44 * 2 = 88\n",
      "48  48 * 2 = 96\n",
      "52  52 * 2 = 104\n",
      "56  56 * 2 = 112\n"
     ]
    }
   ],
   "source": [
    "#RANGE FUNCTION \n",
    "#FOR LOOP ITERATING OVER RANGE FUNCTION\n",
    "for  i in range(40,60,4):      \n",
    "    print(i , end = \"  \") \n",
    "    num = i * 2\n",
    "    print(i , \"*\" , 2 , \"=\" , num, end = \"\\n\")"
   ]
  },
  {
   "cell_type": "code",
   "execution_count": null,
   "id": "ffeeba11-8def-4132-90ec-c0ad89d52b04",
   "metadata": {},
   "outputs": [],
   "source": [
    "#SEQUENCE \n",
    "#\"MAHARASHTRA\"  is a sequence of characters. \n",
    "#STRING\n",
    "for i  in \"MAHARASHTRA\":\n",
    "    print(i)   "
   ]
  },
  {
   "cell_type": "code",
   "execution_count": null,
   "id": "a48c6252-b9e9-4d8d-bb61-c74457a22ccf",
   "metadata": {},
   "outputs": [],
   "source": [
    "#list : FOR LOOP ITERATING OVER SEQUENCE OF LIST\n",
    "list = [\"MAHARASHTRA\",\"coimbatore\",\"luggage VALLEY\"] \n",
    "\n",
    "for i in list:\n",
    "    print(i ,end=\":\")\n",
    "    for j in i:    # LOGIC : IT is ointing to \"MAHARASHTRA\"  I ficuse it oon that and TOOK it as SEQUENCE to ITERATE on .\n",
    "        print(j , end=\" \")\n",
    "    print(end=\"\\n\")"
   ]
  },
  {
   "cell_type": "code",
   "execution_count": null,
   "id": "40b2da9e-055c-4139-ae1d-a165f9473427",
   "metadata": {},
   "outputs": [],
   "source": [
    "#TUPLE \n",
    "for i in (2 , 4, 6, 8, 10):\n",
    "    print(i)\n",
    "\n",
    "respected_GORKHAS = {\"GORKHA\":\"INDIAN ARMY REGIMENT\", \"NATURE\":\"FIERCE\", \"RANK\":\"COL\",\"TEAMS\":\"50\"} \n",
    "\n",
    "#DICTIONARY \n",
    "for key in respected_GORKHAS:  #ACCESSED KEY IN DICTIONAR\n",
    "    print(key , end = \":\")\n",
    "    print(end = \" \")\n",
    "    for value in key:  #KEY IS \"GORKHA\" NOW ACCESS THE VALUE IN THIS FOR LOOP  \n",
    "        print( respected_GORKHAS[key])\n",
    "        break\n",
    "    \n"
   ]
  },
  {
   "cell_type": "code",
   "execution_count": null,
   "id": "4d603d2a-37c0-4adb-93a3-9470e56eec3b",
   "metadata": {},
   "outputs": [],
   "source": [
    "#SETS \n",
    "for i in (1,2,3,4,5,6,7,88,9): \n",
    "    print(i, end = \" \")\n",
    "    "
   ]
  },
  {
   "cell_type": "code",
   "execution_count": 33,
   "id": "91dbc250-0fcf-41c5-8761-34b7f1bedd9c",
   "metadata": {},
   "outputs": [
    {
     "name": "stdout",
     "output_type": "stream",
     "text": [
      "* \n",
      "* * \n",
      "* * * \n",
      "* * * * \n",
      "* * * * * \n"
     ]
    }
   ],
   "source": [
    "#* PATTERN Problems \n",
    "\n",
    "#*\n",
    "#**\n",
    "#***\n",
    "#****\n",
    "#*****\n",
    "\n",
    "num = {1,2,3,4,5}\n",
    "for i in range(5):   #Entered Inside a Row 0 , 1, 2, 3, 4 \n",
    "    for j in range(i+1):   # After ENTERING Each Row FOCUS ON COLUMNS   0th row -> 1*  (0+1)\n",
    "        print('*' , end = \" \")  \n",
    "    print(end = \"\\n\")     \n",
    "            \n",
    "            "
   ]
  },
  {
   "cell_type": "code",
   "execution_count": 37,
   "id": "a7dca265-d572-43f8-8323-30cc88e6e1fd",
   "metadata": {},
   "outputs": [
    {
     "name": "stdin",
     "output_type": "stream",
     "text": [
      "Tell ROWS REQUIRED 11\n"
     ]
    },
    {
     "name": "stdout",
     "output_type": "stream",
     "text": [
      "❤️ \n",
      "❤️ ❤️ \n",
      "❤️ ❤️ ❤️ \n",
      "❤️ ❤️ ❤️ ❤️ \n",
      "❤️ ❤️ ❤️ ❤️ ❤️ \n",
      "❤️ ❤️ ❤️ ❤️ ❤️ ❤️ \n",
      "❤️ ❤️ ❤️ ❤️ ❤️ ❤️ ❤️ \n",
      "❤️ ❤️ ❤️ ❤️ ❤️ ❤️ ❤️ ❤️ \n",
      "❤️ ❤️ ❤️ ❤️ ❤️ ❤️ ❤️ ❤️ ❤️ \n",
      "❤️ ❤️ ❤️ ❤️ ❤️ ❤️ ❤️ ❤️ ❤️ ❤️ \n",
      "❤️ ❤️ ❤️ ❤️ ❤️ ❤️ ❤️ ❤️ ❤️ ❤️ ❤️ \n"
     ]
    }
   ],
   "source": [
    "#User INPUT IN PATTERN * \n",
    "\n",
    "#❤️❤️❤️❤️❤️❤️❤️❤️❤️❤️❤️❤️\n",
    "user_input_ROWS = int(input(\"Tell ROWS REQUIRED\")) \n",
    "\n",
    "for i in range(user_input_ROWS):\n",
    "    for columns in range(i+1):\n",
    "        print(\"❤️\" , end = \" \")\n",
    "     \n",
    "    print(end = \"\\n\")   "
   ]
  },
  {
   "cell_type": "code",
   "execution_count": 40,
   "id": "d409abd0-7b5e-445b-a0b9-1d01264b170d",
   "metadata": {},
   "outputs": [
    {
     "name": "stdout",
     "output_type": "stream",
     "text": [
      "0\n",
      "2\n",
      "4\n"
     ]
    }
   ],
   "source": [
    "#BREAK , CONTINUE, PASS  keywords \n",
    "\n",
    "\n",
    "\n",
    "#BREAK\n",
    "for i in range(0,10, 2):\n",
    "    if i == 6:\n",
    "        break   #BREAKS THE FOR LOOP come out of the loop  \n",
    "    print(i)   \n"
   ]
  },
  {
   "cell_type": "code",
   "execution_count": 42,
   "id": "3594a89a-686e-4fb0-8302-0870fe1a4416",
   "metadata": {},
   "outputs": [
    {
     "name": "stdout",
     "output_type": "stream",
     "text": [
      "0\n",
      "1\n",
      "2\n",
      "3\n",
      "4\n",
      "6\n",
      "7\n",
      "8\n"
     ]
    }
   ],
   "source": [
    "#CONTINUE        #FURTHER CODE is not executed and controll goes back to the nearest loop there is \n",
    "for o in range(0,9):\n",
    "    if o == 5:\n",
    "        continue  #IN THAT PARTICUALR ITERATION THE CODE FURTHER CODE IS NOT EXECUTED , After CODE IS NOT EXECUTED AND CONTROLL GOES BACK TO THWE INITIAL LOOP \n",
    "    print(o)\n",
    "    \n",
    "    "
   ]
  },
  {
   "cell_type": "code",
   "execution_count": 48,
   "id": "ae5654ff-f78d-4d7f-a81b-d3215062b5f8",
   "metadata": {},
   "outputs": [
    {
     "name": "stdout",
     "output_type": "stream",
     "text": [
      "lake: SHIRLA\n",
      "Sorrounding: GREENERY\n",
      "QUALITY: GOOD\n"
     ]
    }
   ],
   "source": [
    "dict = {\"lake\":\"SHIRLA\", \"area\":\"400m\", \"Sorrounding\":\"GREENERY\", \"QUALITY\":\"GOOD\"}\n",
    "for j in dict:\n",
    "    if j == \"area\":    #When \"QUALITY\" comes then FIRTHER CODE IS NOT EXECUTED AND IT GOES BACK TO 1st LOOP \n",
    "            continue\n",
    "    print(j , end = \":\")\n",
    "    print(end = \" \")\n",
    "    for value in j:              \n",
    "        print(dict[j] , end = \"\\n\")\n",
    "        break\n",
    "        \n",
    "    "
   ]
  },
  {
   "cell_type": "code",
   "execution_count": 49,
   "id": "b78d134b-eb68-4076-b607-294c56d93b7d",
   "metadata": {},
   "outputs": [],
   "source": [
    "#PASS  THERE IS NOTHING TO WRITE IN A LOOP / NO IDEA TO AVOID ERROR USE PASS\n",
    "\n",
    "for j in dict:\n",
    "    pass \n"
   ]
  },
  {
   "cell_type": "code",
   "execution_count": 62,
   "id": "fe6f5f64-c9ec-4249-93bd-990148001cd1",
   "metadata": {},
   "outputs": [
    {
     "name": "stdin",
     "output_type": "stream",
     "text": [
      "ENTER A STRING wwqwq\n"
     ]
    },
    {
     "name": "stdout",
     "output_type": "stream",
     "text": [
      "wwqwq\n",
      "5674\n",
      "1.0\n",
      "12345\n",
      "True\n"
     ]
    },
    {
     "data": {
      "text/plain": [
       "{2, 22, 222}"
      ]
     },
     "execution_count": 62,
     "metadata": {},
     "output_type": "execute_result"
    }
   ],
   "source": [
    "#BUILT IN FUNCTIONS 15 \n",
    "#1. INPUT\n",
    "strings = input(\"ENTER A STRING\")\n",
    "\n",
    "#2. PRINT\n",
    "print(strings)\n",
    "\n",
    "#3. abs (ABSOULUTE)\n",
    "\n",
    "#4. type  type of datatype \n",
    "type(strings) \n",
    "\n",
    "#5.int etc.   type conversion functions \n",
    "conversion  = int('5674')\n",
    "print(conversion) #returned as a integer \n",
    "\n",
    "print(float(1)) #convert to float\n",
    "\n",
    "print(str(12345))\n",
    "\n",
    "print(bool(90)) \n",
    "\n",
    "\n",
    "#6. pow \n",
    "pow(2,3)\n",
    "\n",
    "#7. min/maax \n",
    "min({2,22,222}, {3,33,333}) \n",
    "\n",
    "max({2,22,222}, {3,33,333}) "
   ]
  },
  {
   "cell_type": "code",
   "execution_count": 66,
   "id": "4a8df9ef-75c3-4618-9fe4-d98cf76a7c96",
   "metadata": {},
   "outputs": [
    {
     "data": {
      "text/plain": [
       "1"
      ]
     },
     "execution_count": 66,
     "metadata": {},
     "output_type": "execute_result"
    }
   ],
   "source": [
    "#round \n",
    "round(1111.11111)\n"
   ]
  },
  {
   "cell_type": "code",
   "execution_count": 68,
   "id": "cb9cbe14-feed-4434-b83f-10045e0859b5",
   "metadata": {},
   "outputs": [
    {
     "data": {
      "text/plain": [
       "3"
      ]
     },
     "execution_count": 68,
     "metadata": {},
     "output_type": "execute_result"
    }
   ],
   "source": [
    "round(22/7)   "
   ]
  },
  {
   "cell_type": "code",
   "execution_count": 74,
   "id": "dc2ea8f6-a7d1-42ef-982a-557a19adea80",
   "metadata": {},
   "outputs": [
    {
     "data": {
      "text/plain": [
       "(0, 2)"
      ]
     },
     "execution_count": 74,
     "metadata": {},
     "output_type": "execute_result"
    }
   ],
   "source": [
    "#8 divmod divmod(x//y , x%y)  these @OPERATIONS HAPPENS \n",
    "divmod(2,3)         #floor division , Mod "
   ]
  },
  {
   "cell_type": "code",
   "execution_count": 75,
   "id": "7cefe404-9c9d-4a32-a675-0e339649455d",
   "metadata": {},
   "outputs": [
    {
     "data": {
      "text/plain": [
       "(5, 0)"
      ]
     },
     "execution_count": 75,
     "metadata": {},
     "output_type": "execute_result"
    }
   ],
   "source": [
    "divmod(10,2)"
   ]
  },
  {
   "cell_type": "code",
   "execution_count": 77,
   "id": "6da5fedc-5d53-4a9e-ad07-4f2564525a10",
   "metadata": {},
   "outputs": [
    {
     "data": {
      "text/plain": [
       "'0x9'"
      ]
     },
     "execution_count": 77,
     "metadata": {},
     "output_type": "execute_result"
    }
   ],
   "source": [
    "#9. BINARY, HEXADECIMAL, OCTAL VALUE OF A NUMBER \n",
    "bin(9) "
   ]
  },
  {
   "cell_type": "code",
   "execution_count": 78,
   "id": "28b6d92f-69bf-40cc-be73-e33b3ab0ed31",
   "metadata": {},
   "outputs": [
    {
     "data": {
      "text/plain": [
       "'0x9'"
      ]
     },
     "execution_count": 78,
     "metadata": {},
     "output_type": "execute_result"
    }
   ],
   "source": [
    "hex(9)"
   ]
  },
  {
   "cell_type": "code",
   "execution_count": 79,
   "id": "0b4a05fb-fccd-4cd6-9082-f6e161fc20c9",
   "metadata": {},
   "outputs": [
    {
     "data": {
      "text/plain": [
       "'0o11'"
      ]
     },
     "execution_count": 79,
     "metadata": {},
     "output_type": "execute_result"
    }
   ],
   "source": [
    "oct(9)"
   ]
  },
  {
   "cell_type": "code",
   "execution_count": 80,
   "id": "26f6bb5b-0338-4007-a296-aa80ea3186be",
   "metadata": {},
   "outputs": [
    {
     "data": {
      "text/plain": [
       "108922876618888"
      ]
     },
     "execution_count": 80,
     "metadata": {},
     "output_type": "execute_result"
    }
   ],
   "source": [
    "#9. id TO KONW ADRESS OF MEMEORY \n",
    "\n",
    "a= 11\n",
    "id(a)"
   ]
  },
  {
   "cell_type": "code",
   "execution_count": 92,
   "id": "6335cd60-4ed6-43bb-a490-6e87583f64a6",
   "metadata": {},
   "outputs": [
    {
     "name": "stdout",
     "output_type": "stream",
     "text": [
      "M  :  77\n",
      "A  :  65\n",
      "H  :  72\n",
      "A  :  65\n",
      "R  :  82\n",
      "A  :  65\n",
      "S  :  83\n",
      "H  :  72\n",
      "T  :  84\n",
      "R  :  82\n",
      "A  :  65\n"
     ]
    }
   ],
   "source": [
    "#10. ord   ASCII value of any character \n",
    "string1 = \"MAHARASHTRA\" \n",
    "for chars in string1:\n",
    "    print(chars , \":\" , ord(chars),sep=\"  \")    "
   ]
  },
  {
   "cell_type": "code",
   "execution_count": 94,
   "id": "bec8900c-e10c-4577-8cc3-b2b0a41be9a6",
   "metadata": {},
   "outputs": [
    {
     "data": {
      "text/plain": [
       "2"
      ]
     },
     "execution_count": 94,
     "metadata": {},
     "output_type": "execute_result"
    }
   ],
   "source": [
    "#11. len length \n",
    "a = \"SWAMIJI\"\n",
    "len(a)"
   ]
  },
  {
   "cell_type": "code",
   "execution_count": 103,
   "id": "e7a04284-70b1-4ae3-a02f-ec18be35587e",
   "metadata": {},
   "outputs": [
    {
     "name": "stdout",
     "output_type": "stream",
     "text": [
      "length = 4--> ! : <class 'str'>  @ : <class 'str'>  # : <class 'str'>  $ : <class 'str'>  \n",
      "length = 4--> 1 : <class 'int'>  2.3 : <class 'float'>  4.0 : <class 'float'>  44444 : <class 'int'>  \n"
     ]
    }
   ],
   "source": [
    "list1 = [['!','@','#','$'],[1 , 2.3, 4.0, 44444]]  \n",
    "len(list1)\n",
    "for item in list1:\n",
    "    print(\"length = \",len(item), \"-->\", sep = \"\" , end = \" \")\n",
    "    for j in item:\n",
    "            print(j , \":\", type(j), sep = \" \", end = \"  \" )\n",
    "    print(end = '\\n')    "
   ]
  },
  {
   "cell_type": "code",
   "execution_count": 115,
   "id": "4f5d8606-571a-4a05-b47d-2a4b3536cf68",
   "metadata": {},
   "outputs": [
    {
     "data": {
      "text/plain": [
       "30"
      ]
     },
     "execution_count": 115,
     "metadata": {},
     "output_type": "execute_result"
    }
   ],
   "source": [
    "#12. sum \n",
    "sum({2,3,4,5}) #sum of set \n",
    "\n",
    "sum([1,2,3,4,5,6,7]) #sum of list\n",
    "\n",
    "sum((9,0,8,7,6)) #sum of tuple   "
   ]
  },
  {
   "cell_type": "code",
   "execution_count": 117,
   "id": "994ce8d3-7733-49fa-8e18-866f961d45e1",
   "metadata": {},
   "outputs": [
    {
     "name": "stdout",
     "output_type": "stream",
     "text": [
      "Help on built-in function ord in module builtins:\n",
      "\n",
      "ord(c, /)\n",
      "    Return the Unicode code point for a one-character string.\n",
      "\n"
     ]
    }
   ],
   "source": [
    "#help TO READ DOCUMENTATION OF ANYTHING NOT UNDERSTOD, \n",
    "\n",
    "help(ord)"
   ]
  },
  {
   "cell_type": "code",
   "execution_count": null,
   "id": "0c540ef0-a945-4ecd-804f-88c71a590602",
   "metadata": {},
   "outputs": [],
   "source": []
  }
 ],
 "metadata": {
  "kernelspec": {
   "display_name": "Python 3 (ipykernel)",
   "language": "python",
   "name": "python3"
  },
  "language_info": {
   "codemirror_mode": {
    "name": "ipython",
    "version": 3
   },
   "file_extension": ".py",
   "mimetype": "text/x-python",
   "name": "python",
   "nbconvert_exporter": "python",
   "pygments_lexer": "ipython3",
   "version": "3.11.0"
  }
 },
 "nbformat": 4,
 "nbformat_minor": 5
}
