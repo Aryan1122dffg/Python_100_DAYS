{
 "cells": [
  {
   "cell_type": "code",
   "execution_count": 1,
   "id": "b5fc2987-f116-4e46-a8d6-bec52592bc00",
   "metadata": {},
   "outputs": [],
   "source": [
    "#MODULES IN PYTHOIN "
   ]
  },
  {
   "cell_type": "code",
   "execution_count": 2,
   "id": "7b1a2d94-1d99-40f9-bcc2-ff6ffe7cc13c",
   "metadata": {},
   "outputs": [
    {
     "name": "stdout",
     "output_type": "stream",
     "text": [
      "\n",
      "Please wait a moment while I gather a list of all available modules...\n",
      "\n"
     ]
    },
    {
     "name": "stderr",
     "output_type": "stream",
     "text": [
      "/home/aryan/miniforge3/envs/jupy/lib/python3.11/site-packages/_distutils_hack/__init__.py:32: UserWarning: Setuptools is replacing distutils. Support for replacing an already imported distutils is deprecated. In the future, this condition will fail. Register concerns at https://github.com/pypa/setuptools/issues/new?template=distutils-deprecation.yml\n",
      "  warnings.warn(\n"
     ]
    },
    {
     "name": "stdout",
     "output_type": "stream",
     "text": [
      "IPython             arrow               ipaddress           rfc3339_validator\n",
      "__future__          ast                 ipykernel           rfc3986_validator\n",
      "__hello__           asttokens           ipykernel_launcher  rlcompleter\n",
      "__phello__          async_lru           ipython_pygments_lexers rpds\n",
      "_abc                asynchat            isoduration         runpy\n",
      "_aix_support        asyncio             itertools           sched\n",
      "_argon2_cffi_bindings asyncore            jedi                secrets\n",
      "_ast                atexit              jinja2              select\n",
      "_asyncio            attr                json                selectors\n",
      "_bisect             attrs               json5               send2trash\n",
      "_blake2             audioop             jsonpointer         setuptools\n",
      "_bootsubprocess     autocommand         jsonschema          shelve\n",
      "_bz2                babel               jsonschema_specifications shlex\n",
      "_cffi_backend       backports           jupyter             shutil\n",
      "_codecs             base64              jupyter_client      signal\n",
      "_codecs_cn          bdb                 jupyter_core        site\n",
      "_codecs_hk          binascii            jupyter_events      six\n",
      "_codecs_iso2022     bisect              jupyter_lsp         smtpd\n",
      "_codecs_jp          bleach              jupyter_server      smtplib\n",
      "_codecs_kr          bs4                 jupyter_server_terminals sndhdr\n",
      "_codecs_tw          builtins            jupyterlab          sniffio\n",
      "_collections        bz2                 jupyterlab_pygments socket\n",
      "_collections_abc    cProfile            jupyterlab_server   socketserver\n",
      "_compat_pickle      calendar            keyword             soupsieve\n",
      "_compression        certifi             lib2to3             spwd\n",
      "_contextvars        cffi                linecache           sqlite3\n",
      "_crypt              cgi                 locale              sre_compile\n",
      "_csv                cgitb               logging             sre_constants\n",
      "_ctypes             charset_normalizer  lzma                sre_parse\n",
      "_ctypes_test        chunk               mailbox             ssl\n",
      "_curses             cmath               mailcap             stack_data\n",
      "_curses_panel       cmd                 markupsafe          stat\n",
      "_datetime           code                marshal             statistics\n",
      "_decimal            codecs              math                string\n",
      "_distutils_hack     codeop              matplotlib_inline   stringprep\n",
      "_elementtree        collections         mimetypes           struct\n",
      "_functools          colorsys            mistune             subprocess\n",
      "_hashlib            comm                mmap                sunau\n",
      "_heapq              compileall          modulefinder        symtable\n",
      "_imp                concurrent          more_itertools      sys\n",
      "_io                 configparser        multiprocessing     sysconfig\n",
      "_json               contextlib          nbclient            syslog\n",
      "_locale             contextvars         nbconvert           tabnanny\n",
      "_lsprof             copy                nbformat            tarfile\n",
      "_lzma               copyreg             nest_asyncio        telnetlib\n",
      "_markupbase         crypt               netrc               tempfile\n",
      "_md5                csv                 nis                 terminado\n",
      "_multibytecodec     ctypes              nntplib             termios\n",
      "_multiprocessing    curses              notebook_shim       test\n",
      "_opcode             dataclasses         ntpath              textwrap\n",
      "_operator           datetime            nturl2path          this\n",
      "_osx_support        dateutil            numbers             threading\n",
      "_pickle             dbm                 numpy               time\n",
      "_posixshmem         debugpy             opcode              timeit\n",
      "_posixsubprocess    decimal             operator            tinycss2\n",
      "_py_abc             decorator           optparse            tkinter\n",
      "_pydecimal          defusedxml          ordered_set         token\n",
      "_pyio               difflib             os                  tokenize\n",
      "_queue              dis                 ossaudiodev         tomli\n",
      "_random             distutils           overrides           tomllib\n",
      "_sha1               doctest             packaging           tornado\n",
      "_sha256             email               pandocfilters       trace\n",
      "_sha3               encodings           parso               traceback\n",
      "_sha512             ensurepip           pathlib             tracemalloc\n",
      "_signal             enum                pdb                 traitlets\n",
      "_sitebuiltins       errno               pexpect             tty\n",
      "_socket             executing           pickle              turtle\n",
      "_sqlite3            fastjsonschema      pickletools         turtledemo\n",
      "_sre                faulthandler        pip                 typeguard\n",
      "_ssl                fcntl               pipes               types\n",
      "_stat               filecmp             pkg_resources       typing\n",
      "_statistics         fileinput           pkgutil             typing_extensions\n",
      "_string             fnmatch             platform            unicodedata\n",
      "_strptime           fqdn                platformdirs        unittest\n",
      "_struct             fractions           plistlib            uri_template\n",
      "_symtable           ftplib              poplib              urllib\n",
      "_sysconfigdata__linux_x86_64-linux-gnu functools           posix               urllib3\n",
      "_sysconfigdata_x86_64_conda_cos6_linux_gnu gc                  posixpath           uu\n",
      "_sysconfigdata_x86_64_conda_linux_gnu genericpath         pprint              uuid\n",
      "_testbuffer         getopt              profile             venv\n",
      "_testcapi           getpass             prometheus_client   warnings\n",
      "_testimportmultiple gettext             prompt_toolkit      wave\n",
      "_testinternalcapi   glob                pstats              wcwidth\n",
      "_testmultiphase     graphlib            psutil              weakref\n",
      "_thread             grp                 pty                 webbrowser\n",
      "_threading_local    gzip                ptyprocess          webcolors\n",
      "_tkinter            h11                 pure_eval           webencodings\n",
      "_tokenize           hashlib             pwd                 websocket\n",
      "_tracemalloc        heapq               py_compile          wheel\n",
      "_typing             hmac                pyclbr              wsgiref\n",
      "_uuid               html                pycparser           xdrlib\n",
      "_warnings           http                pydoc               xml\n",
      "_weakref            httpcore            pydoc_data          xmlrpc\n",
      "_weakrefset         httpx               pyexpat             xxlimited\n",
      "_xxsubinterpreters  idlelib             pygments            xxlimited_35\n",
      "_xxtestfuzz         idna                pythonjsonlogger    xxsubtype\n",
      "_yaml               imaplib             queue               yaml\n",
      "_zoneinfo           imghdr              quopri              zipapp\n",
      "abc                 imp                 random              zipfile\n",
      "aifc                importlib           re                  zipimport\n",
      "antigravity         importlib_metadata  readline            zipp\n",
      "anyio               importlib_resources referencing         zlib\n",
      "argon2              inflect             reprlib             zmq\n",
      "argparse            inspect             requests            zoneinfo\n",
      "array               io                  resource            \n",
      "\n",
      "Enter any module name to get more help.  Or, type \"modules spam\" to search\n",
      "for modules whose name or summary contain the string \"spam\".\n",
      "\n"
     ]
    }
   ],
   "source": [
    "help(\"modules\")"
   ]
  },
  {
   "cell_type": "code",
   "execution_count": 3,
   "id": "101aaf12-6b6b-4093-acaa-28cba4d0dc80",
   "metadata": {},
   "outputs": [
    {
     "name": "stdout",
     "output_type": "stream",
     "text": [
      "Help on module antigravity:\n",
      "\n",
      "NAME\n",
      "    antigravity\n",
      "\n",
      "MODULE REFERENCE\n",
      "    https://docs.python.org/3.11/library/antigravity.html\n",
      "    \n",
      "    The following documentation is automatically generated from the Python\n",
      "    source files.  It may be incomplete, incorrect or include features that\n",
      "    are considered implementation detail and may vary between Python\n",
      "    implementations.  When in doubt, consult the module reference at the\n",
      "    location listed above.\n",
      "\n",
      "FUNCTIONS\n",
      "    geohash(latitude, longitude, datedow)\n",
      "        Compute geohash() using the Munroe algorithm.\n",
      "        \n",
      "        >>> geohash(37.421542, -122.085589, b'2005-05-26-10458.68')\n",
      "        37.857713 -122.544543\n",
      "\n",
      "FILE\n",
      "    /home/aryan/miniforge3/envs/jupy/lib/python3.11/antigravity.py\n",
      "\n",
      "\n"
     ]
    },
    {
     "name": "stderr",
     "output_type": "stream",
     "text": [
      "gio: https://xkcd.com/353/: Operation not supported\n"
     ]
    }
   ],
   "source": [
    "import antigravity\n",
    "\n",
    "help(antigravity)"
   ]
  },
  {
   "cell_type": "code",
   "execution_count": 4,
   "id": "f54a5904-6681-4fad-8d0b-fd4a7ede9a71",
   "metadata": {},
   "outputs": [
    {
     "data": {
      "text/plain": [
       "1"
      ]
     },
     "execution_count": 4,
     "metadata": {},
     "output_type": "execute_result"
    }
   ],
   "source": [
    "#MATHS  #RANDOM  #OS  #TIME\n",
    "import math\n",
    "math.degrees(120) \n",
    "math.ceil(9.2121)\n",
    "math.lcm() \n"
   ]
  },
  {
   "cell_type": "raw",
   "id": "b54b714b-90c4-46b7-a69d-6fd922161a5e",
   "metadata": {},
   "source": [
    "#Random\n",
    "\n",
    "import random \n",
    "random.choice(\"NEIL\")  \n",
    "\n"
   ]
  },
  {
   "cell_type": "code",
   "execution_count": 5,
   "id": "2795196b-8b6f-4076-a979-d5a4e4619b29",
   "metadata": {},
   "outputs": [
    {
     "ename": "NameError",
     "evalue": "name 'random' is not defined",
     "output_type": "error",
     "traceback": [
      "\u001b[31m---------------------------------------------------------------------------\u001b[39m",
      "\u001b[31mNameError\u001b[39m                                 Traceback (most recent call last)",
      "\u001b[36mCell\u001b[39m\u001b[36m \u001b[39m\u001b[32mIn[5]\u001b[39m\u001b[32m, line 1\u001b[39m\n\u001b[32m----> \u001b[39m\u001b[32m1\u001b[39m \u001b[43mrandom\u001b[49m.randint(\u001b[32m1\u001b[39m,\u001b[32m100\u001b[39m)\n",
      "\u001b[31mNameError\u001b[39m: name 'random' is not defined"
     ]
    }
   ],
   "source": [
    "random.randint(1,100)\n"
   ]
  },
  {
   "cell_type": "code",
   "execution_count": null,
   "id": "bcb8031e-a8dc-46ad-9983-708adb56a556",
   "metadata": {},
   "outputs": [],
   "source": [
    "#OS    \n",
    "import os\n",
    "os.curdir \n",
    "os.getcwd() "
   ]
  },
  {
   "cell_type": "code",
   "execution_count": null,
   "id": "578e6b9b-5408-4c91-b0a1-5f93986a951c",
   "metadata": {},
   "outputs": [],
   "source": [
    "os.listdir()  "
   ]
  },
  {
   "cell_type": "code",
   "execution_count": null,
   "id": "8a5280df-5133-484d-9ba2-ec7d96a4eefa",
   "metadata": {},
   "outputs": [],
   "source": [
    "#TIME \n",
    "import time \n",
    "time.clock_gettime(1)\n",
    "\n",
    "\n",
    "print(\"ASTRONAUT\")\n",
    "time.sleep(3)\n",
    "print(\"NEAR EARTH\")\n",
    "time.gmtime()"
   ]
  },
  {
   "cell_type": "code",
   "execution_count": null,
   "id": "7afbc841-f640-4272-a64a-af3d073deaf5",
   "metadata": {},
   "outputs": [],
   "source": [
    "#STRINGS \n",
    "#ACCESSING AND SLICING SUBSTRINGS FROM A STRING \n",
    "\n",
    "\n",
    "a = \"SPACEWALK\"\n",
    "print(a[0])"
   ]
  },
  {
   "cell_type": "code",
   "execution_count": null,
   "id": "df35c3a7-de33-468d-a640-da9e6ee03cfd",
   "metadata": {},
   "outputs": [],
   "source": [
    "print(a[9])"
   ]
  },
  {
   "cell_type": "code",
   "execution_count": null,
   "id": "0204e2ce-6257-45de-86aa-5e170717be1c",
   "metadata": {},
   "outputs": [],
   "source": [
    "print(a[:]) #left blannk it will print the whole word"
   ]
  },
  {
   "cell_type": "code",
   "execution_count": null,
   "id": "86419e82-a716-4299-94f2-d8a361982453",
   "metadata": {},
   "outputs": [],
   "source": [
    "print(a[:5]) #THE LAST NUMBER DOESNT COUNT "
   ]
  },
  {
   "cell_type": "code",
   "execution_count": null,
   "id": "bf249c2a-9413-4c5b-b0fd-787958afcbaf",
   "metadata": {},
   "outputs": [],
   "source": [
    "print(a[0:])  #START WILL ALWAYS BE INCKUDED \n",
    "print(a[4:])"
   ]
  },
  {
   "cell_type": "code",
   "execution_count": null,
   "id": "2f6dc7a5-ba1d-498f-95be-786ad3130fe8",
   "metadata": {},
   "outputs": [],
   "source": []
  },
  {
   "cell_type": "code",
   "execution_count": null,
   "id": "e5b67ef8-ec99-4eac-9b1b-0369cf5fdd22",
   "metadata": {},
   "outputs": [],
   "source": [
    "print(a[-1:-5:-1])  # 3rd number indicates a sequence  \n",
    "print(a[-1:-6:-2])   #SPACEWALK   #IF YOU WANT TO START FROM -1 to n   then give a 3rd number i.e., sequence. "
   ]
  },
  {
   "cell_type": "code",
   "execution_count": null,
   "id": "ce0ad24d-c388-4dbe-8582-b3b4108994ca",
   "metadata": {},
   "outputs": [],
   "source": [
    "print(a[1:8:3])  #S'P'A'E'WA'L'K"
   ]
  },
  {
   "cell_type": "code",
   "execution_count": null,
   "id": "976cef8a-f35b-4753-b6dd-644def0c872a",
   "metadata": {},
   "outputs": [],
   "source": [
    "#REVERSE A STRING \n",
    "print(a[::-1])   "
   ]
  },
  {
   "cell_type": "code",
   "execution_count": null,
   "id": "3ed27c6c-8c65-4223-ab5a-c1a97582f24f",
   "metadata": {},
   "outputs": [],
   "source": [
    "#TYPES OF STRINGS \n",
    "\n",
    "\"\"\"IN THE SPACE THERE IS EMPTIENESS THAT HOLDS THE ENERGY I AM MADE OF \"\"\""
   ]
  },
  {
   "cell_type": "code",
   "execution_count": null,
   "id": "46533f37-72dc-4680-9a25-c8644eca6716",
   "metadata": {},
   "outputs": [],
   "source": [
    "'I BOW DOWN TO THESE 2 PHENOMENONS' "
   ]
  },
  {
   "cell_type": "code",
   "execution_count": null,
   "id": "c35517ca-35eb-4c80-9142-99b93440cb70",
   "metadata": {},
   "outputs": [],
   "source": [
    "\"AND THESE @ ARE THE BASIS OF MY LIFE\"\n"
   ]
  },
  {
   "cell_type": "code",
   "execution_count": null,
   "id": "9b60434f-5462-4892-83ed-04d370870dfd",
   "metadata": {},
   "outputs": [],
   "source": [
    "#EDITING AND DELETING SUBSTRINGS \n",
    "#STRINGS ARE IMMUTABLE AND NOTHING CAN ADDED ALSO \n",
    "#DELETION IS POSSIBLE\n",
    "\n",
    "c = \"JAIHO\"\n",
    "\n",
    "c[0] = \"X\" #TYPE ERROR\n"
   ]
  },
  {
   "cell_type": "code",
   "execution_count": null,
   "id": "8cf75768-e580-4277-b4d5-4903735a66b7",
   "metadata": {},
   "outputs": [],
   "source": [
    "del c[:3:2] "
   ]
  },
  {
   "cell_type": "code",
   "execution_count": null,
   "id": "e1901a1c-c932-4a50-b7d6-d056ff4cf529",
   "metadata": {},
   "outputs": [],
   "source": [
    "#WE CAN DELETE A STRING WHOLE\n",
    "d = \"ASTROSINSPACE\"\n",
    "print(d)\n",
    "del d \n",
    "print(c)\n",
    "print(d)\n"
   ]
  },
  {
   "cell_type": "code",
   "execution_count": null,
   "id": "331a79f9-4f76-4f61-9a35-14368b729b81",
   "metadata": {},
   "outputs": [],
   "source": [
    "#OPERATIONS ON STRINGS \n",
    "\n",
    "#1. AIRTHEMETIC OPERATIONS \n",
    "#2. LOGICAL OPERATION \n",
    "#3. RELATIONAL OPERATIONS \n",
    "#4. LOOPS OPERATIONS\n",
    "#5. MEMBERSHIP OPERATIONS\n",
    "\n",
    "\n",
    "\n",
    "#1. AIRTHEMETIC OPERATIONS \n",
    "#CONCATENATIONS (+) \n",
    "print(\"LOVE\"+\"YOU\")\n",
    "a = \"LULU\" \n",
    "b = \"FAMILY\"   \n",
    "print(a + b)\n",
    "\n",
    "print(a*10)\n",
    "\n",
    "#RELATIONAL OPERATIONS\n",
    "print(\"FALLIN\" == \"FALLOUT\")\n",
    "print(\"FALLIN\" < \"FALLOUT\") #DICTIONARY THE WORD WHICH COMES FIRST IT IS SMALLER : LEXIOGRAPHY COMPARISON\n",
    "print(\"LOVEYOOU\" >= \"LOVEYOU\")\n",
    "print(\"LOVEYOOU\" != \"LOVEYOU\")\n",
    "\n",
    "\n",
    "#BOOL \n",
    "#\"\" >> EMPTY SRING >>>FALSE\n",
    "#\"LOVE YOU A  LOT FAMILY\" >>> TRUE  "
   ]
  },
  {
   "cell_type": "code",
   "execution_count": null,
   "id": "868984b3-ba4b-4ec8-af3c-505696eb085b",
   "metadata": {},
   "outputs": [],
   "source": [
    "\"\" and \"yes\"  #FALSE and TRUE >> 0"
   ]
  },
  {
   "cell_type": "code",
   "execution_count": null,
   "id": "aa31a7f6-fe0f-42c7-9d42-b4bc564296c8",
   "metadata": {},
   "outputs": [],
   "source": [
    "\"\" or \"::::\" #FALSE or TRUE >> 1"
   ]
  },
  {
   "cell_type": "code",
   "execution_count": null,
   "id": "2c17e563-b5c7-48ea-ac2d-d5537c00851a",
   "metadata": {},
   "outputs": [],
   "source": [
    "not \"\"  #opposite of FALSE >>>  TRUE"
   ]
  },
  {
   "cell_type": "code",
   "execution_count": null,
   "id": "44be2745-c0a9-4c6e-b157-98a97662cd3a",
   "metadata": {},
   "outputs": [],
   "source": [
    "#LOOPS \n",
    "\n",
    "#for ,  while\n",
    "\n",
    "for i in \"POOKIE GUY\":\n",
    "    print(\"RAGHAV BHAIYA\" , sep = \" \" , end = \"   \")\n",
    "    print(\"POOKIE BHAIYA\")\n",
    "\n",
    "i= 0             \n",
    "while i<=len(\"POOKIE GUY\"):\n",
    "    print(\"LOVE YOU BHIAYAN\")\n",
    "    i+=1\n",
    "\n",
    "\n",
    "strings =  \"Qertuionpq00\"\n",
    "i= 0 \n",
    "sequuence_String =  strings[:12:2]\n",
    "while i< len(sequuence_String):\n",
    "    print(sequuence_String)\n",
    "    print(strings[:12:1])   \n",
    "\n",
    "for char in seequuence_String:\n",
    "    print(char)\n",
    "    \n",
    "\n",
    "    \n"
   ]
  },
  {
   "cell_type": "code",
   "execution_count": 10,
   "id": "c31a496b-6cb8-4c01-821b-b688cdb1d1b4",
   "metadata": {},
   "outputs": [
    {
     "data": {
      "text/plain": [
       "True"
      ]
     },
     "execution_count": 10,
     "metadata": {},
     "output_type": "execute_result"
    }
   ],
   "source": [
    "#MEMBERSHIP OPERATOR \n",
    "#in , not in\n",
    "\n",
    "strings = \"ASTROSPACE WALKS\" \n",
    "\"SPACE\" in strings  "
   ]
  },
  {
   "cell_type": "code",
   "execution_count": 11,
   "id": "2e6d1c21-08dd-4809-98b4-11c3e3bff428",
   "metadata": {},
   "outputs": [
    {
     "data": {
      "text/plain": [
       "False"
      ]
     },
     "execution_count": 11,
     "metadata": {},
     "output_type": "execute_result"
    }
   ],
   "source": [
    "\"WORK\" in strings"
   ]
  },
  {
   "cell_type": "code",
   "execution_count": 12,
   "id": "af658fb0-0e61-4dc6-84e6-484b747567d5",
   "metadata": {},
   "outputs": [
    {
     "data": {
      "text/plain": [
       "False"
      ]
     },
     "execution_count": 12,
     "metadata": {},
     "output_type": "execute_result"
    }
   ],
   "source": [
    "\"ASTRO\" not in strings"
   ]
  },
  {
   "cell_type": "code",
   "execution_count": 14,
   "id": "c6cb112c-63eb-4f7b-8608-5883ef67625b",
   "metadata": {},
   "outputs": [
    {
     "data": {
      "text/plain": [
       "'W'"
      ]
     },
     "execution_count": 14,
     "metadata": {},
     "output_type": "execute_result"
    }
   ],
   "source": [
    "#COMMON FUNCTIONS IN STRINGS \n",
    "\n",
    "#1.len \n",
    "#2. max \n",
    "#3. min\n",
    "#4. sorted \n",
    "geo = \"LAND<WATER<WATER<FIRE<SPACE\"\n",
    "len(geo) "
   ]
  },
  {
   "cell_type": "code",
   "execution_count": 15,
   "id": "e6dc48c0-5afe-401f-9c6b-dc0a8d311b0d",
   "metadata": {},
   "outputs": [
    {
     "data": {
      "text/plain": [
       "'W'"
      ]
     },
     "execution_count": 15,
     "metadata": {},
     "output_type": "execute_result"
    }
   ],
   "source": [
    "max(geo) "
   ]
  },
  {
   "cell_type": "code",
   "execution_count": 16,
   "id": "bc3331cb-268a-42b3-add5-973b4cf2e3b2",
   "metadata": {},
   "outputs": [
    {
     "data": {
      "text/plain": [
       "'<'"
      ]
     },
     "execution_count": 16,
     "metadata": {},
     "output_type": "execute_result"
    }
   ],
   "source": [
    "min(geo)"
   ]
  },
  {
   "cell_type": "code",
   "execution_count": 18,
   "id": "161241f1-5e70-44bc-83fd-14d60673ea69",
   "metadata": {},
   "outputs": [
    {
     "name": "stdout",
     "output_type": "stream",
     "text": [
      "['<', '<', '<', '<', 'A', 'A', 'A', 'A', 'C', 'D', 'E', 'E', 'E', 'E', 'F', 'I', 'L', 'N', 'P', 'R', 'R', 'R', 'S', 'T', 'T', 'W', 'W']\n"
     ]
    }
   ],
   "source": [
    "print(sorted(geo), sep = \" \")"
   ]
  },
  {
   "cell_type": "code",
   "execution_count": 20,
   "id": "11c7445c-86c5-41c2-999d-33d1dd25bda7",
   "metadata": {},
   "outputs": [
    {
     "data": {
      "text/plain": [
       "'Astro is knocking in space'"
      ]
     },
     "execution_count": 20,
     "metadata": {},
     "output_type": "execute_result"
    }
   ],
   "source": [
    "#CAPITALLIZE : FIRST WORD CAPITAL \n",
    "#TITLE : ALL THE First letter of every WORDS in  CAPITAL\n",
    "#UPPER : EVERYTHING UPPERCASE  vice versa >>> LOWER CASE \n",
    "\n",
    "\"astro IS KNOCKING IN SPACE\".capitalize()"
   ]
  },
  {
   "cell_type": "code",
   "execution_count": 21,
   "id": "93639e6d-0bcd-420f-b8c2-3d213f025357",
   "metadata": {},
   "outputs": [
    {
     "data": {
      "text/plain": [
       "'Astro Is Knocking In Space'"
      ]
     },
     "execution_count": 21,
     "metadata": {},
     "output_type": "execute_result"
    }
   ],
   "source": [
    "\"astro IS KNOCKING IN SPACE\".title()  "
   ]
  },
  {
   "cell_type": "code",
   "execution_count": 24,
   "id": "21f19db6-09f2-4b98-96f6-6db8ba997afb",
   "metadata": {},
   "outputs": [
    {
     "data": {
      "text/plain": [
       "'ASTRO IS KNOCKING IN SPACE'"
      ]
     },
     "execution_count": 24,
     "metadata": {},
     "output_type": "execute_result"
    }
   ],
   "source": [
    "\"astro IS KNOCKING IN SPACE\".upper()"
   ]
  },
  {
   "cell_type": "code",
   "execution_count": 25,
   "id": "0708a004-6aaa-44d8-9070-98e6698f0675",
   "metadata": {},
   "outputs": [
    {
     "data": {
      "text/plain": [
       "'astro is knocking in space'"
      ]
     },
     "execution_count": 25,
     "metadata": {},
     "output_type": "execute_result"
    }
   ],
   "source": [
    "\"astro IS KNOCKING IN SPACE\".lower()"
   ]
  },
  {
   "cell_type": "code",
   "execution_count": 26,
   "id": "211727e9-53fc-48ee-942e-6e06b57aaf2f",
   "metadata": {},
   "outputs": [
    {
     "data": {
      "text/plain": [
       "'ASTRO is knocking in space'"
      ]
     },
     "execution_count": 26,
     "metadata": {},
     "output_type": "execute_result"
    }
   ],
   "source": [
    "\"astro IS KNOCKING IN SPACE\".swapcase() "
   ]
  },
  {
   "cell_type": "code",
   "execution_count": 32,
   "id": "070f3a8a-7ffb-4bf1-a1fb-a5c62efea5c0",
   "metadata": {},
   "outputs": [
    {
     "data": {
      "text/plain": [
       "3"
      ]
     },
     "execution_count": 32,
     "metadata": {},
     "output_type": "execute_result"
    }
   ],
   "source": [
    "#COUNT : TELLS THE NO< OF TIMES A WORD OR CHARACTER REPEATED ITSELF \n",
    "strong = \"astro IS KNOCKING IN SPACE\"\n",
    "strong.count(\"K\") \n",
    "repeat = \"oploveyouoploveyouoploveyou\"\n",
    "repeat.count(\"loveyou\")  "
   ]
  },
  {
   "cell_type": "code",
   "execution_count": 41,
   "id": "c11557fc-44ee-4b4f-84e9-bbad3db5dbe9",
   "metadata": {},
   "outputs": [
    {
     "data": {
      "text/plain": [
       "-1"
      ]
     },
     "execution_count": 41,
     "metadata": {},
     "output_type": "execute_result"
    }
   ],
   "source": [
    "#FIND/INDEX \n",
    "repeat.find(\"op\")   \n",
    "repeat.find(\"x\")  #IF NOT FOUND >>>> -1 "
   ]
  },
  {
   "cell_type": "code",
   "execution_count": 42,
   "id": "3c133b4c-970f-40a8-a035-3dde7a669d68",
   "metadata": {},
   "outputs": [
    {
     "ename": "ValueError",
     "evalue": "substring not found",
     "output_type": "error",
     "traceback": [
      "\u001b[31m---------------------------------------------------------------------------\u001b[39m",
      "\u001b[31mValueError\u001b[39m                                Traceback (most recent call last)",
      "\u001b[36mCell\u001b[39m\u001b[36m \u001b[39m\u001b[32mIn[42]\u001b[39m\u001b[32m, line 2\u001b[39m\n\u001b[32m      1\u001b[39m repeat.index(\u001b[33m\"\u001b[39m\u001b[33mlove\u001b[39m\u001b[33m\"\u001b[39m)\n\u001b[32m----> \u001b[39m\u001b[32m2\u001b[39m \u001b[43mrepeat\u001b[49m\u001b[43m.\u001b[49m\u001b[43mindex\u001b[49m\u001b[43m(\u001b[49m\u001b[33;43m\"\u001b[39;49m\u001b[33;43mpope\u001b[39;49m\u001b[33;43m\"\u001b[39;49m\u001b[43m)\u001b[49m\n",
      "\u001b[31mValueError\u001b[39m: substring not found"
     ]
    }
   ],
   "source": [
    "repeat.index(\"love\") \n",
    "repeat.index(\"pope\") #IT GIVES ERROR IF NOT FOUND A  CHARACTER OR WORD "
   ]
  },
  {
   "cell_type": "code",
   "execution_count": 43,
   "id": "1a39d592-4d08-46ed-99c5-823500083442",
   "metadata": {},
   "outputs": [
    {
     "data": {
      "text/plain": [
       "True"
      ]
     },
     "execution_count": 43,
     "metadata": {},
     "output_type": "execute_result"
    }
   ],
   "source": [
    "#ENDS WITH/ STARTS WITH\n",
    "\n",
    "\"BEGINIG OF A PROCESS\".endswith(\"ESS\")"
   ]
  },
  {
   "cell_type": "code",
   "execution_count": 44,
   "id": "3973e27a-93b4-4647-bd4e-5cb0e65c0632",
   "metadata": {},
   "outputs": [
    {
     "data": {
      "text/plain": [
       "False"
      ]
     },
     "execution_count": 44,
     "metadata": {},
     "output_type": "execute_result"
    }
   ],
   "source": [
    "\"BEGINIG OF A PROCESS\".startswith(\"ESS\")"
   ]
  },
  {
   "cell_type": "code",
   "execution_count": 45,
   "id": "595ab138-01fe-46b2-a833-9f3187f40a4f",
   "metadata": {},
   "outputs": [
    {
     "data": {
      "text/plain": [
       "True"
      ]
     },
     "execution_count": 45,
     "metadata": {},
     "output_type": "execute_result"
    }
   ],
   "source": [
    "\"BEGINIG OF A PROCESS\".startswith(\"BEG\")"
   ]
  },
  {
   "cell_type": "code",
   "execution_count": 48,
   "id": "469c0364-b4fd-407f-82b7-649ce2ac39a4",
   "metadata": {},
   "outputs": [
    {
     "data": {
      "text/plain": [
       "'DISCOVERED A PLACE 100 WHERE IT IS GOOD AND WONDERFULL 100'"
      ]
     },
     "execution_count": 48,
     "metadata": {},
     "output_type": "execute_result"
    }
   ],
   "source": [
    "#FORMAT  \n",
    "\"DISCOVERED A PLACE {} WHERE IT IS GOOD AND WONDERFULL {}\".format(\"ISHA\",100) #FILLS EMPTY {} BRACES \n"
   ]
  },
  {
   "cell_type": "code",
   "execution_count": 49,
   "id": "a8a1e145-0ecd-4294-8c89-8126e48e3a55",
   "metadata": {},
   "outputs": [
    {
     "data": {
      "text/plain": [
       "'DISCOVERED A PLACE 100 WHERE IT IS GOOD AND WONDERFULL 100'"
      ]
     },
     "execution_count": 49,
     "metadata": {},
     "output_type": "execute_result"
    }
   ],
   "source": [
    "\"DISCOVERED A PLACE {1} WHERE IT IS GOOD AND WONDERFULL {1}\".format(\"ISHA\",100)  #INDEXING\n"
   ]
  },
  {
   "cell_type": "code",
   "execution_count": 50,
   "id": "88606337-1a4c-43a3-b1d8-31d9c53ca55f",
   "metadata": {},
   "outputs": [
    {
     "data": {
      "text/plain": [
       "'DISCOVERED A PLACE 100 WHERE IT IS GOOD AND WONDERFULL ISHA'"
      ]
     },
     "execution_count": 50,
     "metadata": {},
     "output_type": "execute_result"
    }
   ],
   "source": [
    "\"DISCOVERED A PLACE {1} WHERE IT IS GOOD AND WONDERFULL {0}\".format(\"ISHA\",100)  #INDEXING"
   ]
  },
  {
   "cell_type": "code",
   "execution_count": 1,
   "id": "5621b45b-6f6b-4cc4-bdc7-7700a0c652a7",
   "metadata": {},
   "outputs": [
    {
     "data": {
      "text/plain": [
       "'DISCOVERED A PLACE ISHA WHERE IT IS GOOD AND WONDERFULL 100'"
      ]
     },
     "execution_count": 1,
     "metadata": {},
     "output_type": "execute_result"
    }
   ],
   "source": [
    "\"DISCOVERED A PLACE {place} WHERE IT IS GOOD AND WONDERFULL {feedback}\".format(place = \"ISHA\",feedback = 100)"
   ]
  },
  {
   "cell_type": "code",
   "execution_count": 2,
   "id": "8d00a026-2158-42e6-bf1f-9281fdf49415",
   "metadata": {},
   "outputs": [
    {
     "name": "stdout",
     "output_type": "stream",
     "text": [
      "QUALITYS ARE FOLLOWING BRAVERY\n",
      "QUALITYS ARE FOLLOWING HONESTY\n",
      "QUALITYS ARE FOLLOWING COMMON SENSE\n"
     ]
    }
   ],
   "source": [
    "list = [\"BRAVERY\",\"HONESTY\",\"COMMON SENSE\"] \n",
    "i= 0 \n",
    "for i  in list:\n",
    "    print(\"QUALITYS ARE FOLLOWING {}\".format(i))  \n",
    "    \n",
    "    "
   ]
  },
  {
   "cell_type": "code",
   "execution_count": 56,
   "id": "93873118-d23d-4013-b046-c1da84a4d92d",
   "metadata": {},
   "outputs": [
    {
     "data": {
      "text/plain": [
       "True"
      ]
     },
     "execution_count": 56,
     "metadata": {},
     "output_type": "execute_result"
    }
   ],
   "source": [
    "#isalnum / isalpha / isdigit / isdecimal / isidentifier \n",
    "\n",
    "\"CHAR2390\".isalnum()   #ALPHANUMERIC isalpha\n"
   ]
  },
  {
   "cell_type": "code",
   "execution_count": 57,
   "id": "8bdd54a1-efec-4f8e-84c1-330426381c28",
   "metadata": {},
   "outputs": [
    {
     "data": {
      "text/plain": [
       "True"
      ]
     },
     "execution_count": 57,
     "metadata": {},
     "output_type": "execute_result"
    }
   ],
   "source": [
    "\"CHARISMATIC\".isalpha()   #ALPHABETS ONLY "
   ]
  },
  {
   "cell_type": "code",
   "execution_count": 58,
   "id": "fde3218f-6148-46c1-bc3c-1d96412ea439",
   "metadata": {},
   "outputs": [
    {
     "data": {
      "text/plain": [
       "False"
      ]
     },
     "execution_count": 58,
     "metadata": {},
     "output_type": "execute_result"
    }
   ],
   "source": [
    "\"AURA\".isdigit()"
   ]
  },
  {
   "cell_type": "code",
   "execution_count": 60,
   "id": "01b4b17c-2619-44ce-8610-bba04431d6cd",
   "metadata": {},
   "outputs": [
    {
     "data": {
      "text/plain": [
       "False"
      ]
     },
     "execution_count": 60,
     "metadata": {},
     "output_type": "execute_result"
    }
   ],
   "source": [
    "\"AR123\".isdigit() "
   ]
  },
  {
   "cell_type": "code",
   "execution_count": 62,
   "id": "a3dfb7fe-0f43-41f5-94ac-319361e5e43f",
   "metadata": {},
   "outputs": [
    {
     "data": {
      "text/plain": [
       "True"
      ]
     },
     "execution_count": 62,
     "metadata": {},
     "output_type": "execute_result"
    }
   ],
   "source": [
    "\"1234\".isdigit()"
   ]
  },
  {
   "cell_type": "code",
   "execution_count": 64,
   "id": "f9073256-5871-4c2a-b5b5-bcc4d5d0b559",
   "metadata": {},
   "outputs": [
    {
     "data": {
      "text/plain": [
       "True"
      ]
     },
     "execution_count": 64,
     "metadata": {},
     "output_type": "execute_result"
    }
   ],
   "source": [
    "\"122233\".isdecimal()"
   ]
  },
  {
   "cell_type": "code",
   "execution_count": 66,
   "id": "56900177-d6b5-4341-9515-cdb2717cd9ff",
   "metadata": {},
   "outputs": [
    {
     "data": {
      "text/plain": [
       "['THERE', 'IS', 'A', 'GALXY', 'AND', 'MANY', 'UNIVERSES']"
      ]
     },
     "execution_count": 66,
     "metadata": {},
     "output_type": "execute_result"
    }
   ],
   "source": [
    "#SPLIT \n",
    "\"THERE IS A GALXY AND MANY UNIVERSES\".split() #INTO A LIST"
   ]
  },
  {
   "cell_type": "code",
   "execution_count": 78,
   "id": "a64e3521-916b-4acf-99e9-7580e4ae9509",
   "metadata": {},
   "outputs": [
    {
     "data": {
      "text/plain": [
       "['JOIN THE ARRMY ', ' DEFEND NATION']"
      ]
     },
     "execution_count": 78,
     "metadata": {},
     "output_type": "execute_result"
    }
   ],
   "source": [
    "\"JOIN THE ARRMY AND DEFEND NATION\".split(\"AND\")   #SPLIT FROM THE GIVEN WORD "
   ]
  },
  {
   "cell_type": "code",
   "execution_count": 80,
   "id": "db299467-62ba-4ede-aae9-e7744ec4738d",
   "metadata": {},
   "outputs": [
    {
     "data": {
      "text/plain": [
       "['JOIN THE ', ' AND DEFEND NATION']"
      ]
     },
     "execution_count": 80,
     "metadata": {},
     "output_type": "execute_result"
    }
   ],
   "source": [
    "\"JOIN THE ARMY AND DEFEND NATION\".split(\"ARMY\")"
   ]
  },
  {
   "cell_type": "code",
   "execution_count": 86,
   "id": "201db78b-129d-45d8-a0d8-b15a438f3bbb",
   "metadata": {},
   "outputs": [
    {
     "data": {
      "text/plain": [
       "'HATE IS NOT ALWAYS THERE'"
      ]
     },
     "execution_count": 86,
     "metadata": {},
     "output_type": "execute_result"
    }
   ],
   "source": [
    "#REPLACE \n",
    "\"LOVE IS NOT ALWAYS THERE\".replace(\"LOVE\" , \"HATE\")"
   ]
  },
  {
   "cell_type": "code",
   "execution_count": 87,
   "id": "cc17740a-59de-40dd-89a5-f501d9e9d684",
   "metadata": {},
   "outputs": [
    {
     "data": {
      "text/plain": [
       "'LOVEluluISluluNOTluluALWAYSluluTHERE'"
      ]
     },
     "execution_count": 87,
     "metadata": {},
     "output_type": "execute_result"
    }
   ],
   "source": [
    "\"LOVE IS NOT ALWAYS THERE\".replace(\" \" , \"lulu\") "
   ]
  },
  {
   "cell_type": "code",
   "execution_count": 89,
   "id": "643be81f-10b6-4d1c-87c8-057d8204c4bd",
   "metadata": {},
   "outputs": [
    {
     "data": {
      "text/plain": [
       "'L--O--V--E-- --I--S-- --A--L--W--A--Y--S-- --T--H--E--R--E'"
      ]
     },
     "execution_count": 89,
     "metadata": {},
     "output_type": "execute_result"
    }
   ],
   "source": [
    "#JOIN \n",
    "\"--\".join(\"LOVE IS ALWAYS THERE\")"
   ]
  },
  {
   "cell_type": "code",
   "execution_count": 113,
   "id": "239309a2-02fb-4202-b73f-6b5c1af5faf9",
   "metadata": {},
   "outputs": [
    {
     "name": "stdout",
     "output_type": "stream",
     "text": [
      "LOCOMOTO-DEST-DIRECT\n",
      "4\n",
      "LOCOMOTO : AUTO\n",
      "DEST : INDRANI\n",
      "DIRECT : EAST\n",
      "USED .JOIN() function IT GIVES THIS >>>>  LOCOMOTO-DEST-DIRECT\n"
     ]
    }
   ],
   "source": [
    "dicts = {\"LOCOMOTO\":\"AUTO\",\"DEST\":\"INDRANI\",\"DIRECT\":\"EAST\"}\n",
    "\n",
    "dict_join = \"-\".join({\"LOCOMOTO\":\"AUTO\",\"DEST\":\"INDRANI\",\"DIRECT\":\"EAST\"})\n",
    "print(dict_join)\n",
    "print(len(dicts[\"LOCOMOTO\"])) \n",
    "\n",
    "for i in dicts:\n",
    "    pass\n",
    "    print(i , \":\" , dicts[i])\n",
    "    if i.endswith(\"DIRECT\"):\n",
    "        print( \"USED .JOIN() function IT GIVES THIS >>>> \", end = \" \")\n",
    "        print(dict_join)\n",
    "    "
   ]
  },
  {
   "cell_type": "code",
   "execution_count": 123,
   "id": "6304ca55-e0b8-414c-bdf3-caaedec222af",
   "metadata": {},
   "outputs": [
    {
     "data": {
      "text/plain": [
       "'loco*****pilot'"
      ]
     },
     "execution_count": 123,
     "metadata": {},
     "output_type": "execute_result"
    }
   ],
   "source": [
    "text = \"loco*****pilot\"  #strip() does not remove characters from the middle of the string\n",
    "text.strip(\"*\")   "
   ]
  },
  {
   "cell_type": "code",
   "execution_count": 124,
   "id": "dc0883e4-6f59-4e91-b4d4-3cadaa056648",
   "metadata": {},
   "outputs": [
    {
     "data": {
      "text/plain": [
       "'#####SPACE TRAVEL IS POSSIBLE'"
      ]
     },
     "execution_count": 124,
     "metadata": {},
     "output_type": "execute_result"
    }
   ],
   "source": [
    "\"#####SPACE TRAVEL IS POSSIBLE!!!!!!\".strip(\"!\")"
   ]
  },
  {
   "cell_type": "code",
   "execution_count": 125,
   "id": "c1c66176-bef2-4aef-9540-439303dfcfdc",
   "metadata": {},
   "outputs": [
    {
     "data": {
      "text/plain": [
       "'SPACE TRA#EL IS POSSIBLE!!!!!!'"
      ]
     },
     "execution_count": 125,
     "metadata": {},
     "output_type": "execute_result"
    }
   ],
   "source": [
    "\"#####SPACE TRA#EL IS POSSIBLE!!!!!!\".strip(\"#\")"
   ]
  },
  {
   "cell_type": "code",
   "execution_count": 126,
   "id": "f967fb15-1a04-4a62-a1f1-029306c81a62",
   "metadata": {},
   "outputs": [
    {
     "data": {
      "text/plain": [
       "'SPACE TRAVEL IS POSSIBLE'"
      ]
     },
     "execution_count": 126,
     "metadata": {},
     "output_type": "execute_result"
    }
   ],
   "source": [
    "\"#####SPACE TRAVEL IS POSSIBLE!!!!!!\".strip(\"!,#\")"
   ]
  },
  {
   "cell_type": "code",
   "execution_count": 127,
   "id": "49aa0107-a82c-43bf-a28a-77a733c1b4c2",
   "metadata": {},
   "outputs": [
    {
     "data": {
      "text/plain": [
       "'SPACE TRAVEL IS POSSIBLE'"
      ]
     },
     "execution_count": 127,
     "metadata": {},
     "output_type": "execute_result"
    }
   ],
   "source": [
    "\"   SPACE TRAVEL IS POSSIBLE   \".strip(\" \")"
   ]
  },
  {
   "cell_type": "code",
   "execution_count": 6,
   "id": "fc6627fd-da3f-4c02-8b14-63036876cb89",
   "metadata": {},
   "outputs": [
    {
     "name": "stdout",
     "output_type": "stream",
     "text": [
      "['FIRST ', ' IS DEVOTION TOWARDS YOUR NATION']\n"
     ]
    }
   ],
   "source": [
    "str11 = \"FIRST PRIORITY IS DEVOTION TOWARDS YOUR NATION\" \n",
    "str11.split() \n",
    "print(str11.split(\"PRIORITY\")) \n"
   ]
  },
  {
   "cell_type": "code",
   "execution_count": null,
   "id": "b09286e0-2c5c-4e61-b928-543dd4e46e8a",
   "metadata": {},
   "outputs": [],
   "source": []
  }
 ],
 "metadata": {
  "kernelspec": {
   "display_name": "Python 3 (ipykernel)",
   "language": "python",
   "name": "python3"
  },
  "language_info": {
   "codemirror_mode": {
    "name": "ipython",
    "version": 3
   },
   "file_extension": ".py",
   "mimetype": "text/x-python",
   "name": "python",
   "nbconvert_exporter": "python",
   "pygments_lexer": "ipython3",
   "version": "3.11.0"
  }
 },
 "nbformat": 4,
 "nbformat_minor": 5
}
