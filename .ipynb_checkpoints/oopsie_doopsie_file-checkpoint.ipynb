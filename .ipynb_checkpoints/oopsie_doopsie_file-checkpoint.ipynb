{
 "cells": [
  {
   "cell_type": "code",
   "execution_count": 46,
   "id": "a2f6b372-1362-42d9-a6be-bded2de44797",
   "metadata": {},
   "outputs": [],
   "source": [
    "class Atm:\n",
    "    __counter = 1 # static/class var\n",
    "    \n",
    "    def __init__(self): # `__init__` ---> Constructor\n",
    "                        # Special method inside a class.\n",
    "                        # Initializes instance members.\n",
    "                        # Executes automatically on object creation.\n",
    "\n",
    "        self.__pin = \"\"\n",
    "        self.__balance = 0\n",
    "         \n",
    "\n",
    "        self.sno = Atm.__counter # instance var\n",
    "        Atm.__counter = Atm.__counter + 1\n",
    "        print(id(self))\n",
    "        self.__menu()     #private method\n",
    "        #self.__set_pin()\n",
    "        #self.__get_pin()\n",
    "\n",
    "    #@using getter and setter methods \n",
    "    @staticmethod\n",
    "    def get_counter(self):\n",
    "        return Atm.__counter\n",
    "    \n",
    "    @staticmethod\n",
    "    def set_counter(new):\n",
    "        if type(new) == int:\n",
    "            Atm.__counter = new\n",
    "        else:\n",
    "            print('Not Allowed')\n",
    "    \n",
    "    def __get_pin(self):     #----->  Method is private \n",
    "        return self.__pin\n",
    "    \n",
    "    def __set_pin(self, new_pin):        #-------> Method is private so not accesible \n",
    "        if type(new_pin) == str:\n",
    "            self.__pin = new_pin\n",
    "            print(\"Pin changed\")\n",
    "        else:\n",
    "            print(\"Not allowed\")\n",
    "        \n",
    "    def __menu(self):\n",
    "        user_input = input(\"\"\"\n",
    "                    Hello, how would you like to proceed?\n",
    "                    1. Enter 1 to create pin\n",
    "                    2. Enter 2 to deposit\n",
    "                    3. Enter 3 to withdraw\n",
    "                    4. Enter 4 to check balance\n",
    "                    5. Enter 5 to exit\n",
    "        \"\"\")\n",
    "        if user_input == \"1\":\n",
    "            self.create_pin()\n",
    "        elif user_input == \"2\":\n",
    "            self.deposit()\n",
    "        elif user_input == \"3\":\n",
    "            self.withdraw()\n",
    "        elif user_input == \"4\":\n",
    "            self.check_balance()\n",
    "        else:\n",
    "            print(\"bye\")\n",
    "            \n",
    "    def create_pin(self): \n",
    "        self.__pin = self.__set_pin(input(\"Enter your pin: \"))   # ---> To access the the private method set_pin() \n",
    "        print(\"Pin set successfully\")                            #I have encase it liked this usind name mangling      \n",
    "        #In practice, it’s recommended to keep them private \n",
    "        #and only call them inside your class methods (create_pin, deposit, etc.). \n",
    "        #External code shouldn’t call __get_pin or __set_pin \n",
    "        #directly unless you really want to break encapsulation.\n",
    "        \n",
    "    def deposit(self):\n",
    "        temp = input(\"Enter your pin: \")\n",
    "        if temp == self.__pin:\n",
    "            amount = int(input(\"Enter the amount: \"))\n",
    "            self.__balance = self.__balance + amount\n",
    "            print(\"Deposit successful\")\n",
    "        else:\n",
    "            print(\"Invalid pin\")\n",
    "    \n",
    "    def withdraw(self): \n",
    "        temp = input(\"Enter your pin: \")\n",
    "        if temp == self.__pin:\n",
    "            amount = int(input(\"Enter the amount: \"))\n",
    "            if amount <= self.__balance:\n",
    "                self.__balance = self.__balance - amount\n",
    "                print(\"Operation successful\")\n",
    "            else:\n",
    "                print(\"insufficient funds\")\n",
    "        else:\n",
    "            print(\"invalid pin\")\n",
    "    \n",
    "    def check_balance(self):\n",
    "        temp = input(\"Enter your pin: \")\n",
    "        if temp == self.__pin:\n",
    "            print(self.__balance)\n",
    "        else:\n",
    "            print(\"invalid pin\")\n"
   ]
  },
  {
   "cell_type": "code",
   "execution_count": 48,
   "id": "f1c4127b-5a5d-47eb-a9c9-1876dd978791",
   "metadata": {
    "scrolled": true
   },
   "outputs": [
    {
     "ename": "TypeError",
     "evalue": "Atm.__init__() takes 1 positional argument but 2 were given",
     "output_type": "error",
     "traceback": [
      "\u001b[31m---------------------------------------------------------------------------\u001b[39m",
      "\u001b[31mTypeError\u001b[39m                                 Traceback (most recent call last)",
      "\u001b[36mCell\u001b[39m\u001b[36m \u001b[39m\u001b[32mIn[48]\u001b[39m\u001b[32m, line 1\u001b[39m\n\u001b[32m----> \u001b[39m\u001b[32m1\u001b[39m Union = \u001b[43mAtm\u001b[49m\u001b[43m(\u001b[49m\u001b[32;43m2323\u001b[39;49m\u001b[43m)\u001b[49m\n",
      "\u001b[31mTypeError\u001b[39m: Atm.__init__() takes 1 positional argument but 2 were given"
     ]
    }
   ],
   "source": [
    "Union = Atm()\n"
   ]
  },
  {
   "cell_type": "code",
   "execution_count": 71,
   "id": "3bfe2a24-29ca-4877-bb56-309d5be4e07a",
   "metadata": {},
   "outputs": [
    {
     "name": "stdout",
     "output_type": "stream",
     "text": [
      "Pin changed\n"
     ]
    }
   ],
   "source": [
    "#Accesing a private method---->set_pin() , get_pin() \n",
    "#thorugh create_pin() \n",
    "#When you make getter and setter private (by using __ prefix),\n",
    "#they become name-mangled in Python.\n",
    "#That means you cannot directly call them like obj.__get_pin() \n",
    "#because Python renames them internally.\n",
    "\n",
    "Union._Atm__set_pin(\"balls\")    "
   ]
  },
  {
   "cell_type": "code",
   "execution_count": 59,
   "id": "574ca95b-1f34-4d49-b47a-932bf43d9073",
   "metadata": {},
   "outputs": [
    {
     "name": "stdin",
     "output_type": "stream",
     "text": [
      "Enter your pin:  12\n",
      "Enter the amount:  234\n"
     ]
    },
    {
     "name": "stdout",
     "output_type": "stream",
     "text": [
      "Deposit successful\n"
     ]
    }
   ],
   "source": [
    "Union.deposit()\n"
   ]
  },
  {
   "cell_type": "code",
   "execution_count": 60,
   "id": "94945423-60be-40c8-b42e-bedc8f62c05a",
   "metadata": {},
   "outputs": [
    {
     "name": "stdin",
     "output_type": "stream",
     "text": [
      "Enter your pin:  12\n",
      "Enter the amount:  23\n"
     ]
    },
    {
     "name": "stdout",
     "output_type": "stream",
     "text": [
      "Operation successful\n"
     ]
    }
   ],
   "source": [
    "Union.withdraw()"
   ]
  },
  {
   "cell_type": "code",
   "execution_count": 34,
   "id": "57961d48-543f-4c1f-b081-78b8246203c4",
   "metadata": {},
   "outputs": [
    {
     "name": "stdin",
     "output_type": "stream",
     "text": [
      "Enter your pin:  1111\n"
     ]
    },
    {
     "name": "stdout",
     "output_type": "stream",
     "text": [
      "90000\n"
     ]
    }
   ],
   "source": [
    "Union.check_balance()"
   ]
  },
  {
   "cell_type": "code",
   "execution_count": 62,
   "id": "2407668c-881e-4bbd-9325-baaf324ea381",
   "metadata": {},
   "outputs": [
    {
     "ename": "AttributeError",
     "evalue": "'Atm' object has no attribute '__get_pin'",
     "output_type": "error",
     "traceback": [
      "\u001b[31m---------------------------------------------------------------------------\u001b[39m",
      "\u001b[31mAttributeError\u001b[39m                            Traceback (most recent call last)",
      "\u001b[36mCell\u001b[39m\u001b[36m \u001b[39m\u001b[32mIn[62]\u001b[39m\u001b[32m, line 1\u001b[39m\n\u001b[32m----> \u001b[39m\u001b[32m1\u001b[39m \u001b[43mUnion\u001b[49m\u001b[43m.\u001b[49m\u001b[43m__get_pin\u001b[49m()\n",
      "\u001b[31mAttributeError\u001b[39m: 'Atm' object has no attribute '__get_pin'"
     ]
    }
   ],
   "source": [
    "Union.__get_pin()"
   ]
  },
  {
   "cell_type": "code",
   "execution_count": 45,
   "id": "6d389760-5903-45f8-81ff-6589f97fbd59",
   "metadata": {},
   "outputs": [
    {
     "name": "stdout",
     "output_type": "stream",
     "text": [
      "Pin changed\n"
     ]
    }
   ],
   "source": [
    "Union.set_pin('ball')"
   ]
  },
  {
   "cell_type": "code",
   "execution_count": null,
   "id": "095565b6-12c5-4277-baad-3623b0d95a10",
   "metadata": {},
   "outputs": [],
   "source": [
    "Union."
   ]
  },
  {
   "cell_type": "code",
   "execution_count": 27,
   "id": "629fb31e-509d-462e-b4f9-c71da8a8dcfd",
   "metadata": {},
   "outputs": [
    {
     "name": "stdout",
     "output_type": "stream",
     "text": [
      "126856695539536\n"
     ]
    },
    {
     "name": "stdin",
     "output_type": "stream",
     "text": [
      "\n",
      "                    Hello, how would you like to proceed?\n",
      "                    1. Enter 1 to create pin\n",
      "                    2. Enter 2 to deposit\n",
      "                    3. Enter 3 to withdraw\n",
      "                    4. Enter 4 to check balance\n",
      "                    5. Enter 5 to exit\n",
      "         1\n"
     ]
    },
    {
     "ename": "TypeError",
     "evalue": "Atm.create_pin() takes 0 positional arguments but 1 was given",
     "output_type": "error",
     "traceback": [
      "\u001b[31m---------------------------------------------------------------------------\u001b[39m",
      "\u001b[31mTypeError\u001b[39m                                 Traceback (most recent call last)",
      "\u001b[36mCell\u001b[39m\u001b[36m \u001b[39m\u001b[32mIn[27]\u001b[39m\u001b[32m, line 1\u001b[39m\n\u001b[32m----> \u001b[39m\u001b[32m1\u001b[39m Union  = \u001b[43mAtm\u001b[49m\u001b[43m(\u001b[49m\u001b[43m)\u001b[49m\n",
      "\u001b[36mCell\u001b[39m\u001b[36m \u001b[39m\u001b[32mIn[24]\u001b[39m\u001b[32m, line 15\u001b[39m, in \u001b[36mAtm.__init__\u001b[39m\u001b[34m(self)\u001b[39m\n\u001b[32m     13\u001b[39m Atm.__counter = Atm.__counter + \u001b[32m1\u001b[39m\n\u001b[32m     14\u001b[39m \u001b[38;5;28mprint\u001b[39m(\u001b[38;5;28mid\u001b[39m(\u001b[38;5;28mself\u001b[39m))\n\u001b[32m---> \u001b[39m\u001b[32m15\u001b[39m \u001b[38;5;28;43mself\u001b[39;49m\u001b[43m.\u001b[49m\u001b[43m__menu\u001b[49m\u001b[43m(\u001b[49m\u001b[43m)\u001b[49m\n",
      "\u001b[36mCell\u001b[39m\u001b[36m \u001b[39m\u001b[32mIn[24]\u001b[39m\u001b[32m, line 48\u001b[39m, in \u001b[36mAtm.__menu\u001b[39m\u001b[34m(self)\u001b[39m\n\u001b[32m     39\u001b[39m user_input = \u001b[38;5;28minput\u001b[39m(\u001b[33m\"\"\"\u001b[39m\n\u001b[32m     40\u001b[39m \u001b[33m            Hello, how would you like to proceed?\u001b[39m\n\u001b[32m     41\u001b[39m \u001b[33m            1. Enter 1 to create pin\u001b[39m\n\u001b[32m   (...)\u001b[39m\u001b[32m     45\u001b[39m \u001b[33m            5. Enter 5 to exit\u001b[39m\n\u001b[32m     46\u001b[39m \u001b[33m\u001b[39m\u001b[33m\"\"\"\u001b[39m)\n\u001b[32m     47\u001b[39m \u001b[38;5;28;01mif\u001b[39;00m user_input == \u001b[33m\"\u001b[39m\u001b[33m1\u001b[39m\u001b[33m\"\u001b[39m:\n\u001b[32m---> \u001b[39m\u001b[32m48\u001b[39m     \u001b[38;5;28;43mself\u001b[39;49m\u001b[43m.\u001b[49m\u001b[43mcreate_pin\u001b[49m\u001b[43m(\u001b[49m\u001b[43m)\u001b[49m\n\u001b[32m     49\u001b[39m \u001b[38;5;28;01melif\u001b[39;00m user_input == \u001b[33m\"\u001b[39m\u001b[33m2\u001b[39m\u001b[33m\"\u001b[39m:\n\u001b[32m     50\u001b[39m     \u001b[38;5;28mself\u001b[39m.deposit()\n",
      "\u001b[31mTypeError\u001b[39m: Atm.create_pin() takes 0 positional arguments but 1 was given"
     ]
    }
   ],
   "source": [
    "Union  = Atm()"
   ]
  },
  {
   "cell_type": "code",
   "execution_count": 28,
   "id": "2d9675d9-da9e-4eb9-a323-41707b2e63b0",
   "metadata": {},
   "outputs": [
    {
     "data": {
      "text/plain": [
       "126856719319760"
      ]
     },
     "execution_count": 28,
     "metadata": {},
     "output_type": "execute_result"
    }
   ],
   "source": [
    "id(Union) \n"
   ]
  },
  {
   "cell_type": "code",
   "execution_count": 38,
   "id": "af0fd39d-196b-4402-b266-8a0b9c58b68c",
   "metadata": {},
   "outputs": [
    {
     "ename": "AttributeError",
     "evalue": "'Atm' object has no attribute '_Atm__set_pin'",
     "output_type": "error",
     "traceback": [
      "\u001b[31m---------------------------------------------------------------------------\u001b[39m",
      "\u001b[31mAttributeError\u001b[39m                            Traceback (most recent call last)",
      "\u001b[36mCell\u001b[39m\u001b[36m \u001b[39m\u001b[32mIn[38]\u001b[39m\u001b[32m, line 1\u001b[39m\n\u001b[32m----> \u001b[39m\u001b[32m1\u001b[39m sbi = \u001b[43mAtm\u001b[49m\u001b[43m(\u001b[49m\u001b[43m)\u001b[49m\n\u001b[32m      2\u001b[39m \u001b[38;5;28mid\u001b[39m(sbi)\n\u001b[32m      3\u001b[39m \u001b[38;5;66;03m#sbi == self\u001b[39;00m\n",
      "\u001b[36mCell\u001b[39m\u001b[36m \u001b[39m\u001b[32mIn[37]\u001b[39m\u001b[32m, line 11\u001b[39m, in \u001b[36mAtm.__init__\u001b[39m\u001b[34m(self)\u001b[39m\n\u001b[32m      9\u001b[39m \u001b[38;5;28mself\u001b[39m.__pin = \u001b[33m\"\u001b[39m\u001b[33m\"\u001b[39m\n\u001b[32m     10\u001b[39m \u001b[38;5;28mself\u001b[39m.__balance = \u001b[32m0\u001b[39m\n\u001b[32m---> \u001b[39m\u001b[32m11\u001b[39m \u001b[38;5;28;43mself\u001b[39;49m\u001b[43m.\u001b[49m\u001b[43m__set_pin\u001b[49m(\u001b[38;5;28mself\u001b[39m,newpin) \n\u001b[32m     12\u001b[39m \u001b[38;5;28mself\u001b[39m.__get_pin(\u001b[38;5;28mself\u001b[39m) \n\u001b[32m     14\u001b[39m \u001b[38;5;28mself\u001b[39m.sno = Atm.__counter \u001b[38;5;66;03m# instance var\u001b[39;00m\n",
      "\u001b[31mAttributeError\u001b[39m: 'Atm' object has no attribute '_Atm__set_pin'"
     ]
    }
   ],
   "source": [
    "sbi = Atm()\n",
    "id(sbi)\n",
    "#sbi == self\n",
    "sbi.get_pin()"
   ]
  },
  {
   "cell_type": "code",
   "execution_count": 23,
   "id": "3db650f7-3e85-4a1b-8d3c-5235cc5465c9",
   "metadata": {},
   "outputs": [
    {
     "name": "stdout",
     "output_type": "stream",
     "text": [
      "126856695561680\n"
     ]
    },
    {
     "name": "stdin",
     "output_type": "stream",
     "text": [
      "\n",
      "                    Hello, how would you like to proceed?\n",
      "                    1. Enter 1 to create pin\n",
      "                    2. Enter 2 to deposit\n",
      "                    3. Enter 3 to withdraw\n",
      "                    4. Enter 4 to check balance\n",
      "                    5. Enter 5 to exit\n",
      "         1\n",
      "Enter your pin:  8900\n"
     ]
    },
    {
     "name": "stdout",
     "output_type": "stream",
     "text": [
      "Pin set successfully\n"
     ]
    },
    {
     "data": {
      "text/plain": [
       "126856695561680"
      ]
     },
     "execution_count": 23,
     "metadata": {},
     "output_type": "execute_result"
    }
   ],
   "source": [
    "Rbi = Atm() \n",
    "id(Rbi) \n",
    "#Rbi == self"
   ]
  },
  {
   "cell_type": "code",
   "execution_count": 32,
   "id": "8c07050a-a62d-4934-a43d-ba18c5b290e8",
   "metadata": {},
   "outputs": [],
   "source": [
    "#SELF :   SBI , UNION, Rbi he SELF hai all these are object of  class ATM and the Data and mehtod \n",
    "#inside the class can only be aceesed by an object belonging to that class SO, \n",
    "#THE 'SELF'  is passed as an parameter in every method  to access it and its data . \n",
    "#If a self is removed from method then it gives : TypeError: Atm.create_pin() takes 0 positional arguments but 1 was given\n"
   ]
  },
  {
   "cell_type": "code",
   "execution_count": 55,
   "id": "5e2eb4ee-05bb-413c-a597-7b80827f8e84",
   "metadata": {},
   "outputs": [
    {
     "data": {
      "text/plain": [
       "\"self refers to the current object instance.\\n\\nThe need of self\\nclass holds data & methods; access via object.\\n\\nself refers to current object; needed for inter-method/data access within a class.\\n\\nMethods can't access other methods/data directly without self.  \""
      ]
     },
     "execution_count": 55,
     "metadata": {},
     "output_type": "execute_result"
    }
   ],
   "source": [
    "\"\"\"self refers to the current object instance.\n",
    "\n",
    "The need of self\n",
    "class holds data & methods; access via object.\n",
    "\n",
    "self refers to current object; needed for inter-method/data access within a class.\n",
    "\n",
    "Methods can't access other methods/data directly without self.  \"\"\""
   ]
  },
  {
   "cell_type": "code",
   "execution_count": 5,
   "id": "f68f6577-b675-44ea-9d5f-ca03d72d2dd8",
   "metadata": {},
   "outputs": [],
   "source": [
    "class fractions:\n",
    "\n",
    "    #constructor \n",
    "    def __init__(self,n,d):\n",
    "        self.num  = n\n",
    "        self.den = d\n",
    "\n",
    "        \n",
    "    def __add__(self,other):\n",
    "        addition = self.num*other.den + other.num*self.den \n",
    "        addition1 =  self.den * other.den\n",
    "        result = addition/addition1\n",
    "        print(\"addition\")\n",
    "        return \"{}/{} = {}\".format(addition ,addition1 ,result) \n",
    "\n",
    "    def __div__(self,other):\n",
    "        #2/3//4/3 == 2*3 , 3*4\n",
    "\n",
    "        div1 = self.num*other.den\n",
    "        div2 = self.den * other.num\n",
    "        print(\"Division\")\n",
    "        return \"{}/{}\".format(self.num , self.den) \n",
    "\n",
    "        \n",
    "    \n",
    "    def __str__(self): \n",
    "        #return \"{}/{} ______ {}/{}   == {}\".format(self.num,self.den , self.ans,self.den2,self.final)\n",
    "        print(\"Displaying strings\") \n",
    "        return \"{}/{}\".format(self.num , self.den) \n",
    "        \n",
    "        \n",
    "    "
   ]
  },
  {
   "cell_type": "code",
   "execution_count": 6,
   "id": "14f75caf-5a33-460f-a7d7-a58bb18ebb2f",
   "metadata": {},
   "outputs": [
    {
     "name": "stdout",
     "output_type": "stream",
     "text": [
      "Displaying strings\n",
      "Displaying strings\n",
      "Displaying strings\n",
      "5/2/6/3\n",
      "addition\n",
      "27/6 = 4.5\n",
      "addition\n",
      "87.6/54.0 = 1.622222222222222\n",
      "Displaying strings\n",
      "5/2 Displaying strings\n",
      "6/3 Displaying strings\n",
      "5.6/9.0 Displaying strings\n",
      "6/6\n"
     ]
    }
   ],
   "source": [
    "math1 = fractions(5,2)\n",
    "math2 = fractions(6,3)\n",
    "math =fractions(math1,math2) \n",
    "print(math)\n",
    "print(math1+math2)\n",
    "\n",
    "math3 = fractions(5.6,9.00) \n",
    "math4 = fractions(6,6) \n",
    "print(math3 + math4)\n",
    "\n",
    "print(math1,math2,math3,math4)"
   ]
  },
  {
   "cell_type": "code",
   "execution_count": 3,
   "id": "d4a7a018-888d-457c-8a7e-761f0ff44501",
   "metadata": {},
   "outputs": [
    {
     "name": "stdout",
     "output_type": "stream",
     "text": [
      "30/6 = 5.0\n"
     ]
    }
   ],
   "source": [
    "a= fractions(4,2) \n",
    "b = fractions(9,3)  \n",
    "print(a+b) "
   ]
  },
  {
   "cell_type": "code",
   "execution_count": 4,
   "id": "7aaf8679-0830-4ff5-8140-004d42fe798c",
   "metadata": {},
   "outputs": [
    {
     "name": "stdout",
     "output_type": "stream",
     "text": [
      "14/1 = 14.0\n"
     ]
    }
   ],
   "source": [
    "x = fractions(5,1)     \n",
    "y= fractions(9,1)      \n",
    "print(x+y)"
   ]
  },
  {
   "cell_type": "code",
   "execution_count": 17,
   "id": "4b60ffcf-e7c6-4363-bf46-6de02b31dc1b",
   "metadata": {},
   "outputs": [
    {
     "name": "stdout",
     "output_type": "stream",
     "text": [
      "136149479253072\n"
     ]
    },
    {
     "name": "stdin",
     "output_type": "stream",
     "text": [
      "\n",
      "                    Hello, how would you like to proceed?\n",
      "                    1. Enter 1 to create pin\n",
      "                    2. Enter 2 to deposit\n",
      "                    3. Enter 3 to withdraw\n",
      "                    4. Enter 4 to check balance\n",
      "                    5. Enter 5 to exit\n",
      "         1\n",
      "Enter your pin:  1234\n"
     ]
    },
    {
     "name": "stdout",
     "output_type": "stream",
     "text": [
      "Pin set successfully\n"
     ]
    },
    {
     "name": "stdin",
     "output_type": "stream",
     "text": [
      "Enter your pin:  1234\n",
      "Enter the amount:  sadsad\n"
     ]
    },
    {
     "ename": "ValueError",
     "evalue": "invalid literal for int() with base 10: 'sadsad'",
     "output_type": "error",
     "traceback": [
      "\u001b[31m---------------------------------------------------------------------------\u001b[39m",
      "\u001b[31mValueError\u001b[39m                                Traceback (most recent call last)",
      "\u001b[36mCell\u001b[39m\u001b[36m \u001b[39m\u001b[32mIn[17]\u001b[39m\u001b[32m, line 24\u001b[39m\n\u001b[32m     19\u001b[39m \u001b[38;5;66;03m# Method,variable can be private \u001b[39;00m\n\u001b[32m     20\u001b[39m \n\u001b[32m     21\u001b[39m \u001b[38;5;66;03m#e.g., \u001b[39;00m\n\u001b[32m     23\u001b[39m nidhi  = Atm()\n\u001b[32m---> \u001b[39m\u001b[32m24\u001b[39m \u001b[43mnidhi\u001b[49m\u001b[43m.\u001b[49m\u001b[43mdeposit\u001b[49m\u001b[43m(\u001b[49m\u001b[43m)\u001b[49m\n\u001b[32m     26\u001b[39m \u001b[38;5;66;03m#Private \u001b[39;00m\n\u001b[32m     27\u001b[39m \u001b[38;5;66;03m#Int the above code : .self.pin  and self.amount\u001b[39;00m\n\u001b[32m     28\u001b[39m \u001b[38;5;66;03m#these above 2 are called as instance variables \u001b[39;00m\n",
      "\u001b[36mCell\u001b[39m\u001b[36m \u001b[39m\u001b[32mIn[16]\u001b[39m\u001b[32m, line 66\u001b[39m, in \u001b[36mAtm.deposit\u001b[39m\u001b[34m(self)\u001b[39m\n\u001b[32m     64\u001b[39m temp = \u001b[38;5;28minput\u001b[39m(\u001b[33m\"\u001b[39m\u001b[33mEnter your pin: \u001b[39m\u001b[33m\"\u001b[39m)\n\u001b[32m     65\u001b[39m \u001b[38;5;28;01mif\u001b[39;00m temp == \u001b[38;5;28mself\u001b[39m.__pin:\n\u001b[32m---> \u001b[39m\u001b[32m66\u001b[39m     amount = \u001b[38;5;28;43mint\u001b[39;49m\u001b[43m(\u001b[49m\u001b[38;5;28;43minput\u001b[39;49m\u001b[43m(\u001b[49m\u001b[33;43m\"\u001b[39;49m\u001b[33;43mEnter the amount: \u001b[39;49m\u001b[33;43m\"\u001b[39;49m\u001b[43m)\u001b[49m\u001b[43m)\u001b[49m\n\u001b[32m     67\u001b[39m     \u001b[38;5;28mself\u001b[39m.__balance = \u001b[38;5;28mself\u001b[39m.__balance + amount\n\u001b[32m     68\u001b[39m     \u001b[38;5;28mprint\u001b[39m(\u001b[33m\"\u001b[39m\u001b[33mDeposit successful\u001b[39m\u001b[33m\"\u001b[39m)\n",
      "\u001b[31mValueError\u001b[39m: invalid literal for int() with base 10: 'sadsad'"
     ]
    }
   ],
   "source": [
    "## instance variable: Variables made inside the Calss \n",
    "#each object has different value inside instance variable ex.: self.pin , self.balance --->instance varaible\n",
    "#these 2 variable will be different for every account and will be present in each account \n",
    "#they can access the data and method inside the overall class\n",
    "\n",
    "#Using double underscore'__' as \"self.__pin\" , \"self.__balance\"  I t makes the instance varaibles/members private and cannot be accessed by the user of the class\n",
    "#it is important because no onse should mess with the the balance and pin of an account as it is confidentai informations and so it is not allowed to change by anybode \n",
    "#IF in deposit we insert a string and we try to deposit money next time then it will give error to avoid such things it is important to make these private \n",
    "\n",
    "\"\"\" ENCAPSULATION\n",
    "Instance Variable\n",
    "Unique value per object.\n",
    "\n",
    "Defined inside the constructor (e.g., self.pin, self.balance).\n",
    "\n",
    "Different values for each object. \"\"\"\n",
    "\n",
    "\n",
    "# Method,variable can be private \n",
    "\n",
    "#e.g., \n",
    "\n",
    "nidhi  = Atm()\n",
    "nidhi.deposit()\n",
    "\n",
    "#Private \n",
    "#Int the above code : .self.pin  and self.amount\n",
    "#these above 2 are called as instance variables "
   ]
  },
  {
   "cell_type": "code",
   "execution_count": 18,
   "id": "4c6e0f6c-964b-437e-8ec9-e06cfb1b198f",
   "metadata": {},
   "outputs": [
    {
     "name": "stdin",
     "output_type": "stream",
     "text": [
      "Enter your pin:  1234\n",
      "Enter the amount:  564\n"
     ]
    },
    {
     "name": "stdout",
     "output_type": "stream",
     "text": [
      "Deposit successful\n"
     ]
    }
   ],
   "source": [
    "nidhi.deposit()"
   ]
  },
  {
   "cell_type": "code",
   "execution_count": 20,
   "id": "6f65648b-8923-4107-95ed-ea5868d7c212",
   "metadata": {},
   "outputs": [
    {
     "name": "stdin",
     "output_type": "stream",
     "text": [
      "Enter your pin:  12345\n"
     ]
    },
    {
     "name": "stdout",
     "output_type": "stream",
     "text": [
      "invalid pin\n"
     ]
    }
   ],
   "source": [
    "nidhi.check_balance()"
   ]
  },
  {
   "cell_type": "code",
   "execution_count": 21,
   "id": "85ab5f41-6e81-40c5-aae7-d810353dd7a2",
   "metadata": {},
   "outputs": [
    {
     "name": "stdin",
     "output_type": "stream",
     "text": [
      "Enter your pin:  1234\n",
      "Enter the amount:  564\n"
     ]
    },
    {
     "name": "stdout",
     "output_type": "stream",
     "text": [
      "Deposit successful\n"
     ]
    }
   ],
   "source": [
    "nidhi.deposit()"
   ]
  },
  {
   "cell_type": "code",
   "execution_count": 23,
   "id": "5e8ff071-3e02-403e-a84d-48cbad17ca43",
   "metadata": {},
   "outputs": [
    {
     "name": "stdin",
     "output_type": "stream",
     "text": [
      "Enter your pin:  AA\n"
     ]
    },
    {
     "name": "stdout",
     "output_type": "stream",
     "text": [
      "invalid pin\n"
     ]
    }
   ],
   "source": [
    "nidhi.check_balance()"
   ]
  },
  {
   "cell_type": "code",
   "execution_count": 278,
   "id": "734b015c-d5ab-469d-aa01-9d7f2528a310",
   "metadata": {},
   "outputs": [],
   "source": [
    "#IF PRIVATE WAS NOT USED THEN IN DEPOSIT \n",
    "\n",
    "\"\"\"# Class Data Encapsulation:\n",
    "\n",
    "Data should not be left exposed in a class.\n",
    "\n",
    "Java   ---> Use access modifiers (e.g., `private`) to hide data.\n",
    "\n",
    "Python ---> Use `__` prefix (e.g., `self.__pin`, `self.__balance`) for data hiding.\n",
    " \"\"\"\n",
    "\n",
    "\n",
    "#Pyhton prespective for --->  \"self.__pin\" ~~~~> \"_Atm__pin\" .      \n",
    "#IF we write in code \"sbi.__pin=1122\" , then this will create another VARIABLE inside the class but \n",
    "#will have no effect on the original \"self.__pin\" instance variable that is being use all over the code here. \n",
    "\n",
    "#BUT if we  write \"sbi._Atm__pin = \"sdadasdasd\"  this will change the actual variable taht is  being used all oer the code ,\n",
    "\n",
    "\"\"\"\n",
    " Python Variable Privacy:\n",
    "\n",
    "`__balance` ---> Name-mangled to `_Atm__balance`.\n",
    "\n",
    "_Truly private_ is not a concept in Python.\n",
    "\n",
    "`__balance` is _pseudo-private_, but accessible via `_Atm__balance` if known.\n",
    "\"\"\"\n",
    "\n",
    "\"\"\"\n",
    "`__balance` ---> `_Atm__balance` (name mangling)\n",
    "\n",
    "`sbi.__balance` = `\"\"`, creates `__balance` in `Atm` but unused.\n",
    "\n",
    "`__balance` not used; `_Atm__balance` is used.\n",
    "\n",
    "`__balance` creation doesn't affect code logic due to `__balance` not being utilized.\n",
    "\n",
    "Code logic remains unchanged; class functionality remains unaffected.\n",
    "\"\"\"\n",
    "\n",
    "\n",
    "\n",
    "#In python there is nothing TRULY PRIVATE  Beacuse It is used by ADULTS . \n",
    "\n",
    "\n",
    "#DATA member is HIDDEN USING DOUBLE UNDERSCORE \n",
    "\n",
    "#NOW IF WE WANT TO GIVE ACCES WE CAN GIVE IT BY USNING THESE 2 METHODS :  \n",
    "   # 1} setter  set_pin()  \n",
    "    #2} getter  get_pin() \n",
    "\n",
    "\"\"\" Whats the purpose of `get` and `set` functions if,\n",
    "`sbi.set_pin` & `sbi.pin` ---> Same functionality\n",
    "\n",
    "Purpose ---> Hide Data & Control Access (Encapsulation)\n",
    "\n",
    "controlled access (sbi.get_pin/sbi.set_pin) vs. direct access (sbi.pin)\n",
    "\n",
    "Input values are processed through functions this allows logical control over data.\"\"\""
   ]
  },
  {
   "cell_type": "code",
   "execution_count": 73,
   "id": "f9897f80-afd3-46c3-ae6a-9ded11154cd3",
   "metadata": {},
   "outputs": [],
   "source": [
    "def get_pin(self):\n",
    "    return self.__pin \n",
    "def set_pin(self,new_pin):\n",
    "    if type(new_pin) == string:\n",
    "        if len(new_pin) == 3:\n",
    "            self.__pin = new_pin \n",
    "            print(\"new pin set successfully\")\n",
    "    else:\n",
    "        print(\"INVALID PIN\") \n",
    "        "
   ]
  },
  {
   "cell_type": "code",
   "execution_count": 74,
   "id": "b46b268b-2ec8-4859-93e8-a81ba822dbbe",
   "metadata": {},
   "outputs": [
    {
     "data": {
      "text/plain": [
       "'call'"
      ]
     },
     "execution_count": 74,
     "metadata": {},
     "output_type": "execute_result"
    }
   ],
   "source": [
    "nidhi.get_pin()"
   ]
  },
  {
   "cell_type": "code",
   "execution_count": 75,
   "id": "931cc956-9fb6-43f3-a946-0a491ec581c1",
   "metadata": {},
   "outputs": [
    {
     "name": "stdout",
     "output_type": "stream",
     "text": [
      "Pin changed\n"
     ]
    }
   ],
   "source": [
    "nidhi.set_pin(\"call\") "
   ]
  },
  {
   "cell_type": "code",
   "execution_count": 76,
   "id": "ad3cdb8d-1900-41f6-9f52-658e8744e2d9",
   "metadata": {},
   "outputs": [
    {
     "data": {
      "text/plain": [
       "'call'"
      ]
     },
     "execution_count": 76,
     "metadata": {},
     "output_type": "execute_result"
    }
   ],
   "source": [
    "nidhi.get_pin()\n"
   ]
  },
  {
   "cell_type": "code",
   "execution_count": 77,
   "id": "76c5b545-a15e-4adb-b3ca-d942d56850c5",
   "metadata": {},
   "outputs": [
    {
     "name": "stdin",
     "output_type": "stream",
     "text": [
      "Enter your pin:  \n"
     ]
    },
    {
     "name": "stdout",
     "output_type": "stream",
     "text": [
      "Invalid pin\n"
     ]
    }
   ],
   "source": [
    "nidhi.deposit()"
   ]
  },
  {
   "cell_type": "code",
   "execution_count": 36,
   "id": "d6e2282c-d243-4022-a230-64d9aef5cd2e",
   "metadata": {},
   "outputs": [
    {
     "name": "stdin",
     "output_type": "stream",
     "text": [
      "Enter your pin:  call\n"
     ]
    },
    {
     "name": "stdout",
     "output_type": "stream",
     "text": [
      "1362\n"
     ]
    }
   ],
   "source": [
    "nidhi.check_balance()"
   ]
  },
  {
   "cell_type": "code",
   "execution_count": null,
   "id": "3e27131e-f996-4a5e-bd61-e49e972b634f",
   "metadata": {},
   "outputs": [],
   "source": []
  },
  {
   "cell_type": "code",
   "execution_count": 1,
   "id": "b13b8b07-4d4a-490e-944d-730a2aa62f59",
   "metadata": {},
   "outputs": [
    {
     "ename": "NameError",
     "evalue": "name 'ATM' is not defined",
     "output_type": "error",
     "traceback": [
      "\u001b[31m---------------------------------------------------------------------------\u001b[39m",
      "\u001b[31mNameError\u001b[39m                                 Traceback (most recent call last)",
      "\u001b[36mCell\u001b[39m\u001b[36m \u001b[39m\u001b[32mIn[1]\u001b[39m\u001b[32m, line 2\u001b[39m\n\u001b[32m      1\u001b[39m \u001b[38;5;66;03m#REFRENCE VARIABLE \u001b[39;00m\n\u001b[32m----> \u001b[39m\u001b[32m2\u001b[39m sbi=\u001b[43mATM\u001b[49m()\n\u001b[32m      3\u001b[39m \u001b[38;5;66;03m#sbi >>> refrence variable \u001b[39;00m\n",
      "\u001b[31mNameError\u001b[39m: name 'ATM' is not defined"
     ]
    }
   ],
   "source": [
    "#REFRENCE VARIABLE \n",
    "sbi=Atm()\n",
    "#sbi >>> refrence variable >>>>> sbi variable is just storing the adrress of the actuall class, \n",
    "#hence called a refrence variable and not an object "
   ]
  },
  {
   "cell_type": "code",
   "execution_count": 3,
   "id": "cf3d105a-4478-44f1-8ad8-1fcab7046619",
   "metadata": {},
   "outputs": [
    {
     "data": {
      "text/plain": [
       "'\\nreference ---> `sbi`\\nobject    ---> `Atm()`\\n\\n`sbi` ≠ object\\n`sbi` is a reference variable\\n`sbi` points to the memory address of the actual object `Atm()`\\n\\n'"
      ]
     },
     "execution_count": 3,
     "metadata": {},
     "output_type": "execute_result"
    }
   ],
   "source": [
    "#CALL BY REFRENCE \n",
    "# Reference vs. Object:\n",
    "\"\"\"\n",
    "reference ---> `sbi`\n",
    "object    ---> `Atm()`\n",
    "\n",
    "`sbi` ≠ object\n",
    "`sbi` is a reference variable\n",
    "`sbi` points to the memory address of the actual object `Atm()`\n",
    "\n",
    "\"\"\""
   ]
  },
  {
   "cell_type": "code",
   "execution_count": 11,
   "id": "8530e1ff-c8a1-4e38-819c-985c8a21892e",
   "metadata": {},
   "outputs": [
    {
     "name": "stdout",
     "output_type": "stream",
     "text": [
      "134815895970960\n"
     ]
    },
    {
     "name": "stdin",
     "output_type": "stream",
     "text": [
      "\n",
      "                    Hello, how would you like to proceed?\n",
      "                    1. Enter 1 to create pin\n",
      "                    2. Enter 2 to deposit\n",
      "                    3. Enter 3 to withdraw\n",
      "                    4. Enter 4 to check balance\n",
      "                    5. Enter 5 to exit\n",
      "         as\n"
     ]
    },
    {
     "name": "stdout",
     "output_type": "stream",
     "text": [
      "bye\n",
      "134815895970960\n"
     ]
    }
   ],
   "source": [
    "print(id(Atm()))   "
   ]
  },
  {
   "cell_type": "code",
   "execution_count": 12,
   "id": "a4a350c5-21b7-4ac5-a36d-5ae259e3de96",
   "metadata": {},
   "outputs": [
    {
     "name": "stdout",
     "output_type": "stream",
     "text": [
      "134815897252176\n"
     ]
    },
    {
     "name": "stdin",
     "output_type": "stream",
     "text": [
      "\n",
      "                    Hello, how would you like to proceed?\n",
      "                    1. Enter 1 to create pin\n",
      "                    2. Enter 2 to deposit\n",
      "                    3. Enter 3 to withdraw\n",
      "                    4. Enter 4 to check balance\n",
      "                    5. Enter 5 to exit\n",
      "         as\n"
     ]
    },
    {
     "name": "stdout",
     "output_type": "stream",
     "text": [
      "bye\n",
      "134815897252176\n"
     ]
    }
   ],
   "source": [
    "coop = Atm() \n",
    "print(id(coop)) "
   ]
  },
  {
   "cell_type": "code",
   "execution_count": 13,
   "id": "eb563016-2b03-4b5d-adc5-7fb4230c779e",
   "metadata": {},
   "outputs": [],
   "source": [
    "#coop is pointing to the adress where the Atm() object is stored \n",
    "#SO it is  a refreence variable and not an object technically \n",
    "#call this refrence variable to  access the object ATM() where it is located      "
   ]
  },
  {
   "cell_type": "code",
   "execution_count": 206,
   "id": "f27dbfc1-b7de-4a3b-87d6-a9498b7c9fae",
   "metadata": {},
   "outputs": [],
   "source": [
    "import copy\n",
    "class Customer:\n",
    "   #@class/static variable \n",
    "    __srno = 0\n",
    "    \n",
    "    \n",
    "    \n",
    "    def __init__(self,name,gender,item_name, price,adress):\n",
    "        Customer.__srno +=1 \n",
    "        self.srno = Customer.__srno \n",
    "        \n",
    "        self.name= name      \n",
    "        self.gender= gender \n",
    "        self.item_name= item_name \n",
    "        self.price= price \n",
    "        self.adress = adress \n",
    "        \n",
    "        \n",
    "    @staticmethod    \n",
    "    def counter():\n",
    "        return Customer.__srno\n",
    "\n",
    "    def get_srno():\n",
    "        return Customer.__srno\n",
    "    def set_srno(new):\n",
    "        if type(new) == int:\n",
    "            Customer.__srno= new\n",
    "        return Customer.__srno \n",
    "\"\"\" @staticmethod --->  static/class variable >>>these are defined and declared outside constructor (__init__) >>>>> inside a class \n",
    "                        >>>>>>when a method is dealing with these static variables only.   It doen not requires \"self\" passed as parameter inside the method \n",
    "                        >>>>>>and it is kept empty e.g.-->class Atm() >>> def get_counter():                def set_counter(new):\n",
    "                                                                                return Atm.__counter               Atm.__counter = new  \n",
    "                        >>>>>>>here there is no requirement of (self.__counter) and def get__counter(self):        return Atm.__counter    \n",
    "                        >>>>>>>to acces the method and static variable >>>>this is called as static method denoted:@staticmethod \n",
    "                        >>>>>>> To access the static/class variable USE:>>>>> Class_name.static_variable\n",
    "                        >>>>>>> To access a instance variable USE:>>>>>> self.instance_varaible \n",
    "\"\"\"    \n",
    "\n",
    "class Adress:       #>>>AGGREGATION RELATIONSHIP CUSTOMER HAS-A ADRESS \n",
    "    def __init__(self,state,city,pin):\n",
    "        self.state = state \n",
    "        self.city = city \n",
    "        self.pin = pin \n",
    "            \n",
    "    \n",
    "    \n",
    "def store_items_availibility(items):\n",
    "    #EFFICIENT CODE : \n",
    "    customer_list_of_items = items.item_name  \n",
    "    \n",
    "    store_item_list = {\n",
    "    \"Groundnuts\": \"yes\",\n",
    "    \"coconuts\": \"no\",\n",
    "    \"Grren Tea\": \"yes\",\n",
    "    \"oil\": \"yes\",\n",
    "    \"Sugar\": \"no\",\n",
    "    \"Sugarcane\": \"no\",\n",
    "    \"Toothpaste\": \"yes\",\n",
    "    \"Dettol\": \"yes\",\n",
    "    \"Cotton\": \"yes\",\n",
    "    \"Milk\": \"yes\"\n",
    "    }\n",
    "    \n",
    "    availability = {item: store_item_list.get(item,\"not found\") for item in customer_list_of_items}\n",
    "    print(items.srno ,availability)\n",
    "    \n",
    "    \"\"\" \n",
    "    item_status = [] \n",
    "        \n",
    "    for i in items.item_name:\n",
    "        print(i)\n",
    "        for key,value in store_item_list.items():\n",
    "            if i == key:\n",
    "                if value==\"yes\":\n",
    "                    item_status.append(value) \n",
    "                    item_status.append(key) \n",
    "                if value==\"no\":\n",
    "                    item_status.append(value)\n",
    "                    item_status.append(key) \n",
    "    return item_status  \n",
    "        \"\"\"\n",
    "\n",
    "def greets(customer):  #Class Object as Argument: Pass own class objects as function arguments.\n",
    "\n",
    "    \n",
    "    \n",
    "     def greets_changes_original_object_through_inside_function(customer):\n",
    "        customer.name = \"liaz\" #inside a funciton the original object is being changed to prevent that we need to clone the original data and pass the duplicate object\n",
    "        customer.item_name.append(\"carrots\") #verify by the id original and clone object has different ids . So changes made in clone onject will not \n",
    "        customer.price.append(30)  # change the original object data . \n",
    "        customer.gender = \"Male\" \n",
    "        \n",
    "    \n",
    "     #greets_changes_original_object_through_inside_function(customer)\n",
    "     #customer.name = \"komal\"\n",
    "     #customer.item_name.append(\"mathcbox\")\n",
    "     \n",
    "     if customer.gender == \"Male\":\n",
    "         print(f\"welcome {customer.name} Sir Customer id {customer.srno}\",end=\"\\n\\n\")\n",
    "     if customer.gender ==\"Female\":\n",
    "         print(f\"Welcome {customer.name} Mam Customer id {customer.srno}\",end = \"\\n\\n\") \n",
    "     if customer.gender == \"trans\":\n",
    "         print(f\"Welcome {customer.name} he/she Customer id is {customer.srno}\",end =\"\\n\\n\")   \n",
    "\n",
    "    \n",
    "    \n",
    "    \n",
    "     print(f\" {customer.srno}  list:\") \n",
    "     return customer.item_name, customer.price #Function can Return class object \n",
    "    \n"
   ]
  },
  {
   "cell_type": "code",
   "execution_count": 207,
   "id": "bc45b80f-e3fe-4df3-9672-cc03b72406cd",
   "metadata": {},
   "outputs": [
    {
     "name": "stdout",
     "output_type": "stream",
     "text": [
      "Welcome carel Mam Customer id 1\n",
      "\n",
      " 1  list:\n",
      "135755280632016\n"
     ]
    }
   ],
   "source": [
    "#print(id(customer)) #>>>>> customer=cust_1=Customer() the id of customer and cust_1 is same because they are poointing to the same object Customer() \n",
    "cust_add = Adress(\"Maharashtra\",\"Akola\",444001)  >>>>\n",
    "cust_1 = Customer(\"carel\",\"Female\",[\"Groundnuts\", \"Sugarcane\", \"coconut\"],[90, 100,110],cust_add) \n",
    "#print(id(cust_1))\n",
    "\n",
    "\n",
    "# Passed class object 'cust' to 'greet()'\n",
    "# Function receives object, accesses its attributes>>>>>>\n",
    "\n",
    "greets(cust_1)   \n",
    "print(id(cust_1))   \n",
    "\n",
    "\n",
    "add_cust90 = Adress(\"Kerala\", \"mandipuram\", 444009)               \n",
    "customer_92 = Customer(\"Amrutanjal\" ,\"Female\" ,[\"Cabbage\",\"oil\",\"Dettol\"] , [200 ,300, 400, 500 ,600] , add_cust90 ) \n"
   ]
  },
  {
   "cell_type": "code",
   "execution_count": 208,
   "id": "da53989a-e36f-4405-8981-ddd9d61d74a0",
   "metadata": {},
   "outputs": [
    {
     "name": "stdout",
     "output_type": "stream",
     "text": [
      "welcome Mayur Sir Customer id 2\n",
      "\n",
      " 2  list:\n",
      "2 {'Sugar': 'no', 'Grren Tea': 'yes', 'oil': 'yes'}\n"
     ]
    }
   ],
   "source": [
    "#ITERATION ON LIST AND DiCTIONARY \n",
    "cust_add = cust_add = Adress(\"Maharashtra\",\"kolhapur\",444006)\n",
    "cust_2 = Customer(\"Mayur\", \"Male\",[\"Sugar\",\"Grren Tea\",\"oil\"] ,[50,80,90], cust_add)  \n",
    "#greets(cust_2) \n",
    "\n",
    "\n",
    "#CLONED \n",
    "cust_2_clone=copy.deepcopy(cust_2) \n",
    "\n",
    "greets(cust_2_clone)\n",
    "store_items_availibility(cust_2_clone) \n"
   ]
  },
  {
   "cell_type": "code",
   "execution_count": 209,
   "id": "6a118951-6490-4578-a25c-88e17c718911",
   "metadata": {},
   "outputs": [
    {
     "name": "stdout",
     "output_type": "stream",
     "text": [
      "Welcome Pearl Mam Customer id 3\n",
      "\n",
      " 3  list:\n",
      "Pearl  Pearl  \n",
      "\n",
      "  Cloned object changed:   ['Toothpaste', 'Dettol', 'Cotton']  original object:   ['Toothpaste', 'Dettol', 'Cotton']  \n",
      "\n",
      "  price:   [80, 60, 50]  original price object:  [80, 60, 50]\n",
      "id cust_3:    135755288964496    id of cust_3_cloned:    135755279464592\n",
      "\n"
     ]
    }
   ],
   "source": [
    "#USING CLONING \n",
    "# Object Mutation in Functions:\n",
    "#Passing obj to func ---> func modifies obj ---> Original obj reflects changes.\n",
    "\n",
    "\n",
    "\n",
    "list = [\"Toothpaaste\",\"Dettol\",\"Cotton\"]\n",
    "price = [80,60,50] \n",
    "cust_add = Adress(\"Maharashtra\",\"Pune\",444005)\n",
    "cust_3 = Customer(\"Pearl\", \"Female\", [\"Toothpaste\",\"Dettol\",\"Cotton\"][:], price[:],cust_add)  \n",
    "\n",
    "cust_3_clone = copy.deepcopy(cust_3)\n",
    "\n",
    "greets(cust_3_clone)\n",
    "\n",
    "print(cust_3_clone.name, cust_3.name ,\"\\n\\n\", \"Cloned object changed: \",cust_3_clone.item_name , \"original object: \",cust_3.item_name ,\"\\n\\n\" , \"price: \",cust_3_clone.price,\"original price object:\", cust_3.price,sep=\"  \")\n",
    "\n",
    "\n",
    "\n",
    "print(\"id cust_3:\", id(cust_3 ), \"id of cust_3_cloned:\",id(cust_3_clone),sep= \"    \",end = \"\\n\\n\") \n"
   ]
  },
  {
   "cell_type": "code",
   "execution_count": 210,
   "id": "991e52af-aa91-4e67-a4f4-d052c6300388",
   "metadata": {},
   "outputs": [
    {
     "name": "stdout",
     "output_type": "stream",
     "text": [
      "1  carel ['Groundnuts', 'Sugarcane', 'coconut']   [90, 100, 110] Akola Maharashtra 444001\n"
     ]
    }
   ],
   "source": [
    "#\n",
    "\n",
    "print(f\"{cust_1.srno}  {cust_1.name} {cust_1.item_name}   {cust_1.price} {cust_1.adress.city} {cust_1.adress.state} {cust_1.adress.pin}\")  "
   ]
  },
  {
   "cell_type": "code",
   "execution_count": 213,
   "id": "eeb149f3-478f-4670-b7de-4558bcba2641",
   "metadata": {},
   "outputs": [
    {
     "name": "stdout",
     "output_type": "stream",
     "text": [
      "2  Mayur ['Sugar', 'Grren Tea', 'oil']   [50, 80, 90] kolhapur Maharashtra 444006\n"
     ]
    }
   ],
   "source": [
    "print(f\"{cust_2.srno}  {cust_2.name} {cust_2.item_name}   {cust_2.price} {cust_2.adress.city} {cust_2.adress.state} {cust_2.adress.pin}\")"
   ]
  },
  {
   "cell_type": "code",
   "execution_count": 215,
   "id": "9c2b4e47-241c-44bf-bb5b-92ae98b88441",
   "metadata": {},
   "outputs": [
    {
     "name": "stdout",
     "output_type": "stream",
     "text": [
      "3  Pearl ['Toothpaste', 'Dettol', 'Cotton']   [80, 60, 50] Pune Maharashtra 444005\n"
     ]
    }
   ],
   "source": [
    "print(f\"{cust_3.srno}  {cust_3.name} {cust_3.item_name}   {cust_3.price} {cust_3.adress.city} {cust_3.adress.state} {cust_3.adress.pin}\")"
   ]
  },
  {
   "cell_type": "code",
   "execution_count": 178,
   "id": "501f3a97-b6f2-42b5-add6-7d33f0e7810a",
   "metadata": {},
   "outputs": [
    {
     "name": "stdout",
     "output_type": "stream",
     "text": [
      "6\n",
      "6\n",
      "1\n"
     ]
    },
    {
     "data": {
      "text/plain": [
       "'\\nVariable Types\\n1. Instance Variable: Unique per object (e.g., pin, balance, GPA).\\n2. Static/Class Variable: Same across objects (e.g., IFSC code, Degree no.). \\n'"
      ]
     },
     "execution_count": 178,
     "metadata": {},
     "output_type": "execute_result"
    }
   ],
   "source": [
    "#SET_SRNO   GET_SRNO \n",
    "\n",
    "print(Customer.get_srno())    #CLASSNAME.static_variable_name  \n",
    "#Customer.set_srno(4)  \n",
    "\n",
    "Customer.set_srno(6)  \n",
    "print(Customer.get_srno())\n",
    "\n",
    "print(cust_1.srno) \n",
    "\n",
    "\"\"\"\n",
    "Variable Types\n",
    "1. Instance Variable: Unique per object (e.g., pin, balance, GPA).\n",
    "2. Static/Class Variable: Same across objects (e.g., IFSC code, Degree no.). \n",
    "\"\"\"   "
   ]
  },
  {
   "cell_type": "code",
   "execution_count": null,
   "id": "dd9d1787-9d8b-4b21-b51f-9fed4228c8a5",
   "metadata": {},
   "outputs": [],
   "source": []
  },
  {
   "cell_type": "code",
   "execution_count": 179,
   "id": "bc8bbce3-fad2-48c7-bbe4-06aad46d2a31",
   "metadata": {},
   "outputs": [
    {
     "ename": "SyntaxError",
     "evalue": "invalid syntax (3502510402.py, line 1)",
     "output_type": "error",
     "traceback": [
      "  \u001b[36mCell\u001b[39m\u001b[36m \u001b[39m\u001b[32mIn[179]\u001b[39m\u001b[32m, line 1\u001b[39m\n\u001b[31m    \u001b[39m\u001b[31m(customer)----->(Object)<--------(cust)\u001b[39m\n                  ^\n\u001b[31mSyntaxError\u001b[39m\u001b[31m:\u001b[39m invalid syntax\n"
     ]
    }
   ],
   "source": [
    "(customer)----->(Object)<--------(cust)\n",
    "|                                     |\n",
    "|                                     |\n",
    "|                                     |\n",
    "+---------------(greet)---------------+"
   ]
  },
  {
   "cell_type": "code",
   "execution_count": 180,
   "id": "0def55ab-f923-43de-a915-3b65a60d7f1a",
   "metadata": {},
   "outputs": [
    {
     "data": {
      "text/plain": [
       "'\\nConclusion ---> In Pass by Reference, changes to mutable data types (objects) affect the original.\\n                But in Immutable Types, No effect on the original (int, str) when passed.\\n'"
      ]
     },
     "execution_count": 180,
     "metadata": {},
     "output_type": "execute_result"
    }
   ],
   "source": [
    "# Object Mutation in Functions:\n",
    "\n",
    "#Passing obj to func ---> func modifies obj ---> Original obj reflects changes.\n",
    "\"\"\"\n",
    "Conclusion ---> In Pass by Reference, changes to mutable data types (objects) affect the original.\n",
    "                But in Immutable Types, No effect on the original (int, str) when passed.\n",
    "\"\"\""
   ]
  },
  {
   "cell_type": "code",
   "execution_count": 181,
   "id": "60b1fa3a-670b-4093-8fde-1beef715aa2e",
   "metadata": {},
   "outputs": [
    {
     "data": {
      "text/plain": [
       "' Looping & Objects:\\n\\nLoop + List ---> treat list as object; compatible with looping.\\nDict/Tuple  ---> compatible with loops, same approach as lists in loops.\\nSets        ---> immutable data types only; incompatible with mutable objects in loops.\\n***Object Collection:** Lists, tuples, dicts can store custom class objects*\\n\\n\\nLIST <TUPLEE<DICT<SETS<>>>>>>    '"
      ]
     },
     "execution_count": 181,
     "metadata": {},
     "output_type": "execute_result"
    }
   ],
   "source": [
    "#COLLLECTION OF OBJECTS \n",
    "\"\"\" Looping & Objects:\n",
    "\n",
    "Loop + List ---> treat list as object; compatible with looping.\n",
    "Dict/Tuple  ---> compatible with loops, same approach as lists in loops.\n",
    "Sets        ---> immutable data types only; incompatible with mutable objects in loops.\n",
    "***Object Collection:** Lists, tuples, dicts can store custom class objects*\n",
    "\n",
    "    \n",
    "LIST <TUPLEE<DICT<SETS<>>>>>>    \"\"\""
   ]
  },
  {
   "cell_type": "code",
   "execution_count": 182,
   "id": "d1b3f037-0f67-423e-abf2-23563bdf5c17",
   "metadata": {},
   "outputs": [],
   "source": [
    "# Static Methods:\n",
    "\n",
    "# In `get_counter()`; no `self` needed; uses class var.\n",
    "\n",
    "# Static methods don’t take self; use @staticmethod decorator.\n",
    "\n",
    "# `@staticmethod` ---> Methods that doesn’t require object instance for access.\n"
   ]
  },
  {
   "cell_type": "code",
   "execution_count": 183,
   "id": "cd5e6210-b225-4af9-9e43-98f2772bd92d",
   "metadata": {},
   "outputs": [
    {
     "data": {
      "text/plain": [
       "'Class Relationship - Aggregation\\nSo far, used only Single Class.\\nBut in Real-World Scenario i.e.\\nLarge Apps ---> involves multiple classes ---> involves complex inter-class relationships.\\n'"
      ]
     },
     "execution_count": 183,
     "metadata": {},
     "output_type": "execute_result"
    }
   ],
   "source": [
    "\"\"\"Class Relationship - Aggregation\n",
    "So far, used only Single Class.\n",
    "But in Real-World Scenario i.e.\n",
    "Large Apps ---> involves multiple classes ---> involves complex inter-class relationships.\n",
    "\"\"\"\n"
   ]
  },
  {
   "cell_type": "code",
   "execution_count": 193,
   "id": "89bdd72e-253b-47af-b2a5-1e2d8a5a5160",
   "metadata": {},
   "outputs": [],
   "source": [
    "#THeroy of AGGREGATION \n",
    "\"\"\"\n",
    "Relationships\n",
    "Aggregation (Has-A)\n",
    "Inheritance (Is-A)\n",
    "# Aggregation Ex:\n",
    "\n",
    "Customer   ---> Has-A ---> Address\n",
    "\n",
    "# Inheritance Ex:\n",
    "\n",
    "Smartphone ---> Is-A  ---> Product\n",
    "\n",
    "Car        ---> Is-A  ---> Vehicle \n",
    "\n",
    "\n",
    "Class Diagram - Aggregation:\n",
    "\n",
    "+--------------------+          1          +-------------------+\n",
    "|     Department     |<------------------->|     Employee      |\n",
    "+--------------------+                     +-------------------+\n",
    "| - name: str        |                     | - name: str       |\n",
    "| - location: str    |                     | - employeeID: int |\n",
    "+--------------------+                     +-------------------+\n",
    "| + addEmployee()    |                     | + getDetails()    |\n",
    "| + removeEmployee() |                     | + updateDetails() |\n",
    "+--------------------+                     +-------------------+\n",
    "         1..*                                       1..*        \n",
    "\"\"\"  "
   ]
  },
  {
   "cell_type": "code",
   "execution_count": 298,
   "id": "0ebdd0aa-42bb-4d5c-9bcd-7d6137c0a160",
   "metadata": {},
   "outputs": [
    {
     "name": "stdout",
     "output_type": "stream",
     "text": [
      "900034\n"
     ]
    }
   ],
   "source": [
    "#AGGREGATION   CUSTOMER HAS_A ADRESS\n",
    "class Customer:\n",
    "    def __init__(self,name,gender,adress):\n",
    "        self.name = name\n",
    "        self.gender=gender\n",
    "        self.adress=adress \n",
    "        \n",
    "    def edit_profile(self,new_name,new_city,new_pincode,new_state):\n",
    "        self.name=new_name\n",
    "        self.adress.edit_adress(new_city,new_pincode,new_state)     \n",
    "        #>>>>>Can a object of Customer class access the method of class Adress an another class,   an object can only asccess method and data mambers of a class.\n",
    "        #>>>>>here \"self\" is an object of Customer class and passed in a method of Another class then it can access the attrinbutes of that class and the method of another class. \n",
    "    \n",
    "    def get_adress(self):                                    \n",
    "        return self.adress                                      \n",
    "\n",
    "\n",
    "class Adress:\n",
    "    def __init__(self,city,pincode,state):\n",
    "        self.city = city \n",
    "        self.pincode = pincode\n",
    "        self.state =state\n",
    "    def edit_adress(self,new_city,new_pincode,new_state):\n",
    "        self.city = new_city\n",
    "        self.pincode = new_pincode \n",
    "        self.state = new_state\n",
    "\n",
    "\n",
    "add = Adress('kokan',444003,'Maharashtra') \n",
    "#Learning a lessson \n",
    "#cust = Customer('komal' ,'Female','Local_Akola patur')  #>>>>>>here a string has been passed to adress in Customer class , when you try to use method >>cust.edit_profile(('Rahul', 'local_Wagha', 444001,'MAharashtra'))>> \n",
    "#cust.edit_profile('Rahul', 'local_Wagha', 444001,'MAharashtra')   #>>>>>>> and use self.adress.edit_adress() on the string stored self.adress it gives error:AttributeError: 'str' object has no attribute 'edit_adress'\n",
    "#print(cust.adress.pincode)                                        #>>>>>>>because that str obj has no attribute edit_profile. Object is needed to be passed in the Class Customer so it can have the attribute edit_add()\n",
    "\n",
    "\n",
    "#learned a lesson \n",
    "cust = Customer(\"lion\",\"male\", add) \n",
    "cust.edit_profile(\"tigeress\",\"amazon\",900034,\"Brazil\")  \n",
    "print(cust.adress.pincode)   #>>>>> itis pointing to object which was given as parameter instead of just a string. \n",
    "\n",
    "\n",
    "\n"
   ]
  },
  {
   "cell_type": "code",
   "execution_count": 299,
   "id": "55a55cf1-310f-4053-933a-39c02d885fb7",
   "metadata": {},
   "outputs": [],
   "source": [
    "#FARMER HAS-A  PRODUCT\n",
    "\n",
    "class Farmer:\n",
    "    def __init__(self , land_Area, organic_or_not , farmer_products ,quantity,rate):\n",
    "        self.land_area = land_Area\n",
    "        self.organic = organic_or_not\n",
    "        self.product_name = farmer_products\n",
    "        self.quantity = quantity\n",
    "        self.rate=rate    #<<<<<<passed obj of Class Market so it contains value from MArket class where inits constructor  self.rate instance variablke  is initialized and data is stored in it is [5000,6000]\n",
    "    def product_name(self):\n",
    "        print(f\"{self.product_name}\")\n",
    "        \n",
    "    def organic(self):  \n",
    "        if self.organic == \"yes\":\n",
    "            print(f\"Organic Purchasable at local market {self.product_name}\" ,end =\"\\n\\n\") \n",
    "        if self.organic == 'no':\n",
    "            print(f\"Non Organic Purchasable in wholesale market {self.product_name}\" ,end =\"\\n\\n\")\n",
    "        else:\n",
    "            print(\"Invalid input\")\n",
    "            \n",
    "    def get_price(self):\n",
    "        print(self.rate)\n",
    "        print(self.rate.price_calculate(self.quantity)) #  >>>>>Market class object is being passed in a Market class Method to get the price from market        \n",
    "\n",
    "    def change_in_price(self,new_max,new_min):\n",
    "        print(self.rate.price_calculate(self.quantity,new_max,new_min))   #>>>>AGGREGATION relationship \n",
    "\n",
    "        \n",
    "class Market:\n",
    "    def __init__(self,max,min):\n",
    "        self.max =max \n",
    "        self.min = min   \n",
    "        self.rate = []\n",
    "    \n",
    "    def price_calculate(self ,quantity,max = None ,min = None):\n",
    "        self.max = max or self.max \n",
    "        self.min = min or self.min\n",
    "        \n",
    "        \n",
    "        max_rate = quantity * self.max\n",
    "        min_rate =quantity * self.min \n",
    "        list = [max_rate , min_rate] \n",
    "        self.rate= list\n",
    "        return self.rate\n",
    "    \n",
    "    def contact(self):\n",
    "        pass\n",
    "        \n",
    "    "
   ]
  },
  {
   "cell_type": "code",
   "execution_count": 300,
   "id": "5cbe9160-be8e-4f56-a4fa-856ee1ea04bd",
   "metadata": {},
   "outputs": [
    {
     "name": "stdout",
     "output_type": "stream",
     "text": [
      "<__main__.Market object at 0x7b77fcd74550>\n",
      "[450000, 540000]\n",
      "[1800, 90000]\n"
     ]
    }
   ],
   "source": [
    "prices = Market(5000,6000) \n",
    "\n",
    "farmer_1 = Farmer(12 , \"yes\" ,\"soyabean\",90 ,prices) \n",
    "\n",
    "farmer_1.get_price() \n",
    "\n",
    "farmer_1.rate \n",
    "\n",
    "farmer_1.change_in_price(20 , 1000)  "
   ]
  },
  {
   "cell_type": "code",
   "execution_count": 1,
   "id": "39a1ac25-50e8-4df7-a887-8e90e03bb6e8",
   "metadata": {},
   "outputs": [],
   "source": [
    "#Theory OF INHERITANCE \n",
    "\n",
    "#Customer has-A address \n",
    "\n"
   ]
  },
  {
   "cell_type": "code",
   "execution_count": 11,
   "id": "5c0611ec-274f-473d-a80b-ccf370864668",
   "metadata": {},
   "outputs": [],
   "source": [
    "#INHERITANCE \n",
    "##<<<<<< using Super() method to access the Method() and Constructor(__init__) of Parent Class \n",
    "####################################### E.g.,0 Super() keyword ##################################### \n",
    "\n",
    "class Parent:\n",
    "    def __init__(self, name,city ,adress,pincode):\n",
    "        self.name = name\n",
    "        self.city = city \n",
    "        self.adress = adress\n",
    "        self.pincode = pincode \n",
    "\n",
    "    def get_adress(self):\n",
    "        return self.adress\n",
    "\n",
    "class Child_user(Parent):\n",
    "    \n",
    "    def adress(self,adress):\n",
    "        print(super().__init__(adress)) \n"
   ]
  },
  {
   "cell_type": "code",
   "execution_count": 13,
   "id": "5b945def-714a-4176-9763-950673a9ca6a",
   "metadata": {},
   "outputs": [
    {
     "name": "stdout",
     "output_type": "stream",
     "text": [
      "Raut wadi,Akola\n"
     ]
    },
    {
     "data": {
      "text/plain": [
       "'Local_pune'"
      ]
     },
     "execution_count": 13,
     "metadata": {},
     "output_type": "execute_result"
    }
   ],
   "source": [
    "\n",
    "parent_obj = Parent(\"Liz\" ,\"pune\", \"Local_pune\",444001)\n",
    "parent_obj.get_adress() \n",
    "\n",
    "child_obj  = Child_user(\"liz\" ,\"akola\",\"Raut wadi,Akola\",50017)\n",
    "print(child_obj.get_adress())      \n",
    "parent_obj.get_adress()       "
   ]
  },
  {
   "cell_type": "code",
   "execution_count": 25,
   "id": "6668a86a-e32a-408c-a322-7079ac905627",
   "metadata": {},
   "outputs": [],
   "source": [
    "################### EX.1 Method overirding /SUPER KEYWORD ####################\n",
    "class Phone:\n",
    "    def __init__(self,price,brand,camera):\n",
    "        self.price =price \n",
    "        self.brand = brand\n",
    "        self.camera = camera \n",
    "    def buy(self): \n",
    "        print(f\"Inside paretn buy() method : Buying a Phone\")\n",
    "\n",
    "class SmartPhone(Phone):\n",
    "\n",
    "    \n",
    "    def buy(self): \n",
    "        print(\"INside a chid class buy() Method : /buying a smartphone\") \n",
    "        super().buy()   #<<<<<< using Super() method to access the Method() and Constructor(__init__) of Parent Class \n",
    "\n",
    "#SUPER KEYWORD does not works outside the class \n",
    "#iT CANNOT ACCESS THE ATTRIBUTES OF parent class \n",
    "    "
   ]
  },
  {
   "cell_type": "code",
   "execution_count": 28,
   "id": "7f729d16-666d-42cc-8841-2d7b60d13931",
   "metadata": {},
   "outputs": [
    {
     "name": "stdout",
     "output_type": "stream",
     "text": [
      "INside a chid class buy() Method : /buying a smartphone\n",
      "Inside paretn buy() method : Buying a Phone\n"
     ]
    }
   ],
   "source": [
    "s = SmartPhone(30000, \"manipo\" , 50) \n",
    "\n",
    "s.buy()    #<<<< Method Overriding <<<< child and parent class has same name method : buy()  so the child method executed \n",
    "           #because the object is of child class using that the method is called \n",
    "           #This is called METHOD OVERLOADING \n",
    "\n",
    "\n",
    "\n"
   ]
  },
  {
   "cell_type": "code",
   "execution_count": 31,
   "id": "f02e4bb2-12f0-4482-9309-a4e000bcec7d",
   "metadata": {},
   "outputs": [],
   "source": [
    "class Phone:\n",
    "\n",
    "    def __init__(self, price ,brand , camera):\n",
    "        self.price = price \n",
    "        self.brand = brand \n",
    "        self.camera = camera \n",
    "\n",
    "class SmartPhone(Phone):    #>>>>>Half initialization done in child and rest in the parent class so  half the work is done by child and other by parent \n",
    "\n",
    "    def __init__(self ,price , brand, camera , os , ram):\n",
    "        super().__init__(price ,brand, camera) \n",
    "        self.os=  os\n",
    "        self.ram = ram     "
   ]
  },
  {
   "cell_type": "code",
   "execution_count": 38,
   "id": "e8810901-463e-44ac-a479-391ad13a17bc",
   "metadata": {},
   "outputs": [
    {
     "name": "stdout",
     "output_type": "stream",
     "text": [
      "android\n",
      "8 gb ram\n"
     ]
    },
    {
     "data": {
      "text/plain": [
       "90000"
      ]
     },
     "execution_count": 38,
     "metadata": {},
     "output_type": "execute_result"
    }
   ],
   "source": [
    "s= SmartPhone(30000, \"opppo\", 80, \"android\", \"8 gb ram\") \n",
    "\n",
    "print(s.os) \n",
    "print(s.ram) \n",
    "\n",
    "r =Phone(90000, \"koko\", 90)  \n",
    "\n",
    "r.price\n",
    "#r.os  #>>>> Parent class cannot acees its child class attribute , method,constructor  \n",
    "        #Error:  AttributeError: 'Phone' object has no attribute 'os'\n"
   ]
  },
  {
   "cell_type": "code",
   "execution_count": 53,
   "id": "7c1a0fab-675b-448a-b2da-d3331e1b4835",
   "metadata": {},
   "outputs": [
    {
     "data": {
      "text/plain": [
       "200"
      ]
     },
     "execution_count": 53,
     "metadata": {},
     "output_type": "execute_result"
    }
   ],
   "source": [
    " class Parent:\n",
    "     def __init__(self,num):\n",
    "         self. num = num \n",
    "\n",
    "     def get_num(self):\n",
    "         return self.num\n",
    "         \n",
    "class Child(Parent):\n",
    "    def __init__(self,num,var):\n",
    "        super().__init__(num)      # >>>>>super().__init__   Gives Error: AttributeError: 'Child' object has no attribute 'num' \n",
    "        self.var = var             # >>>>> Reason : Ddint pass the num to the parents constructor so self.num variable\n",
    "                                   # >>>>> will not get initialized .         \n",
    "    def get_var(self):\n",
    "        return self.var \n",
    "    \n",
    "s = Child(100,200) \n",
    "s.get_num() \n",
    "s.get_var()  \n"
   ]
  },
  {
   "cell_type": "code",
   "execution_count": 54,
   "id": "d6ea0677-1a14-4bf1-a902-9eca9982dfe5",
   "metadata": {},
   "outputs": [],
   "source": [
    "#childs object can access the attributes of Parent class from inside the  child class also similar to accessing from outside the child class "
   ]
  },
  {
   "cell_type": "code",
   "execution_count": 55,
   "id": "90dc7695-c76d-4444-9866-01c596eccc65",
   "metadata": {},
   "outputs": [
    {
     "data": {
      "text/plain": [
       "' \\nINHERITANCE\\nReal-world concept; means to inherit.\\n\\nOOP ---> Real-world problem-solving.\\nAligns with real-world concepts\\n`Inheritance Benefits\\nDRY Principle: \"Don\\'t Repeat Yourself\"\\n\\nAvoid redundant code; Reuse existing code via inheritance.\\n\\nInheritance Code Reusability\\nSaves Time; Concise, Optimized Code; Effective.   \\n\\n# Note: Inheritence Direction ---> Upward\\n\\nEx ---> `Student` inherits from `User` (e.g., login, registration).\\n        `User` cannot inherit from `Student`.\\n\\ni.e Child inherits properties/data from Parent.\\nIn Inheritence,\\n\\nChild Inherits        ---> Data Members, Methods, Constructor\\n      Doesn\\'t Inherit ---> Private Members\\n\\n\\n\\nClass Diagram - Inheritence:\\n\\n               +-------------+\\n               |   Animal    |\\n               +-------------+\\n               | - name: str |\\n               | - age: int  |\\n               +-------------+\\n               | + eat()     |\\n               | + sleep()   |\\n               +-------------+\\n              /       |                    /        |                    /         |         +----------+     +----------+    +---------+\\n|   Dog    |     |   Cat    |    | Hamster |\\n+----------+     +----------+    +---------+\\n| - breed  |     | - color  |    | - size  |\\n+----------+     +----------+    +---------+\\n| + bark() |     | + meow() |    | + run() |\\n+----------+     +----------+    +---------+\\n\\n'"
      ]
     },
     "execution_count": 55,
     "metadata": {},
     "output_type": "execute_result"
    }
   ],
   "source": [
    "#INHERITANCE THORY \n",
    "\"\"\" \n",
    "INHERITANCE\n",
    "Real-world concept; means to inherit.\n",
    "\n",
    "OOP ---> Real-world problem-solving.\n",
    "Aligns with real-world concepts\n",
    "`Inheritance Benefits\n",
    "DRY Principle: \"Don't Repeat Yourself\" \n",
    "\n",
    "Avoid redundant code; Reuse existing code via inheritance.\n",
    "\n",
    "Inheritance Code Reusability\n",
    "Saves Time; Concise, Optimized Code; Effective.   \n",
    "\n",
    "# Note: Inheritence Direction ---> Upward\n",
    "\n",
    "Ex ---> `Student` inherits from `User` (e.g., login, registration).\n",
    "        `User` cannot inherit from `Student`.\n",
    "\n",
    "i.e Child inherits properties/data from Parent.\n",
    "In Inheritence,\n",
    "\n",
    "Child Inherits        ---> Data Members, Methods, Constructor\n",
    "      Doesn't Inherit ---> Private Members\n",
    "\n",
    "\n",
    "\n",
    "Class Diagram - Inheritence:\n",
    "\n",
    "               +-------------+\n",
    "               |   Animal    |\n",
    "               +-------------+\n",
    "               | - name: str |\n",
    "               | - age: int  |\n",
    "               +-------------+\n",
    "               | + eat()     |\n",
    "               | + sleep()   |\n",
    "               +-------------+\n",
    "              /       |       \\\n",
    "             /        |        \\\n",
    "            /         |         \\\n",
    "+----------+     +----------+    +---------+\n",
    "|   Dog    |     |   Cat    |    | Hamster |\n",
    "+----------+     +----------+    +---------+\n",
    "| - breed  |     | - color  |    | - size  |\n",
    "+----------+     +----------+    +---------+\n",
    "| + bark() |     | + meow() |    | + run() |\n",
    "+----------+     +----------+    +---------+\n",
    "\n",
    "\"\"\"\n",
    "\n"
   ]
  },
  {
   "cell_type": "code",
   "execution_count": 58,
   "id": "ef67bf96-0082-436a-b72f-6edfbff4e236",
   "metadata": {},
   "outputs": [
    {
     "data": {
      "text/plain": [
       "'\\nTYPES OF INHERITANCE \\n4 TPYES \\nA >  Single /inheritance \\nB >  Multi Level Inheritance  \\nC >  Multiple Inheritance \\nD >  Hierarchichal Inherittance \\n'"
      ]
     },
     "execution_count": 58,
     "metadata": {},
     "output_type": "execute_result"
    }
   ],
   "source": [
    "\"\"\"\n",
    "TYPES OF INHERITANCE \n",
    "4 TPYES \n",
    "A >  Single /inheritance \n",
    "B >  Multi Level Inheritance  \n",
    "C >  Multiple Inheritance \n",
    "D >  Hierarchichal Inherittance \n",
    "\"\"\"   "
   ]
  },
  {
   "cell_type": "code",
   "execution_count": 59,
   "id": "7799b56a-2e3d-401e-af3f-59db431e86ae",
   "metadata": {},
   "outputs": [
    {
     "data": {
      "text/plain": [
       "' \\n---\\n\\n### 🔑 Types of Inheritance\\n\\n1. **Single Inheritance**\\n\\n   * A class inherits from **only one parent** class.\\n   * Example:\\n\\n     ```python\\n     class Parent:\\n         pass\\n     class Child(Parent):\\n         pass\\n     ```\\n\\n2. **Multiple Inheritance**\\n\\n   * A class inherits from **more than one parent** class.\\n   * Example:\\n\\n     ```python\\n     class A:\\n         pass\\n     class B:\\n         pass\\n     class C(A, B):\\n         pass\\n     ```\\n\\n3. **Multilevel Inheritance**\\n\\n   * A chain of inheritance (child → parent → grandparent).\\n   * Example:\\n\\n     ```python\\n     class Grandparent:\\n         pass\\n     class Parent(Grandparent):\\n         pass\\n     class Child(Parent):\\n         pass\\n     ```\\n\\n4. **Hierarchical Inheritance**\\n\\n   * **Multiple child classes** inherit from the **same parent**.\\n   * Example:\\n\\n     ```python\\n     class Parent:\\n         pass\\n     class Child1(Parent):\\n         pass\\n     class Child2(Parent):\\n         pass\\n     ```\\n\\n5. **Hybrid Inheritance**\\n\\n   * **Combination** of two or more types (e.g., multiple + multilevel).\\n   * Example:\\n\\n     ```python\\n     class A:\\n         pass\\n     class B(A):\\n         pass\\n     class C(A):\\n         pass\\n     class D(B, C):   # Hybrid: Multilevel + Multiple\\n         pass\\n     ```\\n\\n--- \\n\\n'"
      ]
     },
     "execution_count": 59,
     "metadata": {},
     "output_type": "execute_result"
    }
   ],
   "source": [
    "\n",
    "---\n",
    "\n",
    "### 🔑 Types of Inheritance\n",
    "\n",
    "1. **Single Inheritance**\n",
    "\n",
    "   * A class inherits from **only one parent** class.\n",
    "   * Example:\n",
    "\n",
    "     ```python\n",
    "     class Parent:\n",
    "         pass\n",
    "     class Child(Parent):\n",
    "         pass\n",
    "     ```\n",
    "\n",
    "2. **Multiple Inheritance**\n",
    "\n",
    "   * A class inherits from **more than one parent** class.\n",
    "   * Example:\n",
    "\n",
    "     ```python\n",
    "     class A:\n",
    "         pass\n",
    "     class B:\n",
    "         pass\n",
    "     class C(A, B):\n",
    "         pass\n",
    "     ```\n",
    "\n",
    "3. **Multilevel Inheritance**\n",
    "\n",
    "   * A chain of inheritance (child → parent → grandparent).\n",
    "   * Example:\n",
    "\n",
    "     ```python\n",
    "     class Grandparent:\n",
    "         pass\n",
    "     class Parent(Grandparent):\n",
    "         pass\n",
    "     class Child(Parent):\n",
    "         pass\n",
    "     ```\n",
    "\n",
    "4. **Hierarchical Inheritance**\n",
    "\n",
    "   * **Multiple child classes** inherit from the **same parent**.\n",
    "   * Example:\n",
    "\n",
    "     ```python\n",
    "     class Parent:\n",
    "         pass\n",
    "     class Child1(Parent):\n",
    "         pass\n",
    "     class Child2(Parent):\n",
    "         pass\n",
    "     ```\n",
    "\n",
    "5. **Hybrid Inheritance**\n",
    "\n",
    "   * **Combination** of two or more types (e.g., multiple + multilevel).\n",
    "   * Example:\n",
    "\n",
    "     ```python\n",
    "     class A:\n",
    "         pass\n",
    "     class B(A):\n",
    "         pass\n",
    "     class C(A):\n",
    "         pass\n",
    "     class D(B, C):   # Hybrid: Hierarchichal + Multiple   \n",
    "         pass\n",
    "     ```\n",
    "\n",
    "--- \n",
    "\n"
   ]
  },
  {
   "cell_type": "code",
   "execution_count": 61,
   "id": "c546e62e-0cd6-4701-a6a9-526de08335fe",
   "metadata": {},
   "outputs": [
    {
     "name": "stdout",
     "output_type": "stream",
     "text": [
      "Inside phon constructor\n",
      "Buying a Phone\n",
      "Producr customer review\n"
     ]
    }
   ],
   "source": [
    "# E.G.   MULTILEVEL INHERITANCE  \n",
    "\n",
    "class Product:\n",
    "    def review(self):\n",
    "        print(\"Producr customer review\") \n",
    "\n",
    "class Phone(Product):\n",
    "    def __init__(self,price,brand,camera):\n",
    "        print(\"Inside phon constructor\")\n",
    "        self.__price =price \n",
    "        self.brand = brand\n",
    "        self.camera= camera \n",
    "\n",
    "    def buy(self):\n",
    "        print(\"Buying a Phone\")       \n",
    "\n",
    "class SmartPhone(Phone):\n",
    "    pass     \n",
    "\n",
    "\n",
    "s= SmartPhone(20000,\"Apple\", 12)\n",
    "\n",
    "s.buy()     \n",
    "s.review() "
   ]
  },
  {
   "cell_type": "code",
   "execution_count": 246,
   "id": "a1dac5ff-a270-4979-837b-9f72ab72ce25",
   "metadata": {},
   "outputs": [
    {
     "name": "stdout",
     "output_type": "stream",
     "text": [
      "Inside phone constructor\n",
      "Buying a Phone\n",
      "Inside phone constructor\n"
     ]
    }
   ],
   "source": [
    "# HIERARCHICHAL INHERITANCE \n",
    "\n",
    "class Phone:\n",
    "    def __init__(self,price,brand,camera):\n",
    "        print(\"Inside phone constructor\")\n",
    "        self.__price =price \n",
    "        self.brand = brand\n",
    "        self.camera= camera \n",
    "\n",
    "    def buy(self):\n",
    "        print(\"Buying a Phone\")       \n",
    "    \n",
    "    def return_phone(self):\n",
    "        print(\"Returning a Phone\")\n",
    "    \n",
    "class SmartPhone(Phone):    #<<<<INHERITING FROM \"PHONE CLASS\"\n",
    "    pass\n",
    "\n",
    "class Feature_Phone(Phone):   #<<<<<< INHERITING FROM \"PHONE CLASS\"    \n",
    "    pass\n",
    "\n",
    "SmartPhone(1000, 'APPLE', \"13px\").buy() \n",
    "\n",
    "\n",
    "s= SmartPhone(20000,\"Apple\", 12)  "
   ]
  },
  {
   "cell_type": "code",
   "execution_count": 245,
   "id": "7244fcb1-cb4f-4187-be4c-fa7e11dfc79f",
   "metadata": {},
   "outputs": [
    {
     "name": "stdout",
     "output_type": "stream",
     "text": [
      "Inside phone constructor\n",
      "Buying a Phone\n"
     ]
    },
    {
     "data": {
      "text/plain": [
       "'\\nclass Phone: \\nclass SmartPhone(Phone):       \\nclass Feature_Phone(Phone, SmartPhone):\\n\\nq = Feature_Phone()\\n'"
      ]
     },
     "execution_count": 245,
     "metadata": {},
     "output_type": "execute_result"
    }
   ],
   "source": [
    "# HIERARCHICHAL INHERITANCE >>>>ERROR PART IMAGINE IT TO UDERSTAND \n",
    "\n",
    "\n",
    "\"\"\"\n",
    "class Phone: \n",
    "class SmartPhone(Phone):       \n",
    "class Feature_Phone(Phone, SmartPhone):\n",
    "\n",
    "q = Feature_Phone()\n",
    "\"\"\" \n",
    "\n",
    "#>>>  Error : TypeError: Cannot create a consistent method resolution\n",
    "#order (MRO) for bases Phone, SmartPhone\n",
    "#MRO : METHOF RESOLUTION ORDER \n",
    "\n",
    "#REASON  : class  SmartPhone is inheriting Phone class so while the Feature_class ()  inherits both of them it actually inheriting the child and Parent class so \n",
    "# a MRO is being created it is not able to create a consistent  MR order  \n",
    "\n",
    "\n",
    "\n",
    "#MULTIPLE INHERITANCE \n",
    "\n",
    "class Phone:\n",
    "    def __init__(self,price,brand,camera):   \n",
    "        print(\"Inside phone constructor\")       \n",
    "        self.__price =price \n",
    "        self.brand = brand  \n",
    "        self.camera= camera   \n",
    "\n",
    "    def buy(self):  \n",
    "        print(\"Buying a Phone\")        \n",
    "    \n",
    "    def return_phone(self):\n",
    "        print(\"Returning a Phone\")\n",
    "    \n",
    "class SmartPhone:       \n",
    "    def buy(self):\n",
    "        print(\"Buying a SmartPhone\") \n",
    "\n",
    "class Feature_Phone(Phone, SmartPhone):\n",
    "    pass\n",
    "    #>>>>>>  MULTIPLE INHERITANCE :Feature Class is Inheriting from 2 Classes : SmartPhone, Phone class       \n",
    "    # HRER PHONE is written first so its contructor will be inherited \n",
    "    # IF Phone class Didnot have construct then SmartPhone's constructor will be inherited\n",
    "    #This giving priotiy is called as MRO : Method Resolution Error \n",
    "  \n",
    "\n",
    "q = Feature_Phone(70000 , \"kiko\" , \"80px\") \n",
    "\n",
    "q.buy()   \n",
    "\n"
   ]
  },
  {
   "cell_type": "code",
   "execution_count": 243,
   "id": "fd43947c-8518-43f4-a672-55fe1f5c0bea",
   "metadata": {},
   "outputs": [
    {
     "name": "stdout",
     "output_type": "stream",
     "text": [
      "20\n"
     ]
    },
    {
     "data": {
      "text/plain": [
       "40"
      ]
     },
     "execution_count": 243,
     "metadata": {},
     "output_type": "execute_result"
    }
   ],
   "source": [
    " class A:\n",
    "\n",
    "     def m1(self):\n",
    "         return 20\n",
    "\n",
    "class B(A): \n",
    " \n",
    "    def m1(self): \n",
    "        val = super().m1() + 20  \n",
    "        print(\"Parent class 'A':\" , super().m1())\n",
    "        return val \n",
    "\n",
    "class C: \n",
    "    def m1(self): \n",
    "        val = 20 \n",
    "        return val  \n",
    "\n",
    "\n",
    "\n",
    "obj0 = B() \n",
    "obj0.m1() \n",
    "\n",
    "#obj = C() \n",
    "#print(obj.m1())     #>>>>> Error : RecursionError: maximum recursion depth exceeded\n",
    "                    #because if you notice in class C : in  method m1  the self.m1()  is calling itself again and again.\n",
    "                    #So recursion is happening and the lmit of recursion exceeds \n"
   ]
  },
  {
   "cell_type": "code",
   "execution_count": 107,
   "id": "aa8e1d86-c1b0-4ffe-b944-42f261ecabee",
   "metadata": {},
   "outputs": [
    {
     "data": {
      "text/plain": [
       "'\\nA >  METHOD OVERIDING \\nB >  METHOD OVERLOADING \\nC >  OPERATOR  OVERLOADING \\n'"
      ]
     },
     "execution_count": 107,
     "metadata": {},
     "output_type": "execute_result"
    }
   ],
   "source": [
    "#POLYMORPHISM : MULTIPLE FACES \n",
    "\"\"\"\n",
    "A >  METHOD OVERIDING \n",
    "B >  METHOD OVERLOADING \n",
    "C >  OPERATOR  OVERLOADING \n",
    "\"\"\""
   ]
  },
  {
   "cell_type": "code",
   "execution_count": 110,
   "id": "74d9bbcb-2505-4fa9-9066-e2d95a226046",
   "metadata": {},
   "outputs": [],
   "source": [
    "C > OPERATOR OVERLOADING    >>>> USING MAGIC METHODS __add__ ,.... we implement Operator overloading\n",
    "additon is done by using '+' : sign  now ,                                                                                                   \n",
    "I write a logic for '+' \n",
    "sign  that make fractional additon instead iof 2 int no.s being added it is adding 2 fractions                          \n",
    "So I changed the default setting/function of a operator \n",
    "That is called as OPERATOR OVERLOADING  \n",
    "\n",
    "B > METHOD OVERLOADING                                                       \n",
    "\n",
    "WE  create a  Mehtod of same name and  give it different  inputs  and  as per the input it\n",
    "runs the correct method (similar name) to give the output  . \n",
    "EG .  def area():  method  \n",
    "\n",
    "\n",
    "Technically Mehtod Overloading does not exists in python. "
   ]
  },
  {
   "cell_type": "code",
   "execution_count": null,
   "id": "84a46761-2424-44a2-9a52-573e13181162",
   "metadata": {},
   "outputs": [],
   "source": [
    "\"Method Overloading\" ---> Single method, Multiple implementations.\n",
    "                          different inputs = different behaviors.\n",
    "# Ex - Code for Area Calculation:\n",
    "\n",
    "Different shapes have unique area formulas.\n",
    "\n",
    "Thus, uniform function name ---> `area()` for clarity.\n",
    "\n",
    "Different Inputs            ---> Different Outputs. \n",
    "\n",
    "\n",
    "Method Overloading in Java   ---> Multiple methods, same name, different inputs.\n",
    "                   in Python ---> No true traditional method overloading.\n",
    "                                  Same method name = last definition overrides previous.\n",
    "\n",
    "Multiple methods with same name not allowed.\n",
    "\n",
    "Workaround:\n",
    "# Use default params or var args for simulated overloading."
   ]
  },
  {
   "cell_type": "code",
   "execution_count": 108,
   "id": "1ef54547-9452-4c1e-bd77-16011735708e",
   "metadata": {},
   "outputs": [
    {
     "ename": "TypeError",
     "evalue": "Geometry.area() missing 2 required positional arguments: 'b' and 'h'",
     "output_type": "error",
     "traceback": [
      "\u001b[0;31m---------------------------------------------------------------------------\u001b[0m",
      "\u001b[0;31mTypeError\u001b[0m                                 Traceback (most recent call last)",
      "Cell \u001b[0;32mIn[108], line 14\u001b[0m\n\u001b[1;32m     11\u001b[0m         \u001b[38;5;28;01mreturn\u001b[39;00m l \u001b[38;5;241m*\u001b[39m b \u001b[38;5;241m*\u001b[39m h\n\u001b[1;32m     13\u001b[0m obj \u001b[38;5;241m=\u001b[39m Geometry() \n\u001b[0;32m---> 14\u001b[0m \u001b[43mobj\u001b[49m\u001b[38;5;241;43m.\u001b[39;49m\u001b[43marea\u001b[49m\u001b[43m(\u001b[49m\u001b[38;5;241;43m3\u001b[39;49m\u001b[43m)\u001b[49m         \u001b[38;5;66;03m#>>Input to get area of {circle} using method \"area\"  \u001b[39;00m\n\u001b[1;32m     16\u001b[0m obj\u001b[38;5;241m.\u001b[39marea(\u001b[38;5;241m100\u001b[39m,\u001b[38;5;241m200\u001b[39m)   \u001b[38;5;66;03m#>>>>Input to get area of {square} using method \"area\"\u001b[39;00m\n\u001b[1;32m     18\u001b[0m obj\u001b[38;5;241m.\u001b[39marea(\u001b[38;5;241m400\u001b[39m,\u001b[38;5;241m500\u001b[39m,\u001b[38;5;241m600\u001b[39m)   \u001b[38;5;66;03m#>>>>>>>Input to get area of {cube} using method \"area\"\u001b[39;00m\n",
      "\u001b[0;31mTypeError\u001b[0m: Geometry.area() missing 2 required positional arguments: 'b' and 'h'"
     ]
    }
   ],
   "source": [
    "#Note: Python's workaround with default arguments simulates overloading.\n",
    "#E.g., shows how working aroud  in python to do methdo overloading \n",
    "\n",
    "class Geometry:\n",
    "\n",
    "    def area(self, radius):\n",
    "        return 3.14 *radius *radius\n",
    "\n",
    "    def area(self , l, b ):\n",
    "        return l*b\n",
    "\n",
    "    def area(self , l, b, h):\n",
    "        return l * b * h\n",
    "\n",
    "obj = Geometry() \n",
    "obj.area(3)         #>>Input to get area of {circle} using method \"area\"  \n",
    "\n",
    "obj.area(100,200)   #>>>>Input to get area of {square} using method \"area\"\n",
    "\n",
    "obj.area(400,500,600)   #>>>>>>>Input to get area of {cube} using method \"area\"\n",
    "\n",
    "#In python it cannot differentiate on which method to execute as per the input \n",
    "#in java it will give the correct output and not give the error  :TypeError: Geometry.area() missing 2 required positional arguments: 'b' and 'h'\n",
    "#IN java >>> Method OVERLOADING IS HAPPENING \n"
   ]
  },
  {
   "cell_type": "code",
   "execution_count": 109,
   "id": "69132956-3c19-405e-a8cf-5855010a9b40",
   "metadata": {},
   "outputs": [
    {
     "name": "stdout",
     "output_type": "stream",
     "text": [
      "18\n"
     ]
    }
   ],
   "source": [
    "#METHOD OVERLOADNG IN python \n",
    "\n",
    "class Geometry:    \n",
    "    def area(self,r=0,b=0 ,h=0): #<<<< A single METHOD behaves differently as per the different inputs \n",
    "        if b==0 and h == 0:      \n",
    "             return 3.14 *r *r \n",
    "        if r!=0 and b!=0 and h == 0: \n",
    "            return r * b \n",
    "        if r!=0 and b!=0 and h!=0: \n",
    "            return r*b*h   \n",
    "obj0 = Geometry()            \n",
    "#print(obj0.area(3))           \n",
    "print(obj0.area(9,2))       \n",
    "#print(obj0.area(1,2,3))     "
   ]
  },
  {
   "cell_type": "markdown",
   "id": "d566a1a2-e0fe-4079-929e-2a2b7f1402a7",
   "metadata": {},
   "source": [
    "OPERATOR OVERLOADING \n",
    "\"Operator Overloading\" ---> Customize default operator behavior.\n",
    "                            (e.g., `+` for addition)\n",
    "\n",
    "                            Define behavior for operators beyond built-in. USING MAGICAL METHODS __add__(): \n",
    "                            (e.g., custom class logic)\n",
    "'hello' + 'world'\n",
    "\n",
    "# Not mathematical addition; string concatenation instead.\n",
    "# String class designer redefined `+` operator for concatenation.\n",
    "'helloworld'\n",
    "\n",
    "OPERATOR OVERLOADING \n"
   ]
  },
  {
   "cell_type": "code",
   "execution_count": 119,
   "id": "edf4990e-7bd6-47db-9d34-7bfa115961a7",
   "metadata": {},
   "outputs": [
    {
     "ename": "SyntaxError",
     "evalue": "invalid syntax (3819270152.py, line 1)",
     "output_type": "error",
     "traceback": [
      "\u001b[0;36m  Cell \u001b[0;32mIn[119], line 1\u001b[0;36m\u001b[0m\n\u001b[0;31m    \"Operator Overloading\" ---> Customize default operator behavior.\u001b[0m\n\u001b[0m                             ^\u001b[0m\n\u001b[0;31mSyntaxError\u001b[0m\u001b[0;31m:\u001b[0m invalid syntax\n"
     ]
    }
   ],
   "source": [
    "\n",
    "\"Operator Overloading\" ---> Customize default operator behavior.\n",
    "                            (e.g., `+` for addition)\n",
    "\n",
    "                            Define behavior for operators beyond built-in.\n",
    "                            (e.g., custom class logic)\n",
    "'hello' + 'world'\n",
    "\n",
    "# Not mathematical addition; string concatenation instead.\n",
    "# String class designer redefined `+` operator for concatenation.\n",
    "'helloworld'\n"
   ]
  },
  {
   "cell_type": "code",
   "execution_count": 118,
   "id": "53a22266-dc43-46ca-ab69-6588f5aa1d16",
   "metadata": {},
   "outputs": [
    {
     "name": "stdout",
     "output_type": "stream",
     "text": [
      "41/24\n"
     ]
    }
   ],
   "source": [
    "from fractions import Fraction\n",
    "\n",
    "x = Fraction(5,6)\n",
    "y = Fraction(7,8) \n",
    "print(x+y)\n",
    "# Operator Overloading:\n",
    "\n",
    "# Custom logic for operators (e.g., `+`).\n",
    "# Fraction addition, where `+` is redefined.\n",
    "# Allow custom behavior for standard operators in classes."
   ]
  },
  {
   "cell_type": "code",
   "execution_count": 1,
   "id": "32c73ac9-dd02-4c7b-b1e9-e2927c9881fd",
   "metadata": {},
   "outputs": [
    {
     "ename": "SyntaxError",
     "evalue": "invalid syntax (56308511.py, line 3)",
     "output_type": "error",
     "traceback": [
      "\u001b[0;36m  Cell \u001b[0;32mIn[1], line 3\u001b[0;36m\u001b[0m\n\u001b[0;31m    Hides implementation details; focuses on functionality.\u001b[0m\n\u001b[0m          ^\u001b[0m\n\u001b[0;31mSyntaxError\u001b[0m\u001b[0;31m:\u001b[0m invalid syntax\n"
     ]
    }
   ],
   "source": [
    "#ABSTRACTION\n",
    "#Hides implementation details; focuses on functionality."
   ]
  },
  {
   "cell_type": "code",
   "execution_count": 221,
   "id": "8690cee4-a898-4cc1-b48c-44320b93032d",
   "metadata": {},
   "outputs": [],
   "source": [
    "from abc import ABC, abstractmethod         #<<<<<<< THIS LINE IS IMP BECCAUSE THIS IS WHERE WE MAKE ABSTRACT CLASS BASE  is decide USER \n",
    "\n",
    "class User(ABC):\n",
    "    counter = 0 \n",
    "    def __init__(self):\n",
    "        self.first_name = \"\"\n",
    "        self.last_name = \"\"\n",
    "        self.dob = \"\"\n",
    "        self.username = \"\"\n",
    "        self.pasword = \"\"\n",
    "        User.counter += 1\n",
    "        \n",
    "        \n",
    "    def register(self,first_name , last_name , dob): \n",
    "        self.first_name = first_name  \n",
    "        self.last_name =last_name \n",
    "        self.dob = dob \n",
    "        print(f\"Registration is successfull\") \n",
    "        self.username = self.first_name + self.last_name \n",
    "        print(f\"username: {self.username}\")              \n",
    "        \n",
    "        \n",
    "        pswd = input(\"please input a 8 character pasword and incude only #$%& these special characters\\n\\n\") \n",
    "        if len(pswd) >= 8:\n",
    "            count_int = 0 \n",
    "            count_str = 0 \n",
    "            count_special = 0 \n",
    "            for i in pswd: \n",
    "                if i.isdigit(): \n",
    "                    count_int += 1\n",
    "                if type(i) == str:\n",
    "                    count_str += 1\n",
    "                if 35<=ord(i)<=48:        #$%& only allowed                  #Ascii value  = 33 to 46         \n",
    "                    count_special += 1\n",
    "                print(f\"{count_int} , {count_str} , {count_special} \")\n",
    "            if count_int >= 2 and count_special >= 2:\n",
    "                print(f\"pasword correct as per the rules\")\n",
    "                self.pasword = pswd\n",
    "            elif count_int<=2 or count_special<=2 or count_int <=2: \n",
    "                print(\"paswword is incorrect follow guidelines\\n\\n\\n\")\n",
    "        else:\n",
    "            print(\"length of pasword is incorrect\\n\\n\")  \n",
    "\n",
    "\n",
    "    \n",
    "    def login(self , user_name , pasword):\n",
    "        \n",
    "        if(self.username == user_name):\n",
    "            if(self.pasword == pasword):\n",
    "                print(\"Logined successfully\")\n",
    "        else: print(\"YOU have entered wrong username and pasword \\n\\n\")\n",
    "    \n",
    "    @abstractmethod\n",
    "    def display(self):\n",
    "        pass \n",
    "    \n",
    "    @abstractmethod\n",
    "    def id(self):\n",
    "        pass\n",
    "            \n",
    "     \n",
    "    \n",
    "    \n",
    "    \n",
    "class Instructor(User):\n",
    "    \n",
    "    #def register(self):      #>>>>>>>>>>  Infinete recursion : Mistake \"\"\"\n",
    "        #self.register()      #>>>>>>>>>> Its uneescesary to create a method here for registration beacuse it is already defined in Parent class and is inherited by this child class Instructor       \n",
    "    \n",
    "    #def display(self):       #>>>>>>> I commented this and ran the code ERROR: TypeError: Can't instantiate abstract class Instructor with abstract method display\n",
    "        #print(\"Welcome Instructor\" , self.first_name ,self.last_name)      EXPLANATION : while instantiating child class it carrys restrictions with it 1st.. display() 2nd.. id()     \n",
    "                                                                            #>>>>>>SO when it comes carrying thoe to Instructor it is not able to see the display() abstractmethod so it give that error             \n",
    "    def display(self):\n",
    "        print(\"Welcome Instructor\" , self.first_name ,self.last_name)\n",
    "    def id(self):                                                           \n",
    "        print(User.counter) \n",
    "    \n",
    "        \n",
    "class Learner(User):\n",
    "    #def display(self):  <<<<< TypeError: Can't instantiate abstract class Learner with abstract method display same reason as above in instructor class \n",
    "        #print(f\"Hi your student journey waits for you to {first_name} {last_name}\") \n",
    "    def display(self):\n",
    "        print(\"Hey Learner lets start the learning journey\")\n",
    "    def id(self):\n",
    "        print(User.counter) \n",
    "    "
   ]
  },
  {
   "cell_type": "code",
   "execution_count": 214,
   "id": "e509e347-806a-4654-bd67-0583c18b3a9b",
   "metadata": {},
   "outputs": [
    {
     "name": "stdout",
     "output_type": "stream",
     "text": [
      "Registration is successfull\n",
      "username: sillyginger\n"
     ]
    },
    {
     "name": "stdin",
     "output_type": "stream",
     "text": [
      "please input a 8 character pasword and incude only #$%& these special characters\n",
      "\n",
      " 1234$%aasdpo\n"
     ]
    },
    {
     "name": "stdout",
     "output_type": "stream",
     "text": [
      "1 , 1 , 0 \n",
      "2 , 2 , 0 \n",
      "3 , 3 , 0 \n",
      "4 , 4 , 0 \n",
      "4 , 5 , 1 \n",
      "4 , 6 , 2 \n",
      "4 , 7 , 2 \n",
      "4 , 8 , 2 \n",
      "4 , 9 , 2 \n",
      "4 , 10 , 2 \n",
      "4 , 11 , 2 \n",
      "4 , 12 , 2 \n",
      "pasword correct as per the rules\n"
     ]
    }
   ],
   "source": [
    "s = Instructor()   \n",
    "s.register(\"silly\",\"ginger\",\"12/07/7098\")  "
   ]
  },
  {
   "cell_type": "code",
   "execution_count": 216,
   "id": "92d1a03f-9fb3-4182-9e79-1676a1670cd3",
   "metadata": {},
   "outputs": [
    {
     "name": "stdout",
     "output_type": "stream",
     "text": [
      "Logined successfully\n"
     ]
    }
   ],
   "source": [
    "s.login(\"sillyginger\" , \"1234$%aasdpo\")   "
   ]
  },
  {
   "cell_type": "code",
   "execution_count": 217,
   "id": "ffa549f5-1043-4cab-9ac0-e41449f482e5",
   "metadata": {},
   "outputs": [
    {
     "name": "stdout",
     "output_type": "stream",
     "text": [
      "Welcome Instructor silly ginger\n"
     ]
    }
   ],
   "source": [
    "s.display() "
   ]
  },
  {
   "cell_type": "code",
   "execution_count": 218,
   "id": "ad262bc5-8a41-4426-af9c-416b4a4f6fce",
   "metadata": {},
   "outputs": [
    {
     "name": "stdout",
     "output_type": "stream",
     "text": [
      "Welcome Instructor  \n"
     ]
    }
   ],
   "source": [
    "inst1= Instructor()  \n",
    "inst1.display()  "
   ]
  },
  {
   "cell_type": "code",
   "execution_count": 222,
   "id": "ed9b2966-46bf-4dcf-80a1-6969bcf2e704",
   "metadata": {},
   "outputs": [],
   "source": [
    "learner1 = Learner()     "
   ]
  },
  {
   "cell_type": "code",
   "execution_count": 223,
   "id": "7aa06dbf-2d4b-411f-9193-86a197cc4fa0",
   "metadata": {},
   "outputs": [
    {
     "name": "stdout",
     "output_type": "stream",
     "text": [
      "Hey Learner lets start the learning journey\n"
     ]
    }
   ],
   "source": [
    "learner1.display() "
   ]
  },
  {
   "cell_type": "code",
   "execution_count": 229,
   "id": "8b74d123-9e9c-49e4-b7a5-db33370b72e7",
   "metadata": {},
   "outputs": [
    {
     "name": "stdout",
     "output_type": "stream",
     "text": [
      "Registration is successfull\n",
      "username: ArigonLeo\n"
     ]
    },
    {
     "name": "stdin",
     "output_type": "stream",
     "text": [
      "please input a 8 character pasword and incude only #$%& these special characters\n",
      "\n",
      " leoarigon234#$\n"
     ]
    },
    {
     "name": "stdout",
     "output_type": "stream",
     "text": [
      "0 , 1 , 0 \n",
      "0 , 2 , 0 \n",
      "0 , 3 , 0 \n",
      "0 , 4 , 0 \n",
      "0 , 5 , 0 \n",
      "0 , 6 , 0 \n",
      "0 , 7 , 0 \n",
      "0 , 8 , 0 \n",
      "0 , 9 , 0 \n",
      "1 , 10 , 0 \n",
      "2 , 11 , 0 \n",
      "3 , 12 , 0 \n",
      "3 , 13 , 1 \n",
      "3 , 14 , 2 \n",
      "pasword correct as per the rules\n"
     ]
    }
   ],
   "source": [
    "learner1.register(\"Arigon\" , \"Leo\" , \"16/06/1996\") "
   ]
  },
  {
   "cell_type": "code",
   "execution_count": 230,
   "id": "ac8e242c-e465-40cf-912b-ad42097aaba7",
   "metadata": {},
   "outputs": [
    {
     "name": "stdout",
     "output_type": "stream",
     "text": [
      "Logined successfully\n"
     ]
    }
   ],
   "source": [
    "learner1.login(\"ArigonLeo\",\"leoarigon234#$\")\n"
   ]
  },
  {
   "cell_type": "code",
   "execution_count": 231,
   "id": "0cfb475e-a76e-4a19-aab8-062abfb86a15",
   "metadata": {},
   "outputs": [
    {
     "name": "stdout",
     "output_type": "stream",
     "text": [
      "Hey Learner lets start the learning journey\n"
     ]
    }
   ],
   "source": [
    "learner1.display()"
   ]
  },
  {
   "cell_type": "code",
   "execution_count": 232,
   "id": "2b0ae876-228e-4582-8879-eb2d9b33c36b",
   "metadata": {},
   "outputs": [
    {
     "name": "stdout",
     "output_type": "stream",
     "text": [
      "1\n"
     ]
    }
   ],
   "source": [
    "learner1.id() "
   ]
  },
  {
   "cell_type": "code",
   "execution_count": null,
   "id": "9b57551f-7fbe-4f22-a5a7-f5499f9f25fc",
   "metadata": {},
   "outputs": [],
   "source": []
  }
 ],
 "metadata": {
  "kernelspec": {
   "display_name": "Python 3 (ipykernel)",
   "language": "python",
   "name": "python3"
  },
  "language_info": {
   "codemirror_mode": {
    "name": "ipython",
    "version": 3
   },
   "file_extension": ".py",
   "mimetype": "text/x-python",
   "name": "python",
   "nbconvert_exporter": "python",
   "pygments_lexer": "ipython3",
   "version": "3.10.14"
  }
 },
 "nbformat": 4,
 "nbformat_minor": 5
}
