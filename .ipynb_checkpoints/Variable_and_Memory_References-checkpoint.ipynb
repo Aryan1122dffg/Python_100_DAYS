{
 "cells": [
  {
   "cell_type": "code",
   "execution_count": 1,
   "id": "87c726fb-b83d-42a7-9431-e5f4997661d1",
   "metadata": {},
   "outputs": [],
   "source": [
    "# Variable and Memory References\n",
    "\n",
    "\n",
    "#VARAIBLE ASSIGNMNET \n",
    "#a = 4\n",
    "#a = 4: a points to memory location of 4.\n",
    "\n",
    "#4 stored in a: 4 in memory, a ---> 4's address.\n",
    "\n"
   ]
  },
  {
   "cell_type": "code",
   "execution_count": 10,
   "id": "f702d5e5-3251-442b-9f7f-daaa62b85328",
   "metadata": {},
   "outputs": [
    {
     "name": "stdout",
     "output_type": "stream",
     "text": [
      "108934543062952\n",
      "0x63134cbe37a8\n",
      "\n",
      "133093356529968\n",
      "0x790c363ce930\n",
      "\n"
     ]
    }
   ],
   "source": [
    "a=4\n",
    "print(id(a))\n",
    "print(hex(id(a)) ,end = \"\\n\\n\")\n",
    "\n",
    "\n",
    "b = 299 \n",
    "print(id(b)) \n",
    "print(hex(id(b)) ,end = \"\\n\\n\")"
   ]
  },
  {
   "cell_type": "code",
   "execution_count": 25,
   "id": "ae0757b8-4d5a-4b0a-8a61-ab434315fb91",
   "metadata": {},
   "outputs": [
    {
     "name": "stdout",
     "output_type": "stream",
     "text": [
      "a >> 108934543062984\n",
      "b >> 108934543062984\n",
      "\n",
      "c>> 108934543065704\n",
      "d>> 108934543065704\n",
      "\n",
      "\n",
      "a >> 108934543062984\n",
      "\n",
      "b >> 108934543062984\n",
      "\n",
      "c >> 108934543062984\n",
      "\n",
      "d >> 108934543062984\n",
      "\n",
      "A1 >> 108934543064584\n",
      "\n",
      "B >> 108934543064584\n",
      "\n",
      "A2 >> 108934543063016\n",
      "\n"
     ]
    }
   ],
   "source": [
    "#ALIASING  \n",
    "\n",
    "#In python varaible does not store the actual value , \n",
    "#It  point to memory location of the actual value and store the refrence or that location \n",
    "#SO WHEN DELETING A VARIABLE OR THE VALUE \n",
    "#REFRENCED LOCATION IS BEING DELTED FROM THE VARIABLE AND \n",
    "#VALUE REMAINS AS IT IS  \n",
    "\n",
    "#IF YOU CHANGE THE VALUE IN VARIABLE (X) \n",
    "#VAR X WILL POINT TOWARDS THE CHANGED VALUES MEMEORY LOC\n",
    "#PREVIOUS VALUE REMAINS AS IT IS  \n",
    "\n",
    "a=5  \n",
    "b=5  \n",
    "\n",
    "print(\"a >>\",id(a)) \n",
    "print(\"b >>\",id(b) , end =\"\\n\\n\") \n",
    "\n",
    "c = 90 \n",
    "d = c \n",
    "print(\"c>>\",id(c)) \n",
    "print(\"d>>\",id(d)) \n",
    "print(end = \"\\n\\n\")\n",
    "\n",
    "a=b \n",
    "c=b\n",
    "d=c \n",
    "print(\"a >>\",id(a) , end =\"\\n\\n\")  \n",
    "print(\"b >>\",id(b) , end =\"\\n\\n\")\n",
    "print(\"c >>\",id(c) , end =\"\\n\\n\") \n",
    "print(\"d >>\",id(d) , end =\"\\n\\n\")  \n",
    "#b,c,d start pointing to the memory adrres that is stored in 'a' name/variable \n",
    "\n",
    "\n",
    "#REMOVING REFRENCES AND NOT ACTUAL VALUE REMAINS INTACT \n",
    "A = 55\n",
    "print(\"A1 >>\",id(A) , end =\"\\n\\n\")\n",
    "B = A\n",
    "print(\"B >>\",id(B) , end =\"\\n\\n\")\n",
    "A= 6\n",
    "print(\"A2 >>\",id(A) , end =\"\\n\\n\")\n",
    "\n"
   ]
  },
  {
   "cell_type": "code",
   "execution_count": 26,
   "id": "377bfe5c-ea85-4a04-869d-ae35242e4cff",
   "metadata": {},
   "outputs": [],
   "source": [
    "#RULE  :  RANGE(-5 to 256) SAME IDENTIFIER/VARAIBLE \n",
    "        # OUT OF RANGE      DIFFERENT VARIABLES \n",
    "\n"
   ]
  },
  {
   "cell_type": "code",
   "execution_count": 30,
   "id": "5ed5f7b6-1811-40e5-a14d-df7b802bbea8",
   "metadata": {},
   "outputs": [
    {
     "name": "stdout",
     "output_type": "stream",
     "text": [
      "133093355271792\n",
      "133093355271792\n",
      "133093355271792\n"
     ]
    },
    {
     "data": {
      "text/plain": [
       "4"
      ]
     },
     "execution_count": 30,
     "metadata": {},
     "output_type": "execute_result"
    }
   ],
   "source": [
    "#REFRENCE COUNTING \n",
    "# Reference Counting tracks variables referencing a memory address.\n",
    "a = \"erherherh\" # Memory address X\n",
    "b = a           # b ---> X\n",
    "c = b           # c ---> X\n",
    "\n",
    "print(id(a)) \n",
    "print(id(b)) \n",
    "print(id(c)) \n",
    "\n",
    "import sys \n",
    "sys.getrefcount(a)   \n",
    "#Shows +1 reference count. \n",
    "#Internally adds a temporary reference.  \n"
   ]
  },
  {
   "cell_type": "code",
   "execution_count": 33,
   "id": "ebbfb225-4ca3-4d47-ab43-face2348a123",
   "metadata": {},
   "outputs": [
    {
     "name": "stdout",
     "output_type": "stream",
     "text": [
      "133093354766384\n",
      "133093354766384\n"
     ]
    },
    {
     "data": {
      "text/plain": [
       "3"
      ]
     },
     "execution_count": 33,
     "metadata": {},
     "output_type": "execute_result"
    }
   ],
   "source": [
    "a= \"abcdefghi\" \n",
    "b = \"abcdefghi\"  \n",
    "print(id(a))\n",
    "print(id(b)) \n",
    "import sys \n",
    "sys.getrefcount(a)  #2 +1 temp refrence "
   ]
  },
  {
   "cell_type": "code",
   "execution_count": 34,
   "id": "a709755f-63f0-4e90-a0ed-f5257c51c70b",
   "metadata": {},
   "outputs": [],
   "source": [
    "#GARBAGE COLLECTION \n",
    "# Garbage Collection\n",
    "# Unused memory remains after references are deleted.\n",
    "#Garbage Collector manages and frees this space.\n",
    "\n",
    "#Periodic deletion of unreferenced values is called Garbage Collection\n",
    "\n",
    "#Wierd Stuff\n",
    "\n",
    "# Python's Wierd Behaviour/Oddities:\n",
    "#1. Ref Count Anomaly/Getrefcount Anomaly: sys.getrefcount() shows an extra count due to temp ref.\n",
    "#2. Integer Caching: Caches -5 to 256 integers for optimization.\n",
    "#3. String Interning: Same string literals share memory.\n",
    "\n",
    "\n",
    " \n"
   ]
  },
  {
   "cell_type": "code",
   "execution_count": 38,
   "id": "ed706ded-bb53-4af8-a859-7db47830c5fc",
   "metadata": {},
   "outputs": [
    {
     "name": "stdout",
     "output_type": "stream",
     "text": [
      "L[0] >> 108934543063208\n",
      "L[1]  >> 108934543063560\n",
      "L[2] >> 108934543063592\n",
      "[24, 23, 24]\n",
      "108934543063592\n"
     ]
    }
   ],
   "source": [
    "#MUTABILITY\n",
    "\n",
    "L = [12,23,24]  \n",
    "\n",
    "print(\"L[0] >>\",id(L[0])) \n",
    "\n",
    "print(\"L[1]  >>\",id(L[1]))\n",
    "\n",
    "print(\"L[2] >>\",id(L[2]))\n",
    "\n",
    "L[0] = 24 \n",
    "print(L)\n",
    " \n",
    "print(id(L[0]))\n",
    "#example \n",
    "\n"
   ]
  },
  {
   "cell_type": "code",
   "execution_count": 75,
   "id": "5793b652-c63b-4581-81d0-5c82b5531abf",
   "metadata": {},
   "outputs": [
    {
     "name": "stdout",
     "output_type": "stream",
     "text": [
      "133093342904448\n",
      "133093341010000\n",
      "133093344550272\n",
      "[1, 2, 3, 666]\n",
      "133093344550272\n",
      "133093344578624\n",
      "133093344578624\n",
      "L15 : id : 133093344436864 [9090909, 23323, 45, 2, 12, 6550, 1]\n",
      "L15 : id : 133093344436864 [9090909, 23323, 45, 2, 12, 6550, 1, 'L', 'O', 'A', 'D', 'S']\n",
      "L15 >>>> 133093344436864 [9090909, 23323, 45, 2, 12, 6550, 1]\n",
      "L15 >>> 133093344580096 [1, 2, 12, 45, 6550, 23323, 9090909]\n",
      "D0 : id: 133093344578304 {'SCORE': 9, 'STADIUM': 'BOLT', 'TYPE': 'LONG RANGE', 'DISTANCE': 1000}\n",
      "D0 : id: 133093344578304 {'SCORE': 100, 'STADIUM': 'BOLT', 'TYPE': 'LONG RANGE', 'DISTANCE': 1000}\n",
      " D1 : id: 133093344443264 ['DISTANCE', 'SCORE', 'STADIUM', 'TYPE']\n",
      "D0 : id: 133093344578304 {'STADIUM': 'BOLT', 'TYPE': 'LONG RANGE', 'DISTANCE': 1000}\n"
     ]
    }
   ],
   "source": [
    "#Mutability ---> Ability to modify data at its memory location.\n",
    "#Depends on Data type.\n",
    "\n",
    "#Immutable Data Types\n",
    "#str, int, float, bool, complex, tuple\n",
    "#Mutable Data Types\n",
    "#list, dict, set\n",
    "\n",
    "\n",
    "#TUPLE  \n",
    "T = (1,23,34) \n",
    "print(id(T))    \n",
    "\n",
    "T = T+ (5,6)\n",
    "print(id(T))  #Value changed the T variable pointed to different refrence memory \n",
    "\n",
    "#LIST\n",
    "L1 = [1,2,3] \n",
    "print(id(L1))   \n",
    "L1.append(666)\n",
    "print(L1)\n",
    "print(id(L1)) \n",
    "\n",
    "\n",
    "L14 = [1222,1444,15555,16666] \n",
    "print(id(L14))  \n",
    "\n",
    "L14.append(1111111) \n",
    "print(id(L14))   \n",
    "\n",
    "L15 = [9090909 , 23323,45,2,12,6550,1] \n",
    "print(\"L15 : id :\", id(L15), L15) \n",
    "L15.extend(\"LOADS\") \n",
    "print(\"L15 : id :\", id(L15), L15) \n",
    "\n",
    "del L15[7:12] \n",
    "print(\"L15 >>>>\" , id(L15),L15)\n",
    "\n",
    "L15 = sorted(L15) \n",
    "print(\"L15 >>>\" , id(L15), L15) \n",
    "\n",
    "\n",
    "#DICT \n",
    "D0 =  {\"SCORE\":9,\"STADIUM\":\"BOLT\",\"TYPE\":\"LONG RANGE\",\"DISTANCE\":1000} \n",
    "print(\"D0 : id:\",id(D0) , D0)\n",
    "\n",
    "D0[\"SCORE\"] = 100 \n",
    "print(\"D0 : id:\",id(D0) , D0)\n",
    "\n",
    "D1 = sorted(D0) #CHANGED SEQUENCE MEMORY REFRENCE CHANGED   \n",
    "print(\" D1 : id:\",id(D1) , D1) \n",
    "\n",
    "del D0[\"SCORE\"]  \n",
    "print(\"D0 : id:\",id(D0) , D0)\n",
    "\n",
    "#adding and deleting DIDNT CHANGE THE MEMORY REFRENCE for DICTIONARY and LIST  \n",
    "#SORTING changes the memory refrence for LIST and DICt \n",
    "\n",
    "\n",
    "#SET \n"
   ]
  },
  {
   "cell_type": "code",
   "execution_count": 77,
   "id": "43ba0e15-af16-45bd-acc3-bb885c53b69c",
   "metadata": {},
   "outputs": [],
   "source": [
    "#MUTABILITY CAN BE DANGEROUS SOMETIMES \n",
    "L = [1,23,44]\n",
    "\n",
    "L1 = L  "
   ]
  },
  {
   "cell_type": "code",
   "execution_count": 80,
   "id": "32f53b53-c01b-41f8-abd8-360f6ef430d1",
   "metadata": {},
   "outputs": [
    {
     "name": "stdout",
     "output_type": "stream",
     "text": [
      "[1, 23, 44]\n"
     ]
    }
   ],
   "source": [
    "print(L1)  \n"
   ]
  },
  {
   "cell_type": "code",
   "execution_count": 84,
   "id": "ab9f7a93-cd80-469c-b334-6c23d4308f3f",
   "metadata": {},
   "outputs": [
    {
     "name": "stdout",
     "output_type": "stream",
     "text": [
      "L >> 133093344546432 [1, 23, 44]\n",
      "\n",
      "L1 >> 133093344546432 [1, 23, 44]\n"
     ]
    }
   ],
   "source": [
    "print(\"L >>\" , id(L) , L ,end= \"\\n\\n\") \n",
    "print(\"L1 >>\", id(L1) , L1)    "
   ]
  },
  {
   "cell_type": "code",
   "execution_count": 85,
   "id": "a4a8d879-a5e5-4a9d-add2-7efe2f0972af",
   "metadata": {},
   "outputs": [
    {
     "name": "stdout",
     "output_type": "stream",
     "text": [
      "L1 >> 133093344546432 [1, 23, 44, 4]\n"
     ]
    }
   ],
   "source": [
    "L1.append(4) \n",
    "print(\"L1 >>\", id(L1) , L1)"
   ]
  },
  {
   "cell_type": "code",
   "execution_count": 86,
   "id": "d923789b-b5be-4374-a745-cb4f873cb9e4",
   "metadata": {},
   "outputs": [
    {
     "name": "stdout",
     "output_type": "stream",
     "text": [
      "L >> 133093344546432 [1, 23, 44, 4]\n",
      "\n"
     ]
    }
   ],
   "source": [
    "print(\"L >>\" , id(L) , L ,end= \"\\n\\n\") \n"
   ]
  },
  {
   "cell_type": "code",
   "execution_count": 87,
   "id": "c6b35262-dabe-417e-9281-d110ee9036b2",
   "metadata": {},
   "outputs": [],
   "source": [
    "#As \"L1\" is poiinting to the same memory refrence as \"L\" \n",
    "#WHEn, changes happen L1 , L is aslo affected \n",
    "#THAT is annger of mutability "
   ]
  },
  {
   "cell_type": "code",
   "execution_count": 107,
   "id": "87a0781e-ad4e-45bb-81bb-8a078f42cc06",
   "metadata": {},
   "outputs": [
    {
     "name": "stdout",
     "output_type": "stream",
     "text": [
      "L0 >>>> 133093342723840 [1, 2, 3, 4]\n",
      "After Cloning\n",
      "L01 >>>> 133093342654016 [1, 2, 3, 4]\n"
     ]
    }
   ],
   "source": [
    "#CLONING \n",
    "#L[:] \n",
    "#print(id(L[:])) \n",
    "\n",
    "# In cloning we create a copy of the list at a different memory address\n",
    "L0 = [1,2,3,4] \n",
    "\n",
    "L01 = L0[:]  #CLONING \n",
    "\n",
    "print(\"L0 >>>>\" , id(L0), L0)\n",
    "print(\"After Cloning\")\n",
    "print(\"L01 >>>>\" , id(L01), L01)  "
   ]
  },
  {
   "cell_type": "code",
   "execution_count": 114,
   "id": "1a725dce-2222-484d-9867-bb89a3b2b7c0",
   "metadata": {},
   "outputs": [
    {
     "name": "stdout",
     "output_type": "stream",
     "text": [
      "a >>>> 133093342777152 [1, 2, 3, 4, [800, 900]]\n",
      "After editing \n",
      " a >>>> 133093342777152 [1, 2, 3, 4, [800, 1000]]\n",
      "CREATED a Similar list manualy no cloning \n",
      " a >>>> 133093341039424 [1, 2, 3, 4, [800, 900]]\n",
      "After editing 'a'  \n",
      " a >>>> 133093341039424 [1, 2, 3, 4, [800, 1000]]\n"
     ]
    }
   ],
   "source": [
    "a = [1,2,3,4,[800,900]] \n",
    "\n",
    "print(\"a >>>>\" ,id(a) , a) \n",
    "\n",
    "#editing\n",
    "a[-1][-1] = 1000 \n",
    "print( \"After editing\",\"\\n\" ,\"a >>>>\" ,id(a) , a)  \n",
    "\n",
    "a = [1,2,3,4,[800,900]] \n",
    "print(\"CREATED a Similar list manualy no cloning\" ,\"\\n\",\"a >>>>\" ,id(a) , a)  \n",
    "\n",
    "a[-1][-1] = 1000 \n",
    "print(\"After editing 'a' \" ,\"\\n\",\"a >>>>\" ,id(a) , a)  \n",
    "\n"
   ]
  },
  {
   "cell_type": "code",
   "execution_count": 140,
   "id": "cece62dc-c33d-4fce-95f5-78c1f59978aa",
   "metadata": {},
   "outputs": [
    {
     "name": "stdout",
     "output_type": "stream",
     "text": [
      " a >>>> 133093344482560 [100, 200, 300, 400]\n",
      " b` >>>> 133093346310784 [500, 600, 700, 800]\n",
      "\n",
      "\n",
      "AFTER JOINING INTO C  \n",
      "  a >>>> 133093344482560 [100, 200, 300, 400]\n",
      " b` >>>> 133093346310784 [500, 600, 700, 800]\n",
      "\n",
      "\n",
      " c >>>> 133093355140160 [[100, 200, 300, 400], [500, 600, 700, 800]]\n",
      "c >>>> 133093355140160 [[100, 200, 300, 4000], [500, 600, 700, 800]]\n",
      "\n",
      "\n",
      "((22, 33, 44, 55, 66, 77), (88, 99, 110, 112, 111))\n",
      "g >>>>>>  133093344586112 [(22, 33, 44, 55, 66, 77), (88, 99, 110, 112, 111)]\n"
     ]
    },
    {
     "ename": "TypeError",
     "evalue": "'tuple' object does not support item assignment",
     "output_type": "error",
     "traceback": [
      "\u001b[31m---------------------------------------------------------------------------\u001b[39m",
      "\u001b[31mTypeError\u001b[39m                                 Traceback (most recent call last)",
      "\u001b[36mCell\u001b[39m\u001b[36m \u001b[39m\u001b[32mIn[140]\u001b[39m\u001b[32m, line 24\u001b[39m\n\u001b[32m     21\u001b[39m g = [d,e]  \n\u001b[32m     22\u001b[39m \u001b[38;5;28mprint\u001b[39m( \u001b[33m\"\u001b[39m\u001b[33mg >>>>>> \u001b[39m\u001b[33m\"\u001b[39m,\u001b[38;5;28mid\u001b[39m(g), g , )\n\u001b[32m---> \u001b[39m\u001b[32m24\u001b[39m \u001b[43mg\u001b[49m\u001b[43m[\u001b[49m\u001b[32;43m0\u001b[39;49m\u001b[43m]\u001b[49m\u001b[43m[\u001b[49m\u001b[32;43m1\u001b[39;49m\u001b[43m]\u001b[49m = \u001b[32m9000\u001b[39m\n",
      "\u001b[31mTypeError\u001b[39m: 'tuple' object does not support item assignment"
     ]
    }
   ],
   "source": [
    "a= [100,200,300,400] \n",
    "print(\" a >>>>\" , id(a) ,a) \n",
    "b= [500,600,700,800] \n",
    "print(\" b` >>>>\" , id(b) ,b, end = \"\\n\\n\\n\")\n",
    "\n",
    "c = [a,b] \n",
    "print(  \"AFTER JOINING INTO C \",\"\\n\" ,\" a >>>>\" , id(a) ,a ) \n",
    "print(\" b` >>>>\" , id(b) ,b, end = \"\\n\\n\\n\")\n",
    "print(\" c >>>>\" , id(c) ,c)\n",
    "c[0][3] = 4000 \n",
    "\n",
    "print(\"c >>>>\"  , id(c) , c ,end =\"\\n\\n\\n\") \n",
    "\n",
    "d = (22,33,44,55,66,77) \n",
    "\n",
    "e = (88,99,110,112,111)  \n",
    "\n",
    "f = (d,e)\n",
    "print(f)  \n",
    "\n",
    "g = [d,e]  \n",
    "print( \"g >>>>>> \",id(g), g , )\n",
    "  \n",
    "g[0][1] = 9000 #TypeError: 'tuple' object does not support item assignment\n"
   ]
  },
  {
   "cell_type": "code",
   "execution_count": 118,
   "id": "b8c3c2b7-698c-4eac-93bf-0178936db02c",
   "metadata": {},
   "outputs": [
    {
     "ename": "TypeError",
     "evalue": "unhashable type: 'dict'",
     "output_type": "error",
     "traceback": [
      "\u001b[31m---------------------------------------------------------------------------\u001b[39m",
      "\u001b[31mTypeError\u001b[39m                                 Traceback (most recent call last)",
      "\u001b[36mCell\u001b[39m\u001b[36m \u001b[39m\u001b[32mIn[118]\u001b[39m\u001b[32m, line 5\u001b[39m\n\u001b[32m      1\u001b[39m d0 = {} \n\u001b[32m      3\u001b[39m d1 = {} \n\u001b[32m----> \u001b[39m\u001b[32m5\u001b[39m d2 = {d0 , d1}\n\u001b[32m      6\u001b[39m \u001b[38;5;28mprint\u001b[39m(d0, d1) \u001b[38;5;66;03m#DICT IS NOT MUTABLE    datatype \u001b[39;00m\n\u001b[32m      7\u001b[39m \u001b[38;5;28mprint\u001b[39m(c)\n",
      "\u001b[31mTypeError\u001b[39m: unhashable type: 'dict'"
     ]
    }
   ],
   "source": [
    "\n",
    "d0 = {} \n",
    "\n",
    "d1 = {} \n",
    "\n",
    "d2 = {d0 , d1}\n",
    "print(d0, d1) #DICT IS NOT MUTABLE    datatype \n",
    "print(c)"
   ]
  },
  {
   "cell_type": "code",
   "execution_count": 147,
   "id": "95113384-d97a-4927-b8c8-bf595a7b4c15",
   "metadata": {},
   "outputs": [
    {
     "name": "stdout",
     "output_type": "stream",
     "text": [
      "LL    >>>> 133093344690624 [123, 345, 678]\n",
      "LL    >>>> 133093344690624 [123, 345, 678]\n",
      "133093349316288\n"
     ]
    },
    {
     "data": {
      "text/plain": [
       "133093349316288"
      ]
     },
     "execution_count": 147,
     "metadata": {},
     "output_type": "execute_result"
    }
   ],
   "source": [
    "#append, edit, insert, extend modifies list in place (mutable); same memory address.\n",
    "\n",
    "#Concatenation creates new list; different memory address.\n",
    "\n",
    "LL = [123,345,678] \n",
    "\n",
    "print(\"LL    >>>>\",id(LL) ,LL ) \n",
    "#CONCATENATE \n",
    "LL+[8,9,1000]\n",
    "\n",
    "print(\"LL    >>>>\",id(LL) ,LL )  \n",
    "\n",
    "l00 = [12 ,[23 ,4] ,5] \n",
    "print(id(l00))  \n",
    "\n",
    "l00 + [5,6] \n",
    "id(l00)    "
   ]
  },
  {
   "cell_type": "code",
   "execution_count": null,
   "id": "e6cfb6bb-8051-469b-9e34-e728bcec05bf",
   "metadata": {},
   "outputs": [],
   "source": [
    "#CREATED BY : ARYAN INGLE\n",
    "#LAST EDITED : 26 july 25 \n",
    "#Time : 23:25 "
   ]
  },
  {
   "cell_type": "code",
   "execution_count": null,
   "id": "cab237d8-770d-4bca-85b4-a8985eff8bd1",
   "metadata": {},
   "outputs": [],
   "source": []
  }
 ],
 "metadata": {
  "kernelspec": {
   "display_name": "Python 3 (ipykernel)",
   "language": "python",
   "name": "python3"
  },
  "language_info": {
   "codemirror_mode": {
    "name": "ipython",
    "version": 3
   },
   "file_extension": ".py",
   "mimetype": "text/x-python",
   "name": "python",
   "nbconvert_exporter": "python",
   "pygments_lexer": "ipython3",
   "version": "3.11.0"
  }
 },
 "nbformat": 4,
 "nbformat_minor": 5
}
