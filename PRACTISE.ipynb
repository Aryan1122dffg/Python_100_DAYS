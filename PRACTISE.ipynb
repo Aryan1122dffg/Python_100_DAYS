{
 "cells": [
  {
   "cell_type": "code",
   "execution_count": 1,
   "id": "a4e00d7c-8756-4320-b174-696942f44ec4",
   "metadata": {},
   "outputs": [
    {
     "name": "stdout",
     "output_type": "stream",
     "text": [
      "M\n"
     ]
    }
   ],
   "source": [
    "str1= \"MANIFEST\" \n",
    "\n",
    "print(str1[0]) "
   ]
  },
  {
   "cell_type": "code",
   "execution_count": 3,
   "id": "b2e42e64-2cd5-427e-a03e-ecf411562e48",
   "metadata": {},
   "outputs": [
    {
     "name": "stdout",
     "output_type": "stream",
     "text": [
      "MNF\n"
     ]
    }
   ],
   "source": [
    "print(str1[0:6:2]) "
   ]
  },
  {
   "cell_type": "code",
   "execution_count": 4,
   "id": "281d2663-cebe-4603-bf9e-dc2385b1c80c",
   "metadata": {},
   "outputs": [
    {
     "name": "stdout",
     "output_type": "stream",
     "text": [
      "IA\n"
     ]
    }
   ],
   "source": [
    "print(str1[-5::-2]) "
   ]
  },
  {
   "cell_type": "code",
   "execution_count": 8,
   "id": "0a344e9e-9ad6-46a3-85f4-024d10c8e22a",
   "metadata": {},
   "outputs": [
    {
     "name": "stdout",
     "output_type": "stream",
     "text": [
      "IE\n"
     ]
    }
   ],
   "source": [
    "print(str1[-5:-1:2]) "
   ]
  },
  {
   "cell_type": "code",
   "execution_count": 10,
   "id": "dfe608c4-1171-43e8-b55c-44fd49b1b854",
   "metadata": {},
   "outputs": [
    {
     "name": "stdout",
     "output_type": "stream",
     "text": [
      "TE\n"
     ]
    }
   ],
   "source": [
    "print(str1[-1:-5:-2]) "
   ]
  },
  {
   "cell_type": "code",
   "execution_count": 15,
   "id": "1fcb9d64-9914-4b3b-a662-357723bc4b7d",
   "metadata": {},
   "outputs": [
    {
     "name": "stdout",
     "output_type": "stream",
     "text": [
      "REALLY ____>>>> YES!!!\n"
     ]
    }
   ],
   "source": [
    "str2 =\"REALLY\" \n",
    "\n",
    "str3 = \"YES!!!\" \n",
    "\n",
    "str4 = str2 +\" \"+\"____\"+\">>>>\"+\" \"+str3 \n",
    "print(str4) "
   ]
  },
  {
   "cell_type": "code",
   "execution_count": 16,
   "id": "46df0d01-8abd-4553-8588-4e89f46a1304",
   "metadata": {},
   "outputs": [
    {
     "ename": "TypeError",
     "evalue": "'str' object does not support item assignment",
     "output_type": "error",
     "traceback": [
      "\u001b[31m---------------------------------------------------------------------------\u001b[39m",
      "\u001b[31mTypeError\u001b[39m                                 Traceback (most recent call last)",
      "\u001b[36mCell\u001b[39m\u001b[36m \u001b[39m\u001b[32mIn[16]\u001b[39m\u001b[32m, line 2\u001b[39m\n\u001b[32m      1\u001b[39m str5  = \u001b[33m\"\u001b[39m\u001b[33mROLL ON\u001b[39m\u001b[33m\"\u001b[39m \n\u001b[32m----> \u001b[39m\u001b[32m2\u001b[39m \u001b[43mstr5\u001b[49m\u001b[43m[\u001b[49m\u001b[32;43m0\u001b[39;49m\u001b[43m]\u001b[49m = \u001b[33m'\u001b[39m\u001b[33mY\u001b[39m\u001b[33m'\u001b[39m\n",
      "\u001b[31mTypeError\u001b[39m: 'str' object does not support item assignment"
     ]
    }
   ],
   "source": [
    "str5  = \"ROLL ON\" \n",
    "str5[0] = 'Y'"
   ]
  },
  {
   "cell_type": "code",
   "execution_count": 19,
   "id": "22a3ae31-8ba2-4145-a619-4a73ca208348",
   "metadata": {},
   "outputs": [
    {
     "ename": "NameError",
     "evalue": "name 'str5' is not defined",
     "output_type": "error",
     "traceback": [
      "\u001b[31m---------------------------------------------------------------------------\u001b[39m",
      "\u001b[31mNameError\u001b[39m                                 Traceback (most recent call last)",
      "\u001b[36mCell\u001b[39m\u001b[36m \u001b[39m\u001b[32mIn[19]\u001b[39m\u001b[32m, line 1\u001b[39m\n\u001b[32m----> \u001b[39m\u001b[32m1\u001b[39m \u001b[38;5;28;01mdel\u001b[39;00m \u001b[43mstr5\u001b[49m[\u001b[32m0\u001b[39m]\n\u001b[32m      3\u001b[39m \u001b[38;5;28;01mdel\u001b[39;00m str5 \n\u001b[32m      4\u001b[39m \u001b[38;5;28mprint\u001b[39m(str5) \n",
      "\u001b[31mNameError\u001b[39m: name 'str5' is not defined"
     ]
    }
   ],
   "source": [
    "del str5[0]\n",
    "\n",
    "del str5 \n",
    "print(str5) "
   ]
  },
  {
   "cell_type": "code",
   "execution_count": 31,
   "id": "8db36184-6da9-4809-97d2-b1385baf760a",
   "metadata": {},
   "outputs": [
    {
     "name": "stdout",
     "output_type": "stream",
     "text": [
      "False\n",
      "KRISHNA\n",
      "JESUS\n",
      "False\n"
     ]
    }
   ],
   "source": [
    "if \"HELLO\" == \"HELL\":\n",
    "    print(\"Jai jo\")\n",
    "\n",
    "print(\"MUMBAI\">\"PUNE\") \n",
    "\n",
    "print(\"JESUS\" and \"KRISHNA\")\n",
    "print(\"JESUS\" or \"KRISHNA\") \n",
    "print(not\"KRISHNA\") \n",
    " "
   ]
  },
  {
   "cell_type": "code",
   "execution_count": 34,
   "id": "c276d8d2-33a1-4d67-bc89-c2f327ea11e1",
   "metadata": {},
   "outputs": [
    {
     "data": {
      "text/plain": [
       "False"
      ]
     },
     "execution_count": 34,
     "metadata": {},
     "output_type": "execute_result"
    }
   ],
   "source": [
    " not \" \" "
   ]
  },
  {
   "cell_type": "code",
   "execution_count": 37,
   "id": "f304e823-1c87-4bc4-9a9a-5646c0b037c0",
   "metadata": {},
   "outputs": [
    {
     "name": "stdout",
     "output_type": "stream",
     "text": [
      "E\n",
      "C\n",
      "A\n",
      "P\n",
      "S\n",
      " \n",
      "N\n",
      "I\n",
      " \n",
      "T\n",
      "U\n",
      "A\n",
      "N\n",
      "U\n",
      "O\n",
      "R\n",
      "T\n",
      "S\n",
      "A\n"
     ]
    }
   ],
   "source": [
    "str7 = \"ASTROUNAUT IN SPACE\" \n",
    "for char in str7[ ::-1]:\n",
    "    print( char,end =\"\\n\") "
   ]
  },
  {
   "cell_type": "code",
   "execution_count": 42,
   "id": "6cd80255-a321-486e-8b88-a61f0484505d",
   "metadata": {},
   "outputs": [
    {
     "name": "stdout",
     "output_type": "stream",
     "text": [
      "False\n"
     ]
    }
   ],
   "source": [
    "\"T\" in str7 \n",
    "\n",
    "print(\"S\" not in str7)  \n",
    "\n"
   ]
  },
  {
   "cell_type": "code",
   "execution_count": 43,
   "id": "b0fe37ea-e22b-4d41-a76d-e03b2851cc52",
   "metadata": {},
   "outputs": [
    {
     "data": {
      "text/plain": [
       "'U'"
      ]
     },
     "execution_count": 43,
     "metadata": {},
     "output_type": "execute_result"
    }
   ],
   "source": [
    "max(\"UNDER\")"
   ]
  },
  {
   "cell_type": "code",
   "execution_count": 44,
   "id": "f4252413-bc6c-4467-97a2-f58e872888d6",
   "metadata": {},
   "outputs": [
    {
     "data": {
      "text/plain": [
       "' '"
      ]
     },
     "execution_count": 44,
     "metadata": {},
     "output_type": "execute_result"
    }
   ],
   "source": [
    "min(\"SUPER \")"
   ]
  },
  {
   "cell_type": "code",
   "execution_count": 45,
   "id": "3c2fda56-7c0f-4d72-9d4c-331f029e0c1c",
   "metadata": {},
   "outputs": [
    {
     "data": {
      "text/plain": [
       "['E', 'O', 'R', 'V']"
      ]
     },
     "execution_count": 45,
     "metadata": {},
     "output_type": "execute_result"
    }
   ],
   "source": [
    "sorted(\"OVER\")"
   ]
  },
  {
   "cell_type": "code",
   "execution_count": 46,
   "id": "6424d7cf-0845-40c9-8630-9ade98f32569",
   "metadata": {},
   "outputs": [
    {
     "data": {
      "text/plain": [
       "['R', 'R', 'O', 'N', 'E', 'E', 'D', 'C']"
      ]
     },
     "execution_count": 46,
     "metadata": {},
     "output_type": "execute_result"
    }
   ],
   "source": [
    "sorted(\"CORNERED\" , reverse = True)"
   ]
  },
  {
   "cell_type": "code",
   "execution_count": 48,
   "id": "80fda552-8e3c-49fc-99bf-6e7db3d47830",
   "metadata": {},
   "outputs": [
    {
     "data": {
      "text/plain": [
       "'Population'"
      ]
     },
     "execution_count": 48,
     "metadata": {},
     "output_type": "execute_result"
    }
   ],
   "source": [
    "\"population\".capitalize()  "
   ]
  },
  {
   "cell_type": "code",
   "execution_count": 49,
   "id": "7cc8b922-b5fa-4455-babf-61b713c34c54",
   "metadata": {},
   "outputs": [
    {
     "data": {
      "text/plain": [
       "'freedom'"
      ]
     },
     "execution_count": 49,
     "metadata": {},
     "output_type": "execute_result"
    }
   ],
   "source": [
    "str8 = \"freedOM\" \n",
    "\n",
    "str8.lower() "
   ]
  },
  {
   "cell_type": "code",
   "execution_count": 50,
   "id": "f0351ed4-0163-4a71-ac28-28811c28a9f7",
   "metadata": {},
   "outputs": [
    {
     "data": {
      "text/plain": [
       "'FREEDOM'"
      ]
     },
     "execution_count": 50,
     "metadata": {},
     "output_type": "execute_result"
    }
   ],
   "source": [
    "str8.upper() "
   ]
  },
  {
   "cell_type": "code",
   "execution_count": 52,
   "id": "66fcb002-0365-4a13-8f40-f3de30eef822",
   "metadata": {},
   "outputs": [
    {
     "data": {
      "text/plain": [
       "0"
      ]
     },
     "execution_count": 52,
     "metadata": {},
     "output_type": "execute_result"
    }
   ],
   "source": [
    "\"COLLISION\".find(\"C\")"
   ]
  },
  {
   "cell_type": "code",
   "execution_count": 53,
   "id": "a57f5cf9-1f41-43ab-9317-71d632ec1012",
   "metadata": {},
   "outputs": [
    {
     "data": {
      "text/plain": [
       "0"
      ]
     },
     "execution_count": 53,
     "metadata": {},
     "output_type": "execute_result"
    }
   ],
   "source": [
    "\"COLLISION\".index(\"C\")"
   ]
  },
  {
   "cell_type": "code",
   "execution_count": 61,
   "id": "f3125128-67b1-4b5b-9b0e-8e05e133cb52",
   "metadata": {},
   "outputs": [
    {
     "data": {
      "text/plain": [
       "True"
      ]
     },
     "execution_count": 61,
     "metadata": {},
     "output_type": "execute_result"
    }
   ],
   "source": [
    "str9 = \"FIGHTER\"\n",
    "str9.endswith(\"R\") "
   ]
  },
  {
   "cell_type": "code",
   "execution_count": 65,
   "id": "fdda0979-f40f-49ca-80e7-c5106fd05844",
   "metadata": {},
   "outputs": [
    {
     "data": {
      "text/plain": [
       "True"
      ]
     },
     "execution_count": 65,
     "metadata": {},
     "output_type": "execute_result"
    }
   ],
   "source": [
    "str9.startswith(\"FIGHT\")"
   ]
  },
  {
   "cell_type": "code",
   "execution_count": 66,
   "id": "01b4be2e-a521-4679-b822-b8d7fb917ea8",
   "metadata": {},
   "outputs": [
    {
     "data": {
      "text/plain": [
       "True"
      ]
     },
     "execution_count": 66,
     "metadata": {},
     "output_type": "execute_result"
    }
   ],
   "source": [
    "str9.endswith(\"TER\") "
   ]
  },
  {
   "cell_type": "code",
   "execution_count": 67,
   "id": "c3f8eaf0-6ba7-439a-b44d-6f69695ffef4",
   "metadata": {},
   "outputs": [
    {
     "data": {
      "text/plain": [
       "'CHARACTER IS DDEFINED BY QUALITY respect pride confidence clarity'"
      ]
     },
     "execution_count": 67,
     "metadata": {},
     "output_type": "execute_result"
    }
   ],
   "source": [
    "#FORMAT \n",
    "\n",
    "\"CHARACTER IS DDEFINED BY QUALITY {} {} {} {}\".format(\"respect\",\"pride\" ,\"confidence\", \"clarity\")\n"
   ]
  },
  {
   "cell_type": "code",
   "execution_count": 1,
   "id": "d72f06d8-cf1d-495f-8770-2acaa403a20c",
   "metadata": {},
   "outputs": [
    {
     "name": "stdout",
     "output_type": "stream",
     "text": [
      "QUALITYS ARE FOLLOWING BRAVERY\n",
      "QUALITYS ARE FOLLOWING HONESTY\n",
      "QUALITYS ARE FOLLOWING COMMON SENSE\n"
     ]
    }
   ],
   "source": [
    "list = [\"BRAVERY\",\"HONESTY\",\"COMMON SENSE\"] \n",
    "i= 0 \n",
    "for i  in list:\n",
    "    print(\"QUALITYS ARE FOLLOWING {}\".format(i))    "
   ]
  },
  {
   "cell_type": "code",
   "execution_count": 32,
   "id": "e0d59f6e-2639-4f79-b988-a1d6248906a4",
   "metadata": {},
   "outputs": [],
   "source": [
    "\"\"\" Make a list using a function which uses for loop and  returns it\"\"\"\n",
    "def making_list(*itom):\n",
    "    items1 = [] \n",
    "    j=0\n",
    "    for i in itom:\n",
    "        print(i)  \n",
    "        items1.append(i )\n",
    "        j+=1 \n",
    "        \n",
    "    print(items1) \n",
    "            \n",
    "        \n",
    "    \n",
    "    \n",
    "    \n",
    "    \n"
   ]
  },
  {
   "cell_type": "code",
   "execution_count": null,
   "id": "76e5bff5-f390-4e6d-812b-47537fb0b20c",
   "metadata": {},
   "outputs": [],
   "source": [
    "def dict1(**kwargs):\n",
    "    print(kwargs)\n",
    "    keyss = []\n",
    "    valuess = []\n",
    "    i=0\n",
    "    for (key,value) in kwargs.items():\n",
    "        keyss.append(key) \n",
    "        valuess.append(value)\n",
    "        i+=1\n",
    "        \n",
    "    print(keyss )\n",
    "    print(valuess)\n",
    "\n",
    "    ini = 0 \n",
    "    pin = key[0] \n",
    "    info = value[0]\n",
    "    while ini<len(kwargs.items()):1\n",
    "        print({pin:{pin:info for (pin,info) in  kwargs.items()}})\n",
    "        ini+=1 \n",
    "\n"
   ]
  },
  {
   "cell_type": "code",
   "execution_count": 1,
   "id": "42e0e97b-b042-44ff-88fd-973f044e9d6d",
   "metadata": {},
   "outputs": [
    {
     "ename": "NameError",
     "evalue": "name 'making_list' is not defined",
     "output_type": "error",
     "traceback": [
      "\u001b[31m---------------------------------------------------------------------------\u001b[39m",
      "\u001b[31mNameError\u001b[39m                                 Traceback (most recent call last)",
      "\u001b[36mCell\u001b[39m\u001b[36m \u001b[39m\u001b[32mIn[1]\u001b[39m\u001b[32m, line 1\u001b[39m\n\u001b[32m----> \u001b[39m\u001b[32m1\u001b[39m \u001b[43mmaking_list\u001b[49m(\u001b[33m\"\u001b[39m\u001b[33mlocalaites\u001b[39m\u001b[33m\"\u001b[39m, \u001b[33m\"\u001b[39m\u001b[33mMArketing\u001b[39m\u001b[33m\"\u001b[39m , \u001b[33m\"\u001b[39m\u001b[33mLocus\u001b[39m\u001b[33m\"\u001b[39m , \u001b[33m\"\u001b[39m\u001b[33mpopping\u001b[39m\u001b[33m\"\u001b[39m) \n\u001b[32m      3\u001b[39m \u001b[38;5;28mprint\u001b[39m(dict1(attendance = \u001b[32m444\u001b[39m , abset = \u001b[32m150\u001b[39m , faculty = \u001b[32m40\u001b[39m , researchers = \u001b[32m100\u001b[39m , location = \u001b[33m\"\u001b[39m\u001b[33mDELHI\u001b[39m\u001b[33m\"\u001b[39m) )\n",
      "\u001b[31mNameError\u001b[39m: name 'making_list' is not defined"
     ]
    }
   ],
   "source": [
    "making_list(\"localaites\", \"MArketing\" , \"Locus\" , \"popping\") \n",
    "\n",
    "print(dict1(attendance = 444 , abset = 150 , faculty = 40 , researchers = 100 , location = \"DELHI\") )"
   ]
  },
  {
   "cell_type": "code",
   "execution_count": 4,
   "id": "c7750a51-e2d6-43d5-8d38-28eee64dcbd8",
   "metadata": {},
   "outputs": [],
   "source": [
    "#AttributeError : Varaibles/objects -> Attribute error means there is some fault with a object inside class\n",
    "#NameError : problem with a variable , not defined, spelling mistakes \n",
    "#TypeERROR: Error in Datatype  in different situations \n",
    "import random \n",
    "import math \n",
    "import pygame\n",
    "import colorsys\n",
    "import turtle as t\n",
    "import random as rd\n",
    "class adventure:\n",
    "\n",
    "    def __init__(self):\n",
    "\n",
    "        self._jump = 0\n",
    "        self._walk = 1 \n",
    "\n",
    "        self._shoot = 1 \n",
    "        \n",
    "        \n",
    "    def menu(self):\n",
    "        print(\"1. Start the journey \")\n",
    "        print(\"2. Selct a character face 😔\")\n",
    "        print(\"3. Choose the weapon 🔫 \")\n",
    "        print(\"4. Exit\")\n",
    "        opt = int(input(\"ENter a number to select choice give below\"))\n",
    "        if opt==1:\n",
    "            print(\"Lets begin!!\")\n",
    "            self.Start_Journey()\n",
    "        elif opt ==2:\n",
    "            pass\n",
    "        elif opt ==3:\n",
    "            pass\n",
    "        elif opt ==4 | opt == \"\":\n",
    "            pass\n",
    "\n",
    "    def Start_Journey(self):\n",
    "        choice = int(input(\"You are in a jungle came across two puzzles choose any one 1.Guess the nummber correct 2. Give answer of the math problem\"))  \n",
    "        if choice == 1:\n",
    "                           num = int(random.randint(1,10))\n",
    "                           x = int(input(\"Enter your guess \"))\n",
    "                           self.i = 0\n",
    "                           while self.i <= 7:\n",
    "                                if x<num:\n",
    "                                    print(\"Guess higher\")\n",
    "                                    self.i+=1\n",
    "                                elif x>num:\n",
    "                                    print(\"Guess lower\")\n",
    "                                    self.i+=1\n",
    "                                elif x == num:\n",
    "                                    print(\"Guesses correct\" , \"Lets walk forward\")\n",
    "                                    self.i+=11\n",
    "                                    break \n",
    "                                x = int(input(\"Enter your guess \"))\n",
    "                           print(\"Congrats you guessed Correct!!!\" , x , sep = \" \" , end = \"\\n\")\n",
    "        if choice == 2: \n",
    "            self.ans = math.lcm(10,35)\n",
    "            print(self.ans)\n",
    "\n",
    "            print(\"you have 3 tries\", end = \"\\n\\n\")\n",
    "            i = 3 \n",
    "            while i>0:\n",
    "                self.user = int(input(\"Enter the LCM\"))   \n",
    "                if self.user != self.ans:\n",
    "                    i-=1\n",
    "                    print(\"incorrect try again\" ,\"remaining chances\", i, sep =\" \") \n",
    "                else:\n",
    "                    print(\"you guessed it correct congrats keep going till you found the boss to kill\" , sep = \" \" ,end = \"\\n\")\n",
    "                    i-=1\n",
    "                    break; \n",
    "        \n",
    "        print(\"Welcome to 2nd round\" , \"You have 2 options\", \"1.Swim the river and cross it\" ,\"2. Use the boat to cross it\") \n",
    "        Sec_round_choice = int(input())\n",
    "        \n",
    "        if Sec_round_choice == 1:\n",
    "            row = int(input(\"Enter no. of rows in the pattern\"))\n",
    "            pattern_lines = [] \n",
    "\n",
    "            for i in range(1,row+1):\n",
    "                line = input(\"For line{i}:\") \n",
    "                pattern_lines.append(line)\n",
    "                \n",
    "            pattern = \"\\n\".join(pattern_lines) \n",
    "            self.pattern_checker(pattern,row) \n",
    "        if Sec_round_choice == 2:\n",
    "            pass\n",
    "        \n",
    "                \n",
    "        print(\"Welcome to Boss room!!\" , end = \"\\n\\n\") \n",
    "        \n",
    "        print(\"      (((()))))) \\n\",\n",
    "               \"{ \\     |||   `~~~~0` \\n\",\n",
    "               \"{  \\----|||----|  \\n\",\n",
    "               \"{       |||      \\n\",\n",
    "               \"{      🦿🦿    \\n\",) \n",
    "                \n",
    "        stri = input(\"Play the snake game to defeat the boss gain 50 points yes to start\")  \n",
    "        if stri == \"yes\":\n",
    "            self.snake_game()  \n",
    "        else:\n",
    "            print(\"You lose!!!\")  \n",
    "        \n",
    "            \n",
    "    def pattern_checker(self,pattern,row):\n",
    "        print(row) \n",
    "        List0 = pattern.split()  \n",
    "        print(List0)           \n",
    "        for index,value in enumerate(List0,start=1):\n",
    "            print(index) \n",
    "            len(value) == index \n",
    "            if len(value) != index:\n",
    "                print(\"Invlaide pattern\")\n",
    "        print(\"Valid pattern\" ,end = \"\\n\\n\")\n",
    "        print(\"Congrats you can now move on to defeat the Boss\", \"Lets get into the  Spinning Donut room\", sep = ' ' ,end = \"\\n\")\n",
    "        self.spinning_donut() \n",
    "            \n",
    "    def spinning_donut(self):\n",
    "        pygame.init()\n",
    "\n",
    "        white = (255, 255, 255)\n",
    "        black = (0, 0, 0)\n",
    "        hue = 0\n",
    "\n",
    "        WIDTH = 700\n",
    "        HEIGHT = 700\n",
    "            \n",
    "        x_start, y_start = 0, 0\n",
    "            \n",
    "        x_separator = 10\n",
    "        y_separator = 20\n",
    "            \n",
    "        rows = HEIGHT // y_separator\n",
    "        columns = WIDTH // x_separator\n",
    "        screen_size = rows * columns\n",
    "            \n",
    "        x_offset = columns / 2\n",
    "        y_offset = rows / 2\n",
    "            \n",
    "        A, B = 0, 0  # rotating animation\n",
    "                    \n",
    "        theta_spacing = 10\n",
    "        phi_spacing = 1 # for faster rotation change to 2, 3 or more, but first change 86, 87 lines as commented\n",
    "            \n",
    "        chars = \".,-~:;=!*#$@\"  # luminance index\n",
    "            \n",
    "        screen = pygame.display.set_mode((WIDTH, HEIGHT))\n",
    "            \n",
    "        display_surface = pygame.display.set_mode((WIDTH, HEIGHT))\n",
    "        # display_surface = pygame.display.set_mode((0, 0), pygame.FULLSCREEN)\n",
    "        pygame.display.set_caption('Donut')\n",
    "        font = pygame.font.SysFont('Arial', 18, bold=True)\n",
    "            \n",
    "        def hsv2rgb(h, s, v):\n",
    "            return tuple(round(i * 255) for i in colorsys.hsv_to_rgb(h, s, v))\n",
    "            \n",
    "            \n",
    "        def text_display(letter, x_start, y_start):\n",
    "            text = font.render(str(letter), True, hsv2rgb(hue, 1, 1))\n",
    "            display_surface.blit(text, (x_start, y_start))\n",
    "            \n",
    "            # def text_display(letter, x_start, y_start):\n",
    "            #     text = font.render(str(letter), True, white)\n",
    "            #     display_surface.blit(text, (x_start, y_start))\n",
    "            \n",
    "            \n",
    "        run = True\n",
    "        while run:\n",
    "            \n",
    "            screen.fill((black))\n",
    "            \n",
    "            z = [0] * screen_size  # Donut. Fills donut space\n",
    "            b = [' '] * screen_size  # Background. Fills empty space\n",
    "            \n",
    "            for j in range(0, 628, theta_spacing):  # from 0 to 2pi\n",
    "                for i in range(0, 628, phi_spacing):  # from 0 to 2pi\n",
    "                    c = math.sin(i)\n",
    "                    d = math.cos(j)\n",
    "                    e = math.sin(A)\n",
    "                    f = math.sin(j)\n",
    "                    g = math.cos(A)\n",
    "                    h = d + 2\n",
    "                    D = 1 / (c * h * e + f * g + 5)\n",
    "                    l = math.cos(i)\n",
    "                    m = math.cos(B)\n",
    "                    n = math.sin(B)\n",
    "                    t = c * h * g - f * e\n",
    "                    x = int(x_offset + 40 * D * (l * h * m - t * n))  # 3D x coordinate after rotation\n",
    "                    y = int(y_offset + 20 * D * (l * h * n + t * m))  # 3D y coordinate after rotation\n",
    "                    o = int(x + columns * y)  \n",
    "                    N = int(8 * ((f * e - c * d * g) * m - c * d * e - f * g - l * d * n))  # luminance index\n",
    "                    if rows > y and y > 0 and x > 0 and columns > x and D > z[o]:\n",
    "                        z[o] = D\n",
    "                        b[o] = chars[N if N > 0 else 0]\n",
    "            \n",
    "            if y_start == rows * y_separator - y_separator:\n",
    "                y_start = 0\n",
    "            \n",
    "            for i in range(len(b)):\n",
    "                A += 0.00004  # for faster rotation change to bigger value\n",
    "                B += 0.00002  # for faster rotation change to bigger value\n",
    "                if i == 0 or i % columns:\n",
    "                    text_display(b[i], x_start, y_start)\n",
    "                    x_start += x_separator\n",
    "                else:\n",
    "                    y_start += y_separator\n",
    "                    x_start = 0\n",
    "                    text_display(b[i], x_start, y_start)\n",
    "                    x_start += x_separator\n",
    "            \n",
    "            \n",
    "            pygame.display.update()\n",
    "            \n",
    "            hue += 0.005\n",
    "            \n",
    "            for event in pygame.event.get():\n",
    "                if event.type == pygame.QUIT:\n",
    "                    run = False\n",
    "                if event.type == pygame.KEYDOWN:\n",
    "                    if event.key == pygame.K_ESCAPE:\n",
    "                        run = False\n",
    "    \n",
    "    def snake_game(self):\n",
    "        self.game_started = False\n",
    "        t.bgcolor('yellow')\n",
    "        self.score = 0\n",
    "    \n",
    "        caterpillar = t.Turtle()\n",
    "        caterpillar.shape('square')\n",
    "        caterpillar.speed(0)\n",
    "        caterpillar.penup()\n",
    "        caterpillar.hideturtle()\n",
    "        \n",
    "        leaf = t.Turtle()\n",
    "        leaf_shape = ((0,0),(14,2),(18,6),(20,20),(6,18),(2,14))\n",
    "        t.register_shape('leaf', leaf_shape)\n",
    "        leaf.shape('leaf')\n",
    "        leaf.color('green')\n",
    "        leaf.penup()\n",
    "        leaf.hideturtle()\n",
    "        leaf.speed()\n",
    "        \n",
    "        game_started = False\n",
    "        text_turtle = False\n",
    "        text_turtle = t.Turtle()\n",
    "        text_turtle.write('Press SPACE to start', align='center', font=('Arial', 18, 'bold'))\n",
    "        text_turtle.hideturtle()\n",
    "        \n",
    "        \n",
    "        score_turtle = t.Turtle()\n",
    "        score_turtle.hideturtle()\n",
    "        score_turtle.speed(0)\n",
    "        \n",
    "        obstacle = t.Turtle()\n",
    "        obstacle.shape('circle')  # You can choose any shape\n",
    "        obstacle.color('red')  # Choose a distinct color for obstacles\n",
    "        obstacle.penup()\n",
    "        obstacle.hideturtle()\n",
    "        \n",
    "        num_obstacles = 5  # Number of obstacles\n",
    "        obstacles = []\n",
    "        \n",
    "        for _ in range(num_obstacles):\n",
    "            new_obstacle = t.Turtle()\n",
    "            new_obstacle.shape('circle')\n",
    "            new_obstacle.color('red')\n",
    "            new_obstacle.penup()\n",
    "            new_obstacle.setposition(rd.randint(-200, 200), rd.randint(-200, 200))\n",
    "            new_obstacle.showturtle()\n",
    "            obstacles.append(new_obstacle)\n",
    "        \n",
    "        \n",
    "        def outside_window():\n",
    "            left_wall = -t.window_width()/2\n",
    "            right_Wall = t.window_width()/2\n",
    "            top_wall = t.window_height()/2\n",
    "            bottom_wall = -t.window_height()/2\n",
    "            (x,y) = caterpillar.pos()\n",
    "            outside = x < left_wall or x > right_Wall or y > top_wall or y < bottom_wall\n",
    "            return outside\n",
    "        \n",
    "        def game_over():\n",
    "            caterpillar.color('yellow')\n",
    "            leaf.color('yellow')\n",
    "            t.penup()\n",
    "            t.hideturtle()\n",
    "            t.write('GAME OVER !', align='center', font=('Arial', 30, 'normal') ) \n",
    "            t.onkey(start_game,'space') \n",
    "               \n",
    "        \n",
    "        def display_score(current_score):\n",
    "            score_turtle.clear()\n",
    "            score_turtle.penup()\n",
    "            x = (t.window_width()/2) - 70\n",
    "            y = (t.window_height()/2) - 70\n",
    "            score_turtle.setpos(x,y)\n",
    "            score_turtle.write(str(current_score), align='right', font=('Arial', 40, 'bold'))\n",
    "            #if current_score == 20:\n",
    "                #print(\"You have defeted the boss congrats\")\n",
    "                #self.game_over(current_score)\n",
    "                \n",
    "        \n",
    "        def place_leaf():\n",
    "            leaf.hideturtle()\n",
    "            leaf.setx(rd.randint(-200,200))\n",
    "            leaf.sety(rd.randint(-200,200))\n",
    "            leaf.showturtle()\n",
    "         \n",
    "        def start_game():\n",
    "            if self.game_started:\n",
    "                return \n",
    "            self.game_started = True\n",
    "\n",
    "            caterpillar_speed = 2\n",
    "            caterpillar_length = 3\n",
    "            caterpillar.shapesize(1,caterpillar_length,1)\n",
    "            caterpillar.showturtle()\n",
    "            display_score(self.score)\n",
    "            place_leaf()\n",
    "        \n",
    "            while True:\n",
    "                caterpillar.forward(caterpillar_speed)\n",
    "                for obstacle in obstacles:\n",
    "                    if caterpillar.distance(leaf) < 20:\n",
    "                        place_leaf()\n",
    "                        caterpillar_length = caterpillar_length + 1\n",
    "                        caterpillar.shapesize(1,caterpillar_length,1)\n",
    "                        caterpillar_speed = caterpillar_speed + 1\n",
    "                        score = self.score + 10\n",
    "                        display_score(self.score)\n",
    "                        ans = input(\"Do younwant to continue press s if not q \")\n",
    "                if outside_window():\n",
    "                    game_over()\n",
    "                    break\n",
    "                \n",
    "        \n",
    "        def move_up():\n",
    "                caterpillar.setheading(90)\n",
    "        \n",
    "        def move_down():\n",
    "                caterpillar.setheading(270)\n",
    "        \n",
    "        def move_left():\n",
    "                caterpillar.setheading(180)\n",
    "        \n",
    "        def move_right():\n",
    "                caterpillar.setheading(0)\n",
    "                \n",
    "        def restart_game():\n",
    "            self.game_started = False\n",
    "            start_game()\n",
    "        \n",
    "        t.onkey(start_game,'space')\n",
    "        t.onkey(restart_game,'space')\n",
    "        t.onkey(game_over,'q') \n",
    "        t.onkey(move_up,'Up')\n",
    "        t.onkey(move_right,'Right')\n",
    "        t.onkey(move_down,'Down')\n",
    "        t.onkey(move_left,'Left')\n",
    "        t.listen()\n",
    "        t.mainloop()\n",
    "        \n",
    "                            \n",
    "                            \n",
    "                          \n",
    "                            \n",
    "                                        "
   ]
  },
  {
   "cell_type": "code",
   "execution_count": 5,
   "id": "2621ead9-b453-435c-be50-e5907cd10c16",
   "metadata": {},
   "outputs": [],
   "source": [
    "game  = adventure() "
   ]
  },
  {
   "cell_type": "code",
   "execution_count": 6,
   "id": "2f726e1c-3513-4a39-89e3-af0fea95840e",
   "metadata": {},
   "outputs": [
    {
     "name": "stdout",
     "output_type": "stream",
     "text": [
      "1. Start the journey \n",
      "2. Selct a character face 😔\n",
      "3. Choose the weapon 🔫 \n",
      "4. Exit\n"
     ]
    },
    {
     "name": "stdin",
     "output_type": "stream",
     "text": [
      "ENter a number to select choice give below 1\n"
     ]
    },
    {
     "name": "stdout",
     "output_type": "stream",
     "text": [
      "Lets begin!!\n"
     ]
    },
    {
     "name": "stdin",
     "output_type": "stream",
     "text": [
      "You are in a jungle came across two puzzles choose any one 1.Guess the nummber correct 2. Give answer of the math problem 1\n",
      "Enter your guess  3\n"
     ]
    },
    {
     "name": "stdout",
     "output_type": "stream",
     "text": [
      "Guess higher\n"
     ]
    },
    {
     "name": "stdin",
     "output_type": "stream",
     "text": [
      "Enter your guess  4\n"
     ]
    },
    {
     "name": "stdout",
     "output_type": "stream",
     "text": [
      "Guess higher\n"
     ]
    },
    {
     "name": "stdin",
     "output_type": "stream",
     "text": [
      "Enter your guess  5\n"
     ]
    },
    {
     "name": "stdout",
     "output_type": "stream",
     "text": [
      "Guesses correct Lets walk forward\n",
      "Congrats you guessed Correct!!! 5\n",
      "Welcome to 2nd round You have 2 options 1.Swim the river and cross it 2. Use the boat to cross it\n"
     ]
    },
    {
     "name": "stdin",
     "output_type": "stream",
     "text": [
      " 1\n",
      "Enter no. of rows in the pattern 3\n",
      "For line{i}: *\n",
      "For line{i}: **\n",
      "For line{i}: ***\n"
     ]
    },
    {
     "name": "stderr",
     "output_type": "stream",
     "text": [
      "ALSA lib confmisc.c:855:(parse_card) cannot find card '0'\n",
      "ALSA lib conf.c:5178:(_snd_config_evaluate) function snd_func_card_inum returned error: No such file or directory\n",
      "ALSA lib confmisc.c:422:(snd_func_concat) error evaluating strings\n",
      "ALSA lib conf.c:5178:(_snd_config_evaluate) function snd_func_concat returned error: No such file or directory\n",
      "ALSA lib confmisc.c:1334:(snd_func_refer) error evaluating name\n",
      "ALSA lib conf.c:5178:(_snd_config_evaluate) function snd_func_refer returned error: No such file or directory\n",
      "ALSA lib conf.c:5701:(snd_config_expand) Evaluate error: No such file or directory\n",
      "ALSA lib pcm.c:2664:(snd_pcm_open_noupdate) Unknown PCM default\n"
     ]
    },
    {
     "name": "stdout",
     "output_type": "stream",
     "text": [
      "3\n",
      "['*', '**', '***']\n",
      "1\n",
      "2\n",
      "3\n",
      "Valid pattern\n",
      "\n",
      "Congrats you can now move on to defeat the Boss Lets get into the  Spinning Donut room\n",
      "Welcome to Boss room!!\n",
      "\n",
      "      (((()))))) \n",
      " { \\     |||   `~~~~0` \n",
      " {  \\----|||----|  \n",
      " {       |||      \n",
      " {      🦿🦿    \n",
      "\n"
     ]
    },
    {
     "name": "stdin",
     "output_type": "stream",
     "text": [
      "Play the snake game to defeat the boss gain 50 points yes to start yes\n"
     ]
    },
    {
     "ename": "Terminator",
     "evalue": "",
     "output_type": "error",
     "traceback": [
      "\u001b[31m---------------------------------------------------------------------------\u001b[39m",
      "\u001b[31mTerminator\u001b[39m                                Traceback (most recent call last)",
      "\u001b[36mCell\u001b[39m\u001b[36m \u001b[39m\u001b[32mIn[6]\u001b[39m\u001b[32m, line 1\u001b[39m\n\u001b[32m----> \u001b[39m\u001b[32m1\u001b[39m \u001b[43mgame\u001b[49m\u001b[43m.\u001b[49m\u001b[43mmenu\u001b[49m\u001b[43m(\u001b[49m\u001b[43m)\u001b[49m \n",
      "\u001b[36mCell\u001b[39m\u001b[36m \u001b[39m\u001b[32mIn[4]\u001b[39m\u001b[32m, line 28\u001b[39m, in \u001b[36madventure.menu\u001b[39m\u001b[34m(self)\u001b[39m\n\u001b[32m     26\u001b[39m \u001b[38;5;28;01mif\u001b[39;00m opt==\u001b[32m1\u001b[39m:\n\u001b[32m     27\u001b[39m     \u001b[38;5;28mprint\u001b[39m(\u001b[33m\"\u001b[39m\u001b[33mLets begin!!\u001b[39m\u001b[33m\"\u001b[39m)\n\u001b[32m---> \u001b[39m\u001b[32m28\u001b[39m     \u001b[38;5;28;43mself\u001b[39;49m\u001b[43m.\u001b[49m\u001b[43mStart_Journey\u001b[49m\u001b[43m(\u001b[49m\u001b[43m)\u001b[49m\n\u001b[32m     29\u001b[39m \u001b[38;5;28;01melif\u001b[39;00m opt ==\u001b[32m2\u001b[39m:\n\u001b[32m     30\u001b[39m     \u001b[38;5;28;01mpass\u001b[39;00m\n",
      "\u001b[36mCell\u001b[39m\u001b[36m \u001b[39m\u001b[32mIn[4]\u001b[39m\u001b[32m, line 98\u001b[39m, in \u001b[36madventure.Start_Journey\u001b[39m\u001b[34m(self)\u001b[39m\n\u001b[32m     96\u001b[39m stri = \u001b[38;5;28minput\u001b[39m(\u001b[33m\"\u001b[39m\u001b[33mPlay the snake game to defeat the boss gain 50 points yes to start\u001b[39m\u001b[33m\"\u001b[39m)  \n\u001b[32m     97\u001b[39m \u001b[38;5;28;01mif\u001b[39;00m stri == \u001b[33m\"\u001b[39m\u001b[33myes\u001b[39m\u001b[33m\"\u001b[39m:\n\u001b[32m---> \u001b[39m\u001b[32m98\u001b[39m     \u001b[38;5;28;43mself\u001b[39;49m\u001b[43m.\u001b[49m\u001b[43msnake_game\u001b[49m\u001b[43m(\u001b[49m\u001b[43m)\u001b[49m  \n\u001b[32m     99\u001b[39m \u001b[38;5;28;01melse\u001b[39;00m:\n\u001b[32m    100\u001b[39m     \u001b[38;5;28mprint\u001b[39m(\u001b[33m\"\u001b[39m\u001b[33mYou lose!!!\u001b[39m\u001b[33m\"\u001b[39m)\n",
      "\u001b[36mCell\u001b[39m\u001b[36m \u001b[39m\u001b[32mIn[4]\u001b[39m\u001b[32m, line 223\u001b[39m, in \u001b[36madventure.snake_game\u001b[39m\u001b[34m(self)\u001b[39m\n\u001b[32m    221\u001b[39m \u001b[38;5;28;01mdef\u001b[39;00m\u001b[38;5;250m \u001b[39m\u001b[34msnake_game\u001b[39m(\u001b[38;5;28mself\u001b[39m):\n\u001b[32m    222\u001b[39m     \u001b[38;5;28mself\u001b[39m.game_started = \u001b[38;5;28;01mFalse\u001b[39;00m\n\u001b[32m--> \u001b[39m\u001b[32m223\u001b[39m     \u001b[43mt\u001b[49m\u001b[43m.\u001b[49m\u001b[43mbgcolor\u001b[49m\u001b[43m(\u001b[49m\u001b[33;43m'\u001b[39;49m\u001b[33;43myellow\u001b[39;49m\u001b[33;43m'\u001b[39;49m\u001b[43m)\u001b[49m\n\u001b[32m    224\u001b[39m     \u001b[38;5;28mself\u001b[39m.score = \u001b[32m0\u001b[39m\n\u001b[32m    226\u001b[39m     caterpillar = t.Turtle()\n",
      "\u001b[36mFile \u001b[39m\u001b[32m<string>:5\u001b[39m, in \u001b[36mbgcolor\u001b[39m\u001b[34m(*args)\u001b[39m\n",
      "\u001b[31mTerminator\u001b[39m: "
     ]
    }
   ],
   "source": [
    "game.menu() "
   ]
  },
  {
   "cell_type": "code",
   "execution_count": null,
   "id": "6871cb06-c033-41f7-9c96-db26686c385d",
   "metadata": {},
   "outputs": [],
   "source": [
    "game = adventure() \n",
    "game.snake_game() "
   ]
  },
  {
   "cell_type": "code",
   "execution_count": 89,
   "id": "798a5a1d-519f-4626-b967-9666fd139a57",
   "metadata": {},
   "outputs": [
    {
     "name": "stdout",
     "output_type": "stream",
     "text": [
      "['*', '**', '***', '****', '*****']\n",
      "Pattern is valid\n"
     ]
    },
    {
     "ename": "SyntaxError",
     "evalue": "'return' outside function (740457379.py, line 21)",
     "output_type": "error",
     "traceback": [
      "  \u001b[36mCell\u001b[39m\u001b[36m \u001b[39m\u001b[32mIn[89]\u001b[39m\u001b[32m, line 21\u001b[39m\n\u001b[31m    \u001b[39m\u001b[31mreturn print(\"Invlaide pattern\")\u001b[39m\n    ^\n\u001b[31mSyntaxError\u001b[39m\u001b[31m:\u001b[39m 'return' outside function\n"
     ]
    }
   ],
   "source": [
    "rowss = 5\n",
    "pattern = \"\"\"*\n",
    "**\n",
    "***\n",
    "****\n",
    "*****\"\"\"\n",
    "\n",
    "game = adventure()  \n",
    "\"\"\"\n",
    "List0 = pattern.split() \n",
    "print(List0)\n",
    "\n",
    "if len(List0) == rowss:\n",
    "     print(\"Pattern is valid\")\n",
    "else:\n",
    "    print(\"Pattern is not valid\") \n",
    "    \n",
    "for index,value in enumerate(List0,start=1):\n",
    "    len(value) == index\n",
    "    if len(value) != index:\n",
    "        return print(\"Invlaide pattern\")\n",
    "print(\"Valid pattern\" ,end = \"\\n\\n\")\n",
    "\"\"\""
   ]
  },
  {
   "cell_type": "code",
   "execution_count": 68,
   "id": "4f3bbeb3-eb64-4ac6-93aa-a4544aff4923",
   "metadata": {},
   "outputs": [
    {
     "name": "stdout",
     "output_type": "stream",
     "text": [
      "      (((()))))) \n",
      " { \\     |||   `~~~~0` \n",
      " {  \\----|||----|  \n",
      " {       |||      \n",
      " {      🦿🦿    \n",
      "\n"
     ]
    }
   ],
   "source": [
    "  print(\"      (((()))))) \\n\",\n",
    "           \"{ \\     |||   `~~~~0` \\n\",\n",
    "           \"{  \\----|||----|  \\n\",\n",
    "           \"{       |||      \\n\",\n",
    "           \"{      🦿🦿    \\n\",)  "
   ]
  },
  {
   "cell_type": "code",
   "execution_count": 69,
   "id": "d21b85b5-d5f9-4783-90cf-1604a453c1ca",
   "metadata": {},
   "outputs": [
    {
     "name": "stdout",
     "output_type": "stream",
     "text": [
      "Collecting pygame\n",
      "  Downloading pygame-2.6.1-cp311-cp311-manylinux_2_17_x86_64.manylinux2014_x86_64.whl.metadata (12 kB)\n",
      "Downloading pygame-2.6.1-cp311-cp311-manylinux_2_17_x86_64.manylinux2014_x86_64.whl (14.0 MB)\n",
      "\u001b[2K   \u001b[90m━━━━━━━━━━━━━━━━━━━━━━━━━━━━━━━━━━━━━━━━\u001b[0m \u001b[32m14.0/14.0 MB\u001b[0m \u001b[31m2.7 MB/s\u001b[0m eta \u001b[36m0:00:00\u001b[0m00:01\u001b[0m00:01\u001b[0m\n",
      "\u001b[?25hInstalling collected packages: pygame\n",
      "Successfully installed pygame-2.6.1\n",
      "Note: you may need to restart the kernel to use updated packages.\n"
     ]
    }
   ],
   "source": [
    "pip install pygame"
   ]
  },
  {
   "cell_type": "code",
   "execution_count": null,
   "id": "9a81c7b8-afaf-4158-aad9-1c18b51a88c9",
   "metadata": {},
   "outputs": [],
   "source": [
    "user= input(\"What is LCM of 10 and 35\") \n",
    "ans = math.lcm(10,35)\n",
    "\n",
    "            print(\"you have 3 tries\", end = \"\\n\\n\")\n",
    "            i = 3 \n",
    "            while i>0:\n",
    "                user = input(\"Enter the LCM\")   \n",
    "                if user != self.ans:\n",
    "                    i-=1\n",
    "                    print(\"incorrect try again\" ,\"remaining chances\", i, sep =\" \")\n",
    "                elif user == ans:\n",
    "                    print(\"you guessed it correct congrats keep going till you found the boss to kill\" , sep = \" \" ,end = \"\\n\")\n",
    "                    i-=1\n",
    "                    break; \n",
    "        "
   ]
  },
  {
   "cell_type": "code",
   "execution_count": 1,
   "id": "141084f1-a00a-4fb2-96f9-2c8661b20b92",
   "metadata": {},
   "outputs": [
    {
     "data": {
      "text/plain": [
       "'/home/aryan/python'"
      ]
     },
     "execution_count": 1,
     "metadata": {},
     "output_type": "execute_result"
    }
   ],
   "source": [
    "pwd\n"
   ]
  },
  {
   "cell_type": "code",
   "execution_count": null,
   "id": "575d87aa-3897-4b3c-bd01-d5dde7ed27e5",
   "metadata": {},
   "outputs": [],
   "source": []
  }
 ],
 "metadata": {
  "kernelspec": {
   "display_name": "Python 3 (ipykernel)",
   "language": "python",
   "name": "python3"
  },
  "language_info": {
   "codemirror_mode": {
    "name": "ipython",
    "version": 3
   },
   "file_extension": ".py",
   "mimetype": "text/x-python",
   "name": "python",
   "nbconvert_exporter": "python",
   "pygments_lexer": "ipython3",
   "version": "3.11.0"
  }
 },
 "nbformat": 4,
 "nbformat_minor": 5
}
