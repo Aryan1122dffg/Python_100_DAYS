{
 "cells": [
  {
   "cell_type": "code",
   "execution_count": null,
   "id": "2f896ca5-8c6c-4dc3-8451-9f66843fc387",
   "metadata": {},
   "outputs": [],
   "source": [
    "#lambda function \n",
    "#Anonymous functions.\n",
    "\n",
    "#Single Expression Limit.\n",
    "\n",
    "#Syntax: lambda args: expr\n",
    "\n",
    "addd= lambda a,b:a +b\n",
    "addd(9,2)"
   ]
  },
  {
   "cell_type": "code",
   "execution_count": null,
   "id": "23d6c034-1963-4261-9aa3-8bfa8d10f0e2",
   "metadata": {},
   "outputs": [],
   "source": [
    "square = lambda num,pow: num**pow\n",
    "square(80,9)\n"
   ]
  },
  {
   "cell_type": "code",
   "execution_count": null,
   "id": "1aab9127-794b-480a-b02d-ac4d18f092c6",
   "metadata": {},
   "outputs": [],
   "source": [
    "string0 = lambda PROMOTION, DESIGNATION:{key:value for key,value in  zip(PROMOTION, DESIGNATION) } \n",
    "\n",
    "PROMOTION00 = [\"LEAD\" , \"MANAGER\" , \"CONSULTANT\", \"HR HEAD\"]\n",
    "DESIGNATION11 = [\"MEMEBER\" , \"TEAM LEAD\",\"JR. CONSULTANT\", \"HR\"]\n",
    "string0(PROMOTION00, DESIGNATION11)"
   ]
  },
  {
   "cell_type": "code",
   "execution_count": null,
   "id": "88323bcf-e80c-4ba3-9bad-5ef937fcd45f",
   "metadata": {},
   "outputs": [],
   "source": [
    "for_loop = lambda L:'Col.' in  L\n",
    "\n",
    "List = [\"Col.\" , \"Rajeev\" , \"Bharwan\"] \n",
    "for_loop(List) "
   ]
  },
  {
   "cell_type": "code",
   "execution_count": null,
   "id": "dd4da1fc-7d66-4547-9461-7a705c59e13f",
   "metadata": {},
   "outputs": [],
   "source": [
    "#if \n",
    "if_condt = lambda args: print(\"Lulu too\") if args == \"lulu\" else None\n",
    "ans = input(\"Love you❤️❤️❤️❤️❤️❤️\")\n",
    "if_condt(ans) "
   ]
  },
  {
   "cell_type": "code",
   "execution_count": null,
   "id": "e6974b49-028e-4de5-b2ed-b9b20c629a7e",
   "metadata": {},
   "outputs": [],
   "source": [
    "strin = lambda a:a[0] == \"a\" \n",
    "aplle = \"apple\" \n",
    "strin(aplle) \n",
    "print(strin(\"banana\"))"
   ]
  },
  {
   "cell_type": "code",
   "execution_count": 15,
   "id": "7eee6360-4250-4926-94c4-b7b736e4226d",
   "metadata": {},
   "outputs": [
    {
     "name": "stdout",
     "output_type": "stream",
     "text": [
      "134\n",
      "95\n",
      "36\n"
     ]
    }
   ],
   "source": [
    "\"\"\"Even no, sum ~ X \n",
    "odd no. dsum ~ y \n",
    "6 divisible sum ~ u\"\"\" \n",
    "\n",
    "def sums_n(fool,Listt):\n",
    "    nocheat = 0 \n",
    "    for i in Listt:\n",
    "        if fool(i):\n",
    "            nocheat = nocheat+i \n",
    "    return nocheat    \n",
    "\n",
    "#sums = lambda lsit:\n",
    "\n",
    "L = [2,3,56,36,79,13,40] \n",
    "\n",
    "x= lambda i:i%2==0\n",
    "y= lambda i:i%2!=0\n",
    "z= lambda i:i%6==0\n",
    "\n",
    "print(sums_n(x,L))\n",
    "print(sums_n(y,L))\n",
    "print(sums_n(z,L))\n",
    "#print(x)"
   ]
  },
  {
   "cell_type": "code",
   "execution_count": 18,
   "id": "4e223312-8832-4089-809b-396ddd0c4b89",
   "metadata": {},
   "outputs": [],
   "source": [
    "#higher ORDER FUNCTIONS : FUnctions tha use other functiopns as input to performe actions ad return value \n",
    "#EX: Above \n",
    "\n",
    "#DEFINED hIGHER ORDER FUNCTIONS \n",
    "#MAP \n",
    "#FILTER \n",
    "#REDUCE \n",
    "\n"
   ]
  },
  {
   "cell_type": "code",
   "execution_count": 32,
   "id": "3412ecb3-0456-4ef6-96de-eacad621c384",
   "metadata": {},
   "outputs": [
    {
     "name": "stdout",
     "output_type": "stream",
     "text": [
      "dict_items([('Name', 'Suresh'), ('Home', 'Channi'), ('job', 'Farm caretaker')])\n"
     ]
    },
    {
     "data": {
      "text/plain": [
       "['NameSCANNED', 'HomeSCANNED', 'jobSCANNED']"
      ]
     },
     "execution_count": 32,
     "metadata": {},
     "output_type": "execute_result"
    }
   ],
   "source": [
    "#map : Applies a function to each item in iterable.\n",
    "\n",
    "dict = {\"Name\":\"Suresh\",\"Home\":\"Channi\",\"job\":\"Farm caretaker\"}\n",
    "print(dict.items()) \n",
    "map(lambda key,value:value+\"Approved\",dict)\n",
    "\n",
    "\n",
    "list(map(lambda value:value+ \"SCANNED\",dict))\n",
    "#####map object is not accessible so we convert it into list to understand"
   ]
  },
  {
   "cell_type": "code",
   "execution_count": 33,
   "id": "cdd58b62-c997-45c9-93d4-781863ce9427",
   "metadata": {},
   "outputs": [
    {
     "data": {
      "text/plain": [
       "[1, 4, 9, 16, 25, 36, 49, 64]"
      ]
     },
     "execution_count": 33,
     "metadata": {},
     "output_type": "execute_result"
    }
   ],
   "source": [
    "L = [1,2,3,4,5,6,7,8]\n",
    "\n",
    "list(map( lambda x: x**2 ,L))\n"
   ]
  },
  {
   "cell_type": "code",
   "execution_count": 35,
   "id": "18a33206-8c6e-4f23-98e2-b45bd87c7ca6",
   "metadata": {},
   "outputs": [
    {
     "data": {
      "text/plain": [
       "[True, False]"
      ]
     },
     "execution_count": 35,
     "metadata": {},
     "output_type": "execute_result"
    }
   ],
   "source": [
    "L = (True , False)\n",
    "\n",
    "list(map(lambda bools:bools and True, L))"
   ]
  },
  {
   "cell_type": "code",
   "execution_count": 36,
   "id": "9495968d-36ae-49cb-a9d6-2adeb05da58d",
   "metadata": {},
   "outputs": [
    {
     "data": {
      "text/plain": [
       "[0, False, False, False]"
      ]
     },
     "execution_count": 36,
     "metadata": {},
     "output_type": "execute_result"
    }
   ],
   "source": [
    "sets =  {1,2,True,0,False ,\"Butterfly\"} \n",
    "\n",
    "list(map(lambda exp:exp and False ,sets))"
   ]
  },
  {
   "cell_type": "code",
   "execution_count": 39,
   "id": "901aef8c-e711-431a-adfd-9cab7ad2c734",
   "metadata": {},
   "outputs": [
    {
     "data": {
      "text/plain": [
       "[False, False, False, False, False, False, False, False, True]"
      ]
     },
     "execution_count": 39,
     "metadata": {},
     "output_type": "execute_result"
    }
   ],
   "source": [
    "L = [1,2,3,4,5,6,7,8,100]\n",
    "\n",
    "list(map(lambda x:100 == x , L)) "
   ]
  },
  {
   "cell_type": "code",
   "execution_count": 56,
   "id": "1f4dd15d-aaf3-44fc-a7fd-ca0db99e8da0",
   "metadata": {},
   "outputs": [
    {
     "data": {
      "text/plain": [
       "['jackf ruit', 'lichi']"
      ]
     },
     "execution_count": 56,
     "metadata": {},
     "output_type": "execute_result"
    }
   ],
   "source": [
    "fruits = [\"jackf ruit\", \"apple\" ,\"lichi\" ,\"cherry\"] \n",
    "list(filter(lambda fri:'i' in fri,fruits))\n",
    "\n",
    "list(filter(lambda fri:'i' in fri,fruits))  \n"
   ]
  },
  {
   "cell_type": "code",
   "execution_count": 57,
   "id": "e87cc973-ef71-40f9-be7e-901afb073b9c",
   "metadata": {},
   "outputs": [
    {
     "data": {
      "text/plain": [
       "[True, False, True, False]"
      ]
     },
     "execution_count": 57,
     "metadata": {},
     "output_type": "execute_result"
    }
   ],
   "source": [
    "list(map(lambda fri:'i' in fri,fruits))     "
   ]
  },
  {
   "cell_type": "code",
   "execution_count": 59,
   "id": "678f0dc6-bc86-4198-9741-18b1c48e006a",
   "metadata": {},
   "outputs": [
    {
     "data": {
      "text/plain": [
       "[{33, 'Williams'}]"
      ]
     },
     "execution_count": 59,
     "metadata": {},
     "output_type": "execute_result"
    }
   ],
   "source": [
    "trials = [ { \"Chalponde\" , 11} , { \"Williams\" , 33 } , { \"Montis\" , 99 }  ] \n",
    "list(filter(lambda player:\"Williams\" in player,trials)) "
   ]
  },
  {
   "cell_type": "code",
   "execution_count": 60,
   "id": "6bc2ccd0-fc05-4cdd-8d15-0e5c6a2094e7",
   "metadata": {},
   "outputs": [
    {
     "data": {
      "text/plain": [
       "'3. Reduce\\nReduces an iterable to a single value.\\n\\nSyntax:\\n\\nfrom functools import reduce\\nreduce(function, iterable)\\nOperates on pairs of elements until a single value remains.\\n\\nUseful for Cumulative Operations (e.g., sum, product).\\n\\n '"
      ]
     },
     "execution_count": 60,
     "metadata": {},
     "output_type": "execute_result"
    }
   ],
   "source": [
    "\"\"\"3. Reduce\n",
    "Reduces an iterable to a single value.\n",
    "\n",
    "Syntax:\n",
    "\n",
    "from functools import reduce\n",
    "reduce(function, iterable)\n",
    "Operates on pairs of elements until a single value remains.\n",
    "\n",
    "Useful for Cumulative Operations (e.g., sum, product).\n",
    "\n",
    " \"\"\""
   ]
  },
  {
   "cell_type": "code",
   "execution_count": 64,
   "id": "0c4b460a-f295-421e-bd52-37e5931b8fe9",
   "metadata": {},
   "outputs": [
    {
     "data": {
      "text/plain": [
       "136"
      ]
     },
     "execution_count": 64,
     "metadata": {},
     "output_type": "execute_result"
    }
   ],
   "source": [
    "import functools \n",
    "from functools import reduce \n",
    "\n",
    "L = [1,2,3,4,5,6,7,8,100]\n",
    "\n",
    "functools.reduce(lambda x,y: x + y,L)"
   ]
  },
  {
   "cell_type": "code",
   "execution_count": 71,
   "id": "d23c2cd1-75d7-4af2-93e1-1b68c29389af",
   "metadata": {},
   "outputs": [
    {
     "data": {
      "text/plain": [
       "100"
      ]
     },
     "execution_count": 71,
     "metadata": {},
     "output_type": "execute_result"
    }
   ],
   "source": [
    "#greatest value\n",
    "functools.reduce(lambda m,n: m if m>=n else n ,L)"
   ]
  },
  {
   "cell_type": "code",
   "execution_count": 72,
   "id": "43ec51ae-17de-454e-adcb-7dffa6d24982",
   "metadata": {},
   "outputs": [
    {
     "data": {
      "text/plain": [
       "1"
      ]
     },
     "execution_count": 72,
     "metadata": {},
     "output_type": "execute_result"
    }
   ],
   "source": [
    "#greatest value\n",
    "functools.reduce(lambda m,n: m if m<=n else n ,L)"
   ]
  },
  {
   "cell_type": "code",
   "execution_count": 79,
   "id": "d904d081-ddac-4434-bd62-f9245568e254",
   "metadata": {},
   "outputs": [
    {
     "name": "stdout",
     "output_type": "stream",
     "text": [
      "['Mangoes']\n"
     ]
    }
   ],
   "source": [
    "#list comprehension \n",
    "#Dictionary comprehension \n",
    "price = [\"Lichi\" , \"Banana\", \"pery\", \"Mangoes\"]\n",
    "list0 = [fruit for fruit in price if fruit==\"Mangoes\"]\n",
    "print(list0)\n"
   ]
  },
  {
   "cell_type": "code",
   "execution_count": 88,
   "id": "3a199f77-f723-4d12-af7d-07b58a87cb79",
   "metadata": {},
   "outputs": [
    {
     "name": "stdout",
     "output_type": "stream",
     "text": [
      "[['pery', 'Mangoes']]\n"
     ]
    }
   ],
   "source": [
    "#used filter and lsit comprehemsion \n",
    "filtered_list = [list(filter(lambda chara:'e' in chara,price))] \n",
    "print(filtered_list)     "
   ]
  },
  {
   "cell_type": "code",
   "execution_count": null,
   "id": "d5877ce0-9fca-4a46-9f63-2926777b980c",
   "metadata": {},
   "outputs": [],
   "source": [
    "# List Input from User\n",
    "\n",
    "# 1. Prompt input\n",
    "input_string = input(\"Enter the list elements separated by spaces: \")\n",
    "\n",
    "# 2. Split string\n",
    "string_list = input_string.split()\n",
    "\n",
    "# 3. Convert to integers\n",
    "integer_list = [int(item) for item in string_list]\n",
    "\n",
    "# 4. Output\n",
    "print(\"The input list is:\", integer_list)\n",
    "Enter the list elements separated by spaces: 12345\n",
    "The input list is: [12345]\n",
    "# Merge 2 Lists Without + Operator\n",
    "L1 = [1, 2, 3, 4]\n",
    "L2 = [5, 6, 7, 8]\n",
    "\n",
    "# 1. Using `extend()` Method\n",
    "L1 = [1, 2, 3, 4]\n",
    "L2 = [5, 6, 7, 8]\n",
    "# Merge L2 into L1\n",
    "L1.extend(L2)\n",
    "print(\"Merged list:\", L1)\n",
    "\n",
    "# 2. Using for Loop\n",
    "L1 = [1, 2, 3, 4]\n",
    "L2 = [5, 6, 7, 8]\n",
    "# Merge L2 into L1 using a loop\n",
    "for element in L2:\n",
    "    L1.append(element)\n",
    "print(\"Merged list:\", L1)\n",
    "Merged list: [1, 2, 3, 4, 5, 6, 7, 8]\n",
    "Merged list: [1, 2, 3, 4, 5, 6, 7, 8]\n",
    "# Replace item in list\n",
    "L = [1, 2, 3, 4, 5, 3]\n",
    "# replace 3 with 300\n",
    "\n",
    "L = [1, 2, 3, 4, 5, 3]\n",
    "old_item = 3\n",
    "new_item = 300\n",
    "# Iterate through the list and replace old_item with new_item\n",
    "for i in range(len(L)):\n",
    "    if L[i] == old_item:\n",
    "        L[i] = new_item\n",
    "print(\"Updated list:\", L)\n",
    "Updated list: [1, 2, 300, 4, 5, 300]\n"
   ]
  },
  {
   "cell_type": "code",
   "execution_count": null,
   "id": "51eb8d29-76f2-48bc-9a96-e4b93de1a9dd",
   "metadata": {},
   "outputs": [],
   "source": []
  },
  {
   "cell_type": "code",
   "execution_count": null,
   "id": "17585e56-e929-4a33-bd58-753c9e01a130",
   "metadata": {},
   "outputs": [],
   "source": []
  },
  {
   "cell_type": "code",
   "execution_count": null,
   "id": "4d9e8034-7e0c-45f0-baa4-de34d6146904",
   "metadata": {},
   "outputs": [],
   "source": []
  },
  {
   "cell_type": "code",
   "execution_count": null,
   "id": "9fccfe81-57dc-455d-acf3-fe2dd4ae062c",
   "metadata": {},
   "outputs": [],
   "source": []
  }
 ],
 "metadata": {
  "kernelspec": {
   "display_name": "Python 3 (ipykernel)",
   "language": "python",
   "name": "python3"
  },
  "language_info": {
   "codemirror_mode": {
    "name": "ipython",
    "version": 3
   },
   "file_extension": ".py",
   "mimetype": "text/x-python",
   "name": "python",
   "nbconvert_exporter": "python",
   "pygments_lexer": "ipython3",
   "version": "3.11.0"
  }
 },
 "nbformat": 4,
 "nbformat_minor": 5
}
