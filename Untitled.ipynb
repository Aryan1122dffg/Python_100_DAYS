{
 "cells": [
  {
   "cell_type": "code",
   "execution_count": 1,
   "id": "5408a111-52c8-4240-9345-a1baa6adb709",
   "metadata": {},
   "outputs": [
    {
     "ename": "SyntaxError",
     "evalue": "incomplete input (410200634.py, line 1)",
     "output_type": "error",
     "traceback": [
      "  \u001b[36mCell\u001b[39m\u001b[36m \u001b[39m\u001b[32mIn[1]\u001b[39m\u001b[32m, line 1\u001b[39m\n\u001b[31m    \u001b[39m\u001b[31mdef mul(a,b):\u001b[39m\n                 ^\n\u001b[31mSyntaxError\u001b[39m\u001b[31m:\u001b[39m incomplete input\n"
     ]
    }
   ],
   "source": [
    "def mul(a,b):\n",
    "    \n",
    "    if b==1:\n",
    "        return a\n",
    "    else:\n",
    "        return a + mul(a,b-1)\n",
    "\n",
    "     \n",
    "\n",
    "\n",
    "\n",
    "print(mul(5,5)) \n",
    "\n",
    "#5 *1 = 5\n",
    "5 + 5 = 5*2 =10\n",
    "5 + 5 + 5= 5*3 =15\n",
    "5 + 5 + 5 + 5= 5*4 =20\n",
    "5 + 5 + 5 + 5 + 5= 5*5 =25 "
   ]
  },
  {
   "cell_type": "code",
   "execution_count": null,
   "id": "25088132-5ea5-4fd5-ad5d-b715559b603c",
   "metadata": {},
   "outputs": [],
   "source": []
  }
 ],
 "metadata": {
  "kernelspec": {
   "display_name": "Python 3 (ipykernel)",
   "language": "python",
   "name": "python3"
  },
  "language_info": {
   "codemirror_mode": {
    "name": "ipython",
    "version": 3
   },
   "file_extension": ".py",
   "mimetype": "text/x-python",
   "name": "python",
   "nbconvert_exporter": "python",
   "pygments_lexer": "ipython3",
   "version": "3.11.0"
  }
 },
 "nbformat": 4,
 "nbformat_minor": 5
}
