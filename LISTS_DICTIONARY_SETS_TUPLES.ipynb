{
 "cells": [
  {
   "cell_type": "code",
   "execution_count": 1,
   "id": "c2c6aee8-104b-4502-a374-b6f703ede896",
   "metadata": {},
   "outputs": [],
   "source": [
    "#List \n",
    "#Collection in Python for sequences of diverse data types.\n",
    "\n",
    "#List vs Array\n",
    "#Array: Homogeneous; Contiguous memory; Fast; Numerical/Scientific use.\n",
    "/#List: Heterogeneous; Non-contiguous memory; Programmer-friendly; General-purpose.\n",
    "#1. Create\n",
    "#2. Access\n",
    "#3. Edit\n",
    "#4. Add\n",
    "#5 . Delete\n",
    "#6. Operations\n",
    "#7. Functions\n",
    "\n",
    "#Arrays vs. Lists in Memory:\n",
    "#Arrays:\n",
    "\n",
    "#int arr[50]; ---> 50 contiguous memory blocks.\n",
    "#Elements stored in binary form at consecutive addresses.\n",
    "#Lists:\n",
    "\n",
    "#list_example = [1, 2, 3] ---> Elements at different locations.\n",
    "#Stores references/pointers to elements, not the values.\n"
   ]
  },
  {
   "cell_type": "code",
   "execution_count": 2,
   "id": "069fe254-2011-462f-8b1a-3626d17b80de",
   "metadata": {},
   "outputs": [
    {
     "data": {
      "text/plain": [
       "107970847909704"
      ]
     },
     "execution_count": 2,
     "metadata": {},
     "output_type": "execute_result"
    }
   ],
   "source": [
    "L = [1,2,3]\n",
    "id(L[0])"
   ]
  },
  {
   "cell_type": "code",
   "execution_count": 3,
   "id": "c17fdc75-9c0e-4ba5-a889-c192baaa6c80",
   "metadata": {},
   "outputs": [
    {
     "name": "stdout",
     "output_type": "stream",
     "text": [
      "107970847909768\n"
     ]
    }
   ],
   "source": [
    "print(id(L[2]))   "
   ]
  },
  {
   "cell_type": "code",
   "execution_count": 4,
   "id": "3469c297-ab0b-43b0-8e4e-a8052e8806c3",
   "metadata": {},
   "outputs": [],
   "source": [
    "#List Characteristics\n",
    "#Ordered\n",
    "#Mutable\n",
    "#Heterogeneous\n",
    "#Duplicates allowed\n",
    "#Dynamic size\n",
    "#Nesting supported\n",
    "#Indexable\n",
    "#Any object type\n"
   ]
  },
  {
   "cell_type": "code",
   "execution_count": 5,
   "id": "48f1246e-a880-4455-a0c5-e5eebf955c9c",
   "metadata": {},
   "outputs": [
    {
     "name": "stdout",
     "output_type": "stream",
     "text": [
      "[]\n"
     ]
    }
   ],
   "source": [
    "#CREATE \n",
    "l = []   #empty list \n",
    "print(l)"
   ]
  },
  {
   "cell_type": "code",
   "execution_count": 6,
   "id": "98d65ee0-1ad8-4887-8777-25fca82c73b4",
   "metadata": {},
   "outputs": [],
   "source": [
    "#1D  HETEROGENEOUS \n",
    "dim_1D =[1,123.4333 , True, 7+90j , 'g' , \"LONG DISTANCE\"]"
   ]
  },
  {
   "cell_type": "code",
   "execution_count": 7,
   "id": "98b6ca70-dbac-4a70-9e3b-3b6130c85e0e",
   "metadata": {},
   "outputs": [],
   "source": [
    "#2D\n",
    "dim_2D =[[\"STRONG\" , \"SUITS\" , \"KINDNESS\"] , ['R','O'] , [True,False] , [1223.455 , 33, 44,]]"
   ]
  },
  {
   "cell_type": "code",
   "execution_count": 8,
   "id": "e5a253be-78f2-4e12-a578-2b9bd876d734",
   "metadata": {},
   "outputs": [],
   "source": [
    "#3D \n",
    "dim_3D =  [ [[\"SLOGANS\" , \"OF\"] , [\"INDEPENDENCE\"], [\"IN\" \"COLONIAL\", \"ERA\"]] , [[11223.90 , 33, 99,111] , [900, 2+90j]] , [['1', 0, True ,'k'] , [\"suits\" ,\"ARE\"] ,[\"EXPENSIVE\"]]  ]"
   ]
  },
  {
   "cell_type": "code",
   "execution_count": 9,
   "id": "be79f0ec-9968-4936-a709-f14b38157f8f",
   "metadata": {},
   "outputs": [
    {
     "data": {
      "text/plain": [
       "['M', 'I', 'L', 'K']"
      ]
     },
     "execution_count": 9,
     "metadata": {},
     "output_type": "execute_result"
    }
   ],
   "source": [
    "#TYPE CONVERSION \n",
    "list(\"MILK\") "
   ]
  },
  {
   "cell_type": "code",
   "execution_count": 152,
   "id": "18f6485c-f86c-4434-a3a9-15e0786bda07",
   "metadata": {},
   "outputs": [
    {
     "name": "stdout",
     "output_type": "stream",
     "text": [
      "[1, 123.4333, True, (7+90j), 'g', 'LONG DISTANCE']\n",
      "LONG DISTANCE\n",
      "['LONG DISTANCE', 'g', (7+90j), True, 123.4333, 1]\n",
      "[123.4333, (7+90j), 'LONG DISTANCE']\n",
      "[123.4333, True, (7+90j), 'g']\n",
      "\n",
      "\n",
      "[['STRONG', 'SUITS', 'KINDNESS'], ['R', 'O'], [True, False], [1223.455, 33, 44]]\n",
      "[['STRONG', 'SUITS', 'KINDNESS'], ['R', 'O'], [True, False], [1223.455, 33, 44]]\n",
      "\n",
      "\n",
      "ACCESSING 2D LIST\n",
      "['STRONG', 'SUITS', 'KINDNESS'] : STRONG  SUITS  KINDNESS  \n",
      "['R', 'O'] : R  O  \n",
      "[True, False] : True  False  \n",
      "[1223.455, 33, 44] : 1223.455  33  44  \n"
     ]
    }
   ],
   "source": [
    "#2. ACCES \n",
    "\n",
    "#1D ACCES \n",
    "print(dim_1D) \n",
    "dim_1D[0:6] \n",
    "\n",
    "#SLICING\n",
    "print(dim_1D[-1])  # LAST ELEMENT -1 \n",
    "\n",
    "print(dim_1D[::-1]) #REVERSE THE LIST COMPLETELY \n",
    "\n",
    "print(dim_1D[1:6:2]) # 2 is sequece \n",
    "\n",
    "print(dim_1D[-5:-1] ,end = \"\\n\\n\\n\")\n",
    "\n",
    "\n",
    "#2D ACESS \n",
    "\n",
    "print(dim_2D)\n",
    "print(dim_2D[0:4] ,end=\"\\n\\n\\n\")  \n",
    "i = 0 \n",
    "print(\"ACCESSING 2D LIST\")\n",
    "for i in dim_2D:   #1D ACCESSED \n",
    "    print(i,\":\", end = \" \")  \n",
    "    for second_dim in i:      #2D accessed \n",
    "        print(second_dim , end = \"  \") \n",
    "    print(end = \"\\n\")"
   ]
  },
  {
   "cell_type": "code",
   "execution_count": 11,
   "id": "e1753f2b-c8b1-4c50-b485-300bc30e6312",
   "metadata": {},
   "outputs": [
    {
     "name": "stdout",
     "output_type": "stream",
     "text": [
      "STRONG\n",
      "SUITS\n",
      "R\n",
      "O\n",
      "True\n",
      "False\n",
      "1223.455\n",
      "STRONG\n",
      "R\n"
     ]
    }
   ],
   "source": [
    "print(dim_2D[0][0]) \n",
    "print(dim_2D[0][1])\n",
    "\n",
    "print(dim_2D[1][0])\n",
    "print(dim_2D[1][1])  \n",
    "\n",
    "print(dim_2D[2][0])\n",
    "print(dim_2D[2][1])\n",
    "\n",
    "print(dim_2D[-1][0])  #ACESS LAST DIRECTLY VIA -1 \n",
    "print(dim_2D[-4][0])\n",
    "print(dim_2D[-3][0])"
   ]
  },
  {
   "cell_type": "code",
   "execution_count": 155,
   "id": "dc85ee07-79c2-4ba2-9061-13ff03446f89",
   "metadata": {},
   "outputs": [
    {
     "name": "stdout",
     "output_type": "stream",
     "text": [
      "[[['SLOGANS', 'OF'], ['INDEPENDENCE'], ['INCOLONIAL', 'ERA']], [[11223.9, 33, 99, 111], [900, (2+90j)]], [['1', 0, True, 'k'], ['suits', 'ARE'], ['EXPENSIVE']]]\n",
      "3\n",
      "[['SLOGANS', 'OF'], ['INDEPENDENCE'], ['INCOLONIAL', 'ERA']]\n",
      "0 : [ 0 ] [ 0 ] : ['SLOGANS', 'OF']\n",
      "[ 0 ] [ 1 ] : ['INDEPENDENCE']\n",
      "[ 0 ] [ 2 ] : ['INCOLONIAL', 'ERA']\n",
      "[ 0 ] [ 0 ] : [11223.9, 33, 99, 111]\n",
      "[ 0 ] [ 1 ] : [900, (2+90j)]\n",
      "[ 0 ] [ 0 ] : ['1', 0, True, 'k']\n",
      "[ 0 ] [ 1 ] : ['suits', 'ARE']\n",
      "[ 0 ] [ 2 ] : ['EXPENSIVE']\n",
      "[[11223.9, 33, 99, 111], [900, (2+90j)]]\n",
      "1 : [ 1 ] [ 0 ] : ['SLOGANS', 'OF']\n",
      "[ 1 ] [ 1 ] : ['INDEPENDENCE']\n",
      "[ 1 ] [ 2 ] : ['INCOLONIAL', 'ERA']\n",
      "[ 1 ] [ 0 ] : [11223.9, 33, 99, 111]\n",
      "[ 1 ] [ 1 ] : [900, (2+90j)]\n",
      "[ 1 ] [ 0 ] : ['1', 0, True, 'k']\n",
      "[ 1 ] [ 1 ] : ['suits', 'ARE']\n",
      "[ 1 ] [ 2 ] : ['EXPENSIVE']\n",
      "[['1', 0, True, 'k'], ['suits', 'ARE'], ['EXPENSIVE']]\n",
      "2 : [ 2 ] [ 0 ] : ['SLOGANS', 'OF']\n",
      "[ 2 ] [ 1 ] : ['INDEPENDENCE']\n",
      "[ 2 ] [ 2 ] : ['INCOLONIAL', 'ERA']\n",
      "[ 2 ] [ 0 ] : [11223.9, 33, 99, 111]\n",
      "[ 2 ] [ 1 ] : [900, (2+90j)]\n",
      "[ 2 ] [ 0 ] : ['1', 0, True, 'k']\n",
      "[ 2 ] [ 1 ] : ['suits', 'ARE']\n",
      "[ 2 ] [ 2 ] : ['EXPENSIVE']\n"
     ]
    }
   ],
   "source": [
    "#3D \n",
    "#WHILE LOOP \n",
    "    \n",
    "print(dim_3D)  \n",
    "dim_3D[0:3]  \n",
    "length = len(dim_3D)\n",
    "print(len(dim_3D))\n",
    "i = 0\n",
    "while i< length:\n",
    "    print(dim_3D[i]) \n",
    "    print(i  , \":\" , sep = \" \" , end = \" \")\n",
    "    \n",
    "    for index in dim_3D:\n",
    "        j=0\n",
    "        for index_2d in index:\n",
    "            print( \"[\",i,\"]\",\"[\",j,\"]\",\":\" , end = \" \") \n",
    "            print(index_2d)   \n",
    "            j+=1\n",
    "    i+=1  "
   ]
  },
  {
   "cell_type": "code",
   "execution_count": 30,
   "id": "28f97cb5-9269-457a-ba5a-c0aaa69c3504",
   "metadata": {},
   "outputs": [
    {
     "name": "stdout",
     "output_type": "stream",
     "text": [
      "[100, 300, 400, 500, 600, 700]\n"
     ]
    }
   ],
   "source": [
    "#LISTS ARE MUTABLE  \n",
    "l1 = [100, 200,2,3,4,700]\n",
    "l1[1:5] = [300,400,500,600]\n",
    "print(l1)     "
   ]
  },
  {
   "cell_type": "code",
   "execution_count": 33,
   "id": "4b17dad2-5d5b-4d2c-85d9-80bfdd121674",
   "metadata": {},
   "outputs": [
    {
     "name": "stdout",
     "output_type": "stream",
     "text": [
      "[[['SLOGANS', 'OF'], ['INDEPENDENCE'], ['INCOLONIAL', 'ERA']], [[11223.9, 33, 99, 111], [900, (2+90j)]], [['1', 0, True, 'k'], ['suits', 'ARE'], ['EXPENSIVE']]]\n"
     ]
    }
   ],
   "source": [
    "print(dim_3D)"
   ]
  },
  {
   "cell_type": "code",
   "execution_count": 35,
   "id": "d4f5054a-3f07-4459-a371-c191e8def06d",
   "metadata": {},
   "outputs": [
    {
     "name": "stdout",
     "output_type": "stream",
     "text": [
      "(2+90j)\n"
     ]
    }
   ],
   "source": [
    "dim_3D [0] [0] [1]\n",
    "print(dim_3D [1] [1] [1])"
   ]
  },
  {
   "cell_type": "code",
   "execution_count": 59,
   "id": "6501cdb0-baa6-40ce-8b5c-dc244c05d9f2",
   "metadata": {},
   "outputs": [
    {
     "name": "stdout",
     "output_type": "stream",
     "text": [
      "[2, 20, 200, 3, 30, 300, 'status']\n"
     ]
    }
   ],
   "source": [
    "#ADD \n",
    "#append 1 item only adds in last \n",
    "#extend mamy items adds in last\n",
    "#insert  at start adds item\n",
    "\n",
    "li9 = [2,20,200,3,30,300]\n",
    "\n",
    "li9.append(\"status\")\n",
    "print(li9)\n",
    "\n",
    "#li9.append(1,22) #ERROR "
   ]
  },
  {
   "cell_type": "code",
   "execution_count": 60,
   "id": "ee1e463e-a060-4d00-91b7-1c2d3467a8cc",
   "metadata": {},
   "outputs": [
    {
     "name": "stdout",
     "output_type": "stream",
     "text": [
      "[2, 20, 200, 3, 30, 300, 'status', 5000, 6000, 70000, 8000]\n"
     ]
    }
   ],
   "source": [
    "li9.extend([5000 ,6000, 70000 ,8000])    \n",
    "print(li9)"
   ]
  },
  {
   "cell_type": "code",
   "execution_count": 54,
   "id": "faff11ac-5388-4e06-96fd-afb98f4cdfc4",
   "metadata": {},
   "outputs": [
    {
     "name": "stdout",
     "output_type": "stream",
     "text": [
      "[2, 'insert', 'insert', 'insert', 20, 200, 3, 30, 300, 'status', 'D', 'U', 'O', 'L', 'I', 'N', 'G', 'O', 'DUOLINGO', 'IS', 'BETTER', 'LANGUAGE', 'APP', 'DUOLINGO', 'IS', 'BETTER', 'LANGUAGE', 'APP', 'DUOLINGO', 'IS', 'BETTER', 'LANGUAGE', 'APP']\n"
     ]
    }
   ],
   "source": [
    "li9.insert(3, 'insert')\n",
    "print(li9)  "
   ]
  },
  {
   "cell_type": "code",
   "execution_count": 82,
   "id": "be73674a-f734-4226-9ed7-bc42ffa64e15",
   "metadata": {},
   "outputs": [
    {
     "name": "stdout",
     "output_type": "stream",
     "text": [
      "[1, 'justice', 'all in oone', 'o', 'p', 'm']\n",
      "[1]\n"
     ]
    }
   ],
   "source": [
    "\n",
    "#DELETE \n",
    "#POP deletes everything except the last item in list \n",
    "#DEL DELETE ITEMS INDEXWISE\n",
    "#REMOVE ITEM NAME IS KNOWN AND NOT INDEX THERE USED \n",
    "#\n",
    "\n",
    "li2 = [1,2,3,4,\"justice\" ,\"all in oone\" , 'o' , 'p' , 'm'] \n",
    "li2.pop()  \n",
    "\n",
    "li3 = [1,2,3,4,\"justice\" ,\"all in oone\" , 'o' , 'p' , 'm'] \n",
    "del li3[1:4]\n",
    "print(li3) \n",
    "\n",
    "del li3[-5:]    \n",
    "print(li3)\n"
   ]
  },
  {
   "cell_type": "code",
   "execution_count": 102,
   "id": "5d7c8844-5625-45eb-9b2d-87c509a3962b",
   "metadata": {},
   "outputs": [
    {
     "name": "stdout",
     "output_type": "stream",
     "text": [
      "['oracle', 'i', 'strong', 234, 456]\n"
     ]
    }
   ],
   "source": [
    "li4 = ['oracle',True,'i',\"strong\",234,456]  \n",
    "li4.remove(True)\n",
    "print(li4) "
   ]
  },
  {
   "cell_type": "code",
   "execution_count": 103,
   "id": "b6228682-6180-4633-ae7d-69d9c572ab2f",
   "metadata": {},
   "outputs": [
    {
     "name": "stdout",
     "output_type": "stream",
     "text": [
      "['oracle', 'i', 'strong', 456]\n"
     ]
    }
   ],
   "source": [
    "li4.remove(234) \n",
    "print(li4)"
   ]
  },
  {
   "cell_type": "code",
   "execution_count": 109,
   "id": "88a30267-ff58-4f5e-b1a9-cf7985abc8b1",
   "metadata": {},
   "outputs": [
    {
     "name": "stdout",
     "output_type": "stream",
     "text": [
      "[1, 2, 3, 4, 5, 6]\n",
      "[1, 2, 3, 1, 2, 3, 1, 2, 3]\n",
      "True\n",
      "single\n",
      "double\n",
      "triple\n"
     ]
    }
   ],
   "source": [
    "#Function \n",
    "#OPERATIONS \n",
    "\n",
    "print([1,2,3] + [4,5,6])  \n",
    "\n",
    "print([1,2,3] * 3)  \n",
    "\n",
    "print(1 in [1,2,3])  \n",
    "\n",
    "royalty = [\"single\", \"double\" , \"triple\"]\n",
    "\n",
    "for trees in royalty:\n",
    "    print(trees)      "
   ]
  },
  {
   "cell_type": "code",
   "execution_count": 126,
   "id": "fb785a3e-63dd-43d1-98df-7e118b072f34",
   "metadata": {},
   "outputs": [
    {
     "name": "stdout",
     "output_type": "stream",
     "text": [
      "['love', 'for', 'all']\n",
      "[4, 3, 2, 1]\n"
     ]
    }
   ],
   "source": [
    "#FUNCTIONS \n",
    "\n",
    "L10 = [\"love\", \"for\",\"all\"] \n",
    "L10.sort(reverse = True) \n",
    "print(L10)  \n",
    "\n",
    "L11 = [1,2,3,4]\n",
    "\n",
    "L11.sort(reverse = True)\n",
    "print(L11)  "
   ]
  },
  {
   "cell_type": "code",
   "execution_count": 132,
   "id": "b63531bf-dc5f-43ed-bd5b-d88b6ccb9726",
   "metadata": {},
   "outputs": [
    {
     "name": "stdout",
     "output_type": "stream",
     "text": [
      "<class 'int'>\n",
      "<class 'tuple'>\n",
      "<class 'tuple'>\n",
      "(1, 2, 3, 4)\n"
     ]
    }
   ],
   "source": [
    "#TUPLE \n",
    "#TUPLES ARE IMMUTABLE   \n",
    "#TUPLE IS READ ONLY DATATYPE \n",
    "#Characteristics:\n",
    "#Ordered elements.\n",
    "#Unmodifiable post-creation.\n",
    "#Allows duplicates.\n",
    "\n",
    "\n",
    "#CREATE \n",
    "\n",
    "tup1 = (1) \n",
    "print(type(tup1)) \n",
    "\n",
    "tup2 = (1,) \n",
    "print(type(tup2))  \n",
    "\n",
    "tup3 = (1,2,3,4)\n",
    "print(type(tup3)) \n",
    "\n",
    "print(tup3)"
   ]
  },
  {
   "cell_type": "code",
   "execution_count": 136,
   "id": "429ccb04-abce-4bcd-a73a-316013bfe912",
   "metadata": {},
   "outputs": [
    {
     "name": "stdout",
     "output_type": "stream",
     "text": [
      "('G', 'O', 'A')\n"
     ]
    }
   ],
   "source": [
    "tup4 = tuple(\"GOA\",) \n",
    "print(tup4)    "
   ]
  },
  {
   "cell_type": "code",
   "execution_count": 142,
   "id": "f27b7c98-f78f-4c16-8829-923cf22f2ba2",
   "metadata": {},
   "outputs": [
    {
     "name": "stdout",
     "output_type": "stream",
     "text": [
      "1\n",
      "(4, 5, (9, 10, 11, 12))\n",
      "(6, 7)\n",
      "(2, 3, (4, 5, (9, 10, 11, 12)))\n",
      "4\n",
      "12\n"
     ]
    }
   ],
   "source": [
    "tup5 = (1,2,3,( 4,5 , (9,10,11,12) ) ,(6,7))  \n",
    "print(tup5[0]) \n",
    "\n",
    "print(tup5[3])  \n",
    "\n",
    "print(tup5[4])  \n",
    "\n",
    "print(tup5[1:4]) \n",
    "\n",
    "print(tup5[3][0])  #2D \n",
    "\n",
    "print(tup5[3] [2] [3]) #3D"
   ]
  },
  {
   "cell_type": "code",
   "execution_count": 143,
   "id": "ecc31ca9-300f-4f5b-a4b8-ebbb7dbf041a",
   "metadata": {},
   "outputs": [
    {
     "ename": "TypeError",
     "evalue": "'tuple' object does not support item assignment",
     "output_type": "error",
     "traceback": [
      "\u001b[31m---------------------------------------------------------------------------\u001b[39m",
      "\u001b[31mTypeError\u001b[39m                                 Traceback (most recent call last)",
      "\u001b[36mCell\u001b[39m\u001b[36m \u001b[39m\u001b[32mIn[143]\u001b[39m\u001b[32m, line 5\u001b[39m\n\u001b[32m      1\u001b[39m \u001b[38;5;66;03m#EDIT \u001b[39;00m\n\u001b[32m      3\u001b[39m tup6 = (\u001b[32m4\u001b[39m,\u001b[32m5\u001b[39m,\u001b[32m6\u001b[39m,\u001b[32m7\u001b[39m,\u001b[32m8\u001b[39m)\n\u001b[32m----> \u001b[39m\u001b[32m5\u001b[39m \u001b[43mtup6\u001b[49m\u001b[43m[\u001b[49m\u001b[32;43m2\u001b[39;49m\u001b[43m]\u001b[49m = \u001b[33m'\u001b[39m\u001b[33mop\u001b[39m\u001b[33m'\u001b[39m\n",
      "\u001b[31mTypeError\u001b[39m: 'tuple' object does not support item assignment"
     ]
    }
   ],
   "source": [
    "#EDIT \n",
    "\n",
    "tup6 = (4,5,6,7,8)\n",
    "\n",
    "tup6[2] = 'op'  \n",
    "\n",
    "\n",
    "#ADDING IN TUPLES NOT POSSIBLE  \n",
    "\n",
    "#DELETING A PART OF TUPLE NOT POSSIBLE   \n",
    "\n",
    "#OPERATIONS SIMILAR TO THE LIST \\\n",
    "#similar functions as list \n"
   ]
  },
  {
   "cell_type": "code",
   "execution_count": 151,
   "id": "6c125f7a-6c3a-4a72-859a-34f43d0e93df",
   "metadata": {},
   "outputs": [
    {
     "name": "stdout",
     "output_type": "stream",
     "text": [
      "1 2 34\n",
      "2 1\n",
      "11 12\n",
      "13 14 15 16 17\n"
     ]
    }
   ],
   "source": [
    "#Q. Why use Tuples?\n",
    "#Immutable; prevents changes.\n",
    "#Ensures data integrity.\n",
    "#Use for fixed collections.\n",
    "#Example:\n",
    "#college_database = ('CS', 'Math', 'Physics')\n",
    "# college_database[0] = 'Electronics'  # TypeError\n",
    "#Use for static data; lists for mutable.\n",
    "\n",
    "#SPOECIAL SYNTAX \n",
    "\n",
    "a,b,c = (1,2,34)  \n",
    "print(a,b,c) \n",
    "\n",
    "a,b = b, a\n",
    "print(a,b) \n",
    "\n",
    "a,b,*others = (11,12,13,14,15,16,17)   \n",
    "print(a,b) \n",
    "print(*others) \n"
   ]
  },
  {
   "cell_type": "code",
   "execution_count": 13,
   "id": "a164ad0a-ac9a-4894-8d93-3bc900ca21fd",
   "metadata": {},
   "outputs": [
    {
     "name": "stdout",
     "output_type": "stream",
     "text": [
      "<class 'set'>\n",
      "<class 'dict'>\n",
      "{1, 2, 3, 212.00092, 'qwyu', (1+9j), 't'}\n"
     ]
    }
   ],
   "source": [
    "#Sets\n",
    "#Unordered, unique elements.\n",
    "#HETEROGENEOUS SET \n",
    "#Set is mutable; elements are immutable.\n",
    "\n",
    "#Operations: Union, intersection, symmetric difference, etc.\n",
    "\n",
    "#Characteristics:\n",
    "#1. Unordered\n",
    "#2.Mutable\n",
    "#3.Unique Elements\n",
    "#4.No Mutable Data Types\n",
    "# Important Rules about Sets\n",
    "#1.No Duplicates \n",
    "#2.No Indexing/Slicing \n",
    "#3.No Mutable Elements \n",
    "#4.Set is Mutable \n",
    "\n",
    "s1 = {1}  #BY DEFAULT PYTHON IDENTIFIES Empty CURLY BACES AS DICTIONARY DATATYPE  \n",
    "print(type(s1))\n",
    "\n",
    "s2= {} #EMPTY CURLY BRACES IS CONSIDERED AS DICTIONARY DATATYPE \n",
    "print(type(s2)) \n",
    "\n",
    "s2 = {1,2,3,\"qwyu\" ,1+9j, 't' ,212.00092} \n",
    "print(s2) "
   ]
  },
  {
   "cell_type": "code",
   "execution_count": 16,
   "id": "2e243ced-1669-435d-b39d-c6ca4b51cd6c",
   "metadata": {},
   "outputs": [
    {
     "ename": "TypeError",
     "evalue": "unhashable type: 'set'",
     "output_type": "error",
     "traceback": [
      "\u001b[31m---------------------------------------------------------------------------\u001b[39m",
      "\u001b[31mTypeError\u001b[39m                                 Traceback (most recent call last)",
      "\u001b[36mCell\u001b[39m\u001b[36m \u001b[39m\u001b[32mIn[16]\u001b[39m\u001b[32m, line 2\u001b[39m\n\u001b[32m      1\u001b[39m \u001b[38;5;66;03m#CANNOT CREAE 2D < 3D<  sets  \u001b[39;00m\n\u001b[32m----> \u001b[39m\u001b[32m2\u001b[39m s3 = {{\u001b[32m1\u001b[39m},\u001b[33m\"\u001b[39m\u001b[33mJOIN\u001b[39m\u001b[33m\"\u001b[39m}  \u001b[38;5;66;03m#2D set ERROR\u001b[39;00m\n",
      "\u001b[31mTypeError\u001b[39m: unhashable type: 'set'"
     ]
    }
   ],
   "source": [
    "#CANNOT CREAE 2D < 3D<  sets  \n",
    "s3 = {{1},\"JOIN\"}  #2D set ERROR"
   ]
  },
  {
   "cell_type": "code",
   "execution_count": 17,
   "id": "df3f7791-5e83-4b68-a6dd-2a85692b0aef",
   "metadata": {},
   "outputs": [
    {
     "name": "stdout",
     "output_type": "stream",
     "text": [
      "{4, 5, 6, 23, 11, 12}\n"
     ]
    }
   ],
   "source": [
    "#REMOVES DUPLICATE\n",
    "s4= {11,11,12,12,23,23,4,5,6}\n",
    "print(s4)"
   ]
  },
  {
   "cell_type": "code",
   "execution_count": 23,
   "id": "2c50bedf-6182-4596-ae26-b327d8777703",
   "metadata": {},
   "outputs": [
    {
     "name": "stdout",
     "output_type": "stream",
     "text": [
      "{'DARK', 'OUT', 'INSIDE'}\n"
     ]
    }
   ],
   "source": [
    "s5 = {\"DARK\", \"INSIDE\" , \"OUT\"}\n",
    "print(s5)"
   ]
  },
  {
   "cell_type": "code",
   "execution_count": 24,
   "id": "273683d7-8579-4a78-b6b8-b1a54e30b328",
   "metadata": {},
   "outputs": [
    {
     "name": "stdout",
     "output_type": "stream",
     "text": [
      "{1, 2, 3, 4, 'YOURS'}\n"
     ]
    }
   ],
   "source": [
    "s6 = {1,2,3,4,\"YOURS\"} \n",
    "print(s6) "
   ]
  },
  {
   "cell_type": "code",
   "execution_count": 27,
   "id": "3c0588bf-5b9f-469b-bd73-3f66136e4878",
   "metadata": {},
   "outputs": [
    {
     "ename": "TypeError",
     "evalue": "'set' object is not subscriptable",
     "output_type": "error",
     "traceback": [
      "\u001b[31m---------------------------------------------------------------------------\u001b[39m",
      "\u001b[31mTypeError\u001b[39m                                 Traceback (most recent call last)",
      "\u001b[36mCell\u001b[39m\u001b[36m \u001b[39m\u001b[32mIn[27]\u001b[39m\u001b[32m, line 6\u001b[39m\n\u001b[32m      1\u001b[39m \u001b[38;5;66;03m# CANNOT ACCESS ELEMENTS FROM SETS \u001b[39;00m\n\u001b[32m      2\u001b[39m \u001b[38;5;66;03m#NO INDEXING/SLICING\u001b[39;00m\n\u001b[32m      3\u001b[39m \u001b[38;5;66;03m#CONVERT SET INTO LIST(NEW CREATED) >>> EDIT >>>> SAVE\u001b[39;00m\n\u001b[32m      5\u001b[39m s7 = {\u001b[32m1\u001b[39m,\u001b[32m2\u001b[39m,\u001b[32m3\u001b[39m,\u001b[32m4\u001b[39m,\u001b[33m\"\u001b[39m\u001b[33mballs\u001b[39m\u001b[33m\"\u001b[39m} \n\u001b[32m----> \u001b[39m\u001b[32m6\u001b[39m \u001b[38;5;28mprint\u001b[39m(\u001b[43ms7\u001b[49m\u001b[43m[\u001b[49m\u001b[32;43m0\u001b[39;49m\u001b[43m:\u001b[49m\u001b[32;43m2\u001b[39;49m\u001b[43m]\u001b[49m) \n\u001b[32m      7\u001b[39m \u001b[38;5;28mprint\u001b[39m(s7[\u001b[32m0\u001b[39m])\n\u001b[32m      8\u001b[39m \u001b[38;5;28mprint\u001b[39m(s7[-\u001b[32m1\u001b[39m])\n",
      "\u001b[31mTypeError\u001b[39m: 'set' object is not subscriptable"
     ]
    }
   ],
   "source": [
    "# CANNOT ACCESS ELEMENTS FROM SETS \n",
    "#NO INDEXING/SLICING\n",
    "#CONVERT SET INTO LIST(NEW CREATED) >>> EDIT >>>> SAVE\n",
    "\n",
    "s7 = {1,2,3,4,\"balls\"} \n",
    "print(s7[0:2]) \n",
    "print(s7[0])\n",
    "print(s7[-1])      "
   ]
  },
  {
   "cell_type": "code",
   "execution_count": 41,
   "id": "d271f7b4-d7e2-4a92-ba26-4b12cc162838",
   "metadata": {},
   "outputs": [
    {
     "name": "stdout",
     "output_type": "stream",
     "text": [
      "{0, 'lolo', 123445, 'lulu', 'a', 12.0, 'P'}\n",
      "126101313444256\n",
      "{0, 'lolo', 9900, 123445, 'lulu', 'a', 12.0, 'P'}\n",
      "126101313444256\n"
     ]
    },
    {
     "ename": "AttributeError",
     "evalue": "'set' object has no attribute 'insert'",
     "output_type": "error",
     "traceback": [
      "\u001b[31m---------------------------------------------------------------------------\u001b[39m",
      "\u001b[31mAttributeError\u001b[39m                            Traceback (most recent call last)",
      "\u001b[36mCell\u001b[39m\u001b[36m \u001b[39m\u001b[32mIn[41]\u001b[39m\u001b[32m, line 17\u001b[39m\n\u001b[32m     15\u001b[39m \u001b[38;5;66;03m#EXTEND \u001b[39;00m\n\u001b[32m     16\u001b[39m s9 = \u001b[38;5;28mset\u001b[39m({})\n\u001b[32m---> \u001b[39m\u001b[32m17\u001b[39m \u001b[43ms9\u001b[49m\u001b[43m.\u001b[49m\u001b[43minsert\u001b[49m(\u001b[32m600\u001b[39m,\u001b[32m700\u001b[39m,\u001b[32m800\u001b[39m)\n",
      "\u001b[31mAttributeError\u001b[39m: 'set' object has no attribute 'insert'"
     ]
    }
   ],
   "source": [
    "\n",
    "#ADD ELEMENTS IN SET \n",
    "#YES POSSIBLE \n",
    "#MUTABLE DATATYPE\n",
    "s8 = {\"lolo\" , \"lulu\", 'a', 'P' , 123445, 0 , 12.00} \n",
    "print(s8) \n",
    "print(id(s8))\n",
    "\n",
    "\n",
    "#ADD\n",
    "s8.add(9900)  \n",
    "#s8.add(9900, \"JAI BHARAT\" , \"JAIN TEMPLE\") #TypeError: set.add() takes exactly one argument (3 given)\n",
    "print(s8)\n",
    "print(id(s8))   \n"
   ]
  },
  {
   "cell_type": "code",
   "execution_count": 51,
   "id": "54056e66-e11f-468c-957b-c258f431b250",
   "metadata": {},
   "outputs": [
    {
     "ename": "TypeError",
     "evalue": "'set' object doesn't support item deletion",
     "output_type": "error",
     "traceback": [
      "\u001b[31m---------------------------------------------------------------------------\u001b[39m",
      "\u001b[31mTypeError\u001b[39m                                 Traceback (most recent call last)",
      "\u001b[36mCell\u001b[39m\u001b[36m \u001b[39m\u001b[32mIn[51]\u001b[39m\u001b[32m, line 10\u001b[39m\n\u001b[32m      1\u001b[39m \u001b[38;5;66;03m#Delete\u001b[39;00m\n\u001b[32m      2\u001b[39m \u001b[38;5;66;03m#1.del  >>>>> NOT SUPPORTED\u001b[39;00m\n\u001b[32m      3\u001b[39m \u001b[38;5;66;03m#2.remove() >>>>\u001b[39;00m\n\u001b[32m      4\u001b[39m \u001b[38;5;66;03m#3.pop()\u001b[39;00m\n\u001b[32m      5\u001b[39m \u001b[38;5;66;03m#4.discard()\u001b[39;00m\n\u001b[32m      6\u001b[39m \u001b[38;5;66;03m#5.clear()    \u001b[39;00m\n\u001b[32m      9\u001b[39m s10  ={\u001b[33m\"\u001b[39m\u001b[33mBULLEYA\u001b[39m\u001b[33m\"\u001b[39m , \u001b[33m\"\u001b[39m\u001b[33mSHoGHAI\u001b[39m\u001b[33m\"\u001b[39m ,\u001b[33m\"\u001b[39m\u001b[33moplanding\u001b[39m\u001b[33m\"\u001b[39m , \u001b[32m123\u001b[39m,\u001b[32m456\u001b[39m}  \n\u001b[32m---> \u001b[39m\u001b[32m10\u001b[39m \u001b[38;5;28;01mdel\u001b[39;00m \u001b[43ms10\u001b[49m\u001b[43m[\u001b[49m\u001b[32;43m0\u001b[39;49m\u001b[43m]\u001b[49m  \u001b[38;5;66;03m#ypeError: 'set' object doesn't support item deletion\u001b[39;00m\n",
      "\u001b[31mTypeError\u001b[39m: 'set' object doesn't support item deletion"
     ]
    }
   ],
   "source": [
    "\n",
    "#Delete\n",
    "#1.del  >>>>> NOT SUPPORTED\n",
    "#2.remove() >>>>SUPPORT  #ENTER ELEMNT/VALUE DIRECTLY SO IT IS POSSIBLE\n",
    "#3.pop() >>>>>SUPPORTED #ONLY @ST ELEMENTS REMAINS \n",
    "#4.discard() \n",
    "#5.clear() >>>>>>>> SUPORTED #EMPTYS THE SET \n",
    "\n",
    "\n",
    "s10  ={\"BULLEYA\" , \"SHoGHAI\" ,\"oplanding\" , 123,456}  \n",
    "del s10[0]  #ypeError: 'set' object doesn't support item deletion\n"
   ]
  },
  {
   "cell_type": "code",
   "execution_count": 52,
   "id": "510edf8f-452d-4ef7-94f9-995461ca0257",
   "metadata": {},
   "outputs": [
    {
     "name": "stdout",
     "output_type": "stream",
     "text": [
      "{'SHoGHAI', 'BULLEYA', 'oplanding', 456}\n"
     ]
    }
   ],
   "source": [
    "s10.remove(123)\n",
    "print(s10) \n"
   ]
  },
  {
   "cell_type": "code",
   "execution_count": 53,
   "id": "031b8b6b-3a2a-437b-892b-8eb0b18f5480",
   "metadata": {},
   "outputs": [
    {
     "data": {
      "text/plain": [
       "'SHoGHAI'"
      ]
     },
     "execution_count": 53,
     "metadata": {},
     "output_type": "execute_result"
    }
   ],
   "source": [
    "s10.pop() "
   ]
  },
  {
   "cell_type": "code",
   "execution_count": 63,
   "id": "1ce0a9e3-d78b-4f6b-b0e8-01f71e8a6690",
   "metadata": {},
   "outputs": [
    {
     "name": "stdout",
     "output_type": "stream",
     "text": [
      "set()\n",
      "<class 'set'>\n"
     ]
    }
   ],
   "source": [
    "#help(discard())  \n",
    "s10.clear() \n",
    "print(s10) #CLEARS THE WHOLE SET ONLY EMPTY SET REmAINS \n",
    "print(type(s10)) "
   ]
  },
  {
   "cell_type": "code",
   "execution_count": 65,
   "id": "837eaf71-462d-4d79-905a-4604c039825a",
   "metadata": {},
   "outputs": [
    {
     "ename": "TypeError",
     "evalue": "unsupported operand type(s) for +: 'set' and 'set'",
     "output_type": "error",
     "traceback": [
      "\u001b[31m---------------------------------------------------------------------------\u001b[39m",
      "\u001b[31mTypeError\u001b[39m                                 Traceback (most recent call last)",
      "\u001b[36mCell\u001b[39m\u001b[36m \u001b[39m\u001b[32mIn[65]\u001b[39m\u001b[32m, line 7\u001b[39m\n\u001b[32m      5\u001b[39m s11 = {\u001b[32m1\u001b[39m,\u001b[32m22\u001b[39m,\u001b[32m33\u001b[39m,\u001b[32m44\u001b[39m} \n\u001b[32m      6\u001b[39m s12 = {\u001b[32m55\u001b[39m,\u001b[32m66\u001b[39m,\u001b[32m77\u001b[39m,\u001b[32m88\u001b[39m}\n\u001b[32m----> \u001b[39m\u001b[32m7\u001b[39m \u001b[38;5;28mprint\u001b[39m(\u001b[43ms11\u001b[49m\u001b[43m \u001b[49m\u001b[43m+\u001b[49m\u001b[43m \u001b[49m\u001b[43ms12\u001b[49m) \u001b[38;5;66;03m#TypeError: unsupported operand type(s) for +: 'set' and 'set'\u001b[39;00m\n",
      "\u001b[31mTypeError\u001b[39m: unsupported operand type(s) for +: 'set' and 'set'"
     ]
    }
   ],
   "source": [
    "#OPERATIONS AE NOT SUPPORTED\n",
    "#CONCATENATION >>>>> NOT SUPPORTED\n",
    "#MULTIPLY >>>>NOT SUPPORTED\n",
    "\n",
    "s11 = {1,22,33,44} \n",
    "s12 = {55,66,77,88}\n",
    "print(s11 + s12) #TypeError: unsupported operand type(s) for +: 'set' and 'set'"
   ]
  },
  {
   "cell_type": "code",
   "execution_count": 67,
   "id": "7cc45ffb-476a-49bc-9daa-82283d2d9622",
   "metadata": {},
   "outputs": [
    {
     "ename": "TypeError",
     "evalue": "unsupported operand type(s) for *: 'set' and 'int'",
     "output_type": "error",
     "traceback": [
      "\u001b[31m---------------------------------------------------------------------------\u001b[39m",
      "\u001b[31mTypeError\u001b[39m                                 Traceback (most recent call last)",
      "\u001b[36mCell\u001b[39m\u001b[36m \u001b[39m\u001b[32mIn[67]\u001b[39m\u001b[32m, line 1\u001b[39m\n\u001b[32m----> \u001b[39m\u001b[32m1\u001b[39m \u001b[38;5;28mprint\u001b[39m(\u001b[43ms11\u001b[49m\u001b[43m \u001b[49m\u001b[43m*\u001b[49m\u001b[43m \u001b[49m\u001b[32;43m3\u001b[39;49m) \u001b[38;5;66;03m#TypeError: unsupported operand type(s) for *: 'set' and 'int\u001b[39;00m\n",
      "\u001b[31mTypeError\u001b[39m: unsupported operand type(s) for *: 'set' and 'int'"
     ]
    }
   ],
   "source": [
    "print(s11 * 3) #TypeError: unsupported operand type(s) for *: 'set' and 'int"
   ]
  },
  {
   "cell_type": "code",
   "execution_count": 71,
   "id": "840e0bea-f3d9-4842-9804-4192fc17f446",
   "metadata": {},
   "outputs": [
    {
     "name": "stdout",
     "output_type": "stream",
     "text": [
      "False\n",
      "True\n"
     ]
    }
   ],
   "source": [
    "#MEMBERSHIP OPERATOR \n",
    "print(123 in s11) \n",
    "print(22 in s11)"
   ]
  },
  {
   "cell_type": "code",
   "execution_count": 75,
   "id": "83e929f8-1e4c-4c93-a293-55f63a95ad5a",
   "metadata": {},
   "outputs": [
    {
     "name": "stdout",
     "output_type": "stream",
     "text": [
      "{1, 44, 22, 33}\n",
      "1\n"
     ]
    },
    {
     "ename": "TypeError",
     "evalue": "'set' object does not support item assignment",
     "output_type": "error",
     "traceback": [
      "\u001b[31m---------------------------------------------------------------------------\u001b[39m",
      "\u001b[31mTypeError\u001b[39m                                 Traceback (most recent call last)",
      "\u001b[36mCell\u001b[39m\u001b[36m \u001b[39m\u001b[32mIn[75]\u001b[39m\u001b[32m, line 6\u001b[39m\n\u001b[32m      4\u001b[39m \u001b[38;5;28;01mfor\u001b[39;00m element \u001b[38;5;129;01min\u001b[39;00m s11:\n\u001b[32m      5\u001b[39m     \u001b[38;5;28mprint\u001b[39m(element) \n\u001b[32m----> \u001b[39m\u001b[32m6\u001b[39m     \u001b[43ms11\u001b[49m\u001b[43m[\u001b[49m\u001b[43melement\u001b[49m\u001b[43m]\u001b[49m = \u001b[33m\"\u001b[39m\u001b[33mHELLO\u001b[39m\u001b[33m\"\u001b[39m\n",
      "\u001b[31mTypeError\u001b[39m: 'set' object does not support item assignment"
     ]
    }
   ],
   "source": [
    "#LOOPs \n",
    "#FOR  >>>>> WORKS\n",
    "print(s11)\n",
    "for element in s11:\n",
    "    print(element) \n",
    "    s11[element] = \"HELLO\"  #TypeError: 'set' object does not support item assignment   "
   ]
  },
  {
   "cell_type": "code",
   "execution_count": 101,
   "id": "db0734d4-f6e1-4e5b-b519-dc211a7aad2b",
   "metadata": {},
   "outputs": [
    {
     "name": "stdout",
     "output_type": "stream",
     "text": [
      "{'EINSTIEN', 900, 200, 'JENNEFER', 'GRAHAM', 1200, 'ARISTOTLE', 500, 'TESLA', 600}\n",
      "{'GRAHAM', 'TESLA'}\n",
      "{'EINSTIEN', 'ARISTOTLE', 'JENNEFER'}\n",
      "{900, 200, 'JENNEFER', 600, 'EINSTIEN', 1200, 'ARISTOTLE', 500}\n",
      "False\n",
      "True\n",
      "True\n"
     ]
    }
   ],
   "source": [
    "#FUNCTIONS IN SET  \n",
    "s13 = {\"EINSTIEN\",\"JENNEFER\",\"ARISTOTLE\",\"TESLA\",\"GRAHAM\"} \n",
    "s14 = {1200 , 200 , 600 ,500 , 900 ,\"TESLA\",\"GRAHAM\"}\n",
    "\n",
    "#sorted(s13.reverse = True)\n",
    "\n",
    "\n",
    "#max/min \n",
    "#len\n",
    "#sum \n",
    "#sorted \n",
    "\n",
    "\n",
    "#SET OPERATIONS   \n",
    "#union \n",
    "#intersection\n",
    "#difference\n",
    "#symmetric_difference\n",
    "#isdisjoint\n",
    "#issubset\n",
    "#issuperset\n",
    "\n",
    "s15 = s13.union(s14) \n",
    "print(s15)\n",
    "\n",
    "print(s13.intersection(s14)) # GIVES SIMILAR ELEMNTS IN BOTH SETS #{'GRAHAM', 'TESLA'}    \n",
    "\n",
    "print(s13.difference(s14))  #UNSIMILAR ELEMENTS PRINT \n",
    "\n",
    "print(s13.symmetric_difference(s14)) #ELEMNTS THAT ARE NOT IN BOTH  \n",
    "\n",
    "print(s13.isdisjoint(s14))   #Returns whether two sets have a intersection or not\n",
    "\n",
    "print(s15.issuperset(s14)) \n",
    "   \n",
    "print(s13.issubset(s15))    "
   ]
  },
  {
   "cell_type": "code",
   "execution_count": 103,
   "id": "e43451d1-f4ef-429e-8c15-fa6ddcbe20e3",
   "metadata": {},
   "outputs": [
    {
     "data": {
      "text/plain": [
       "frozenset({1, 2, 3, 4, 5})"
      ]
     },
     "execution_count": 103,
     "metadata": {},
     "output_type": "execute_result"
    }
   ],
   "source": [
    "#Frozen set\n",
    "#Immutable set.\n",
    "#Created via frozenset().\n",
    "#No modifications post-creation.\n",
    "#Ideal for hashable items: strings, numbers.\n",
    "\n",
    "#create frozenset \n",
    "\n",
    "fs1 = frozenset([ 1,2,3])\n",
    "fs2 = frozenset([3,4,5])\n",
    "\n",
    "fs1 | fs2"
   ]
  },
  {
   "cell_type": "code",
   "execution_count": 106,
   "id": "119fdd3b-b38f-4fa1-bcfb-9a0c1abea4c5",
   "metadata": {},
   "outputs": [
    {
     "data": {
      "text/plain": [
       "frozenset({1, 2, frozenset({3, 4})})"
      ]
     },
     "execution_count": 106,
     "metadata": {},
     "output_type": "execute_result"
    }
   ],
   "source": [
    "frozenset({1,2,3,4,5}) \n",
    "\n",
    "#works >>>> aa read functionss \n",
    "#Doesn't work >>>>> write function \n",
    "#When to use  \n",
    "#2D sets \n",
    "fs  = frozenset([1,2,frozenset([3,4])])  \n",
    "fs "
   ]
  },
  {
   "cell_type": "code",
   "execution_count": 107,
   "id": "46cb0365-5538-4bce-a6ed-702bba33a72d",
   "metadata": {},
   "outputs": [
    {
     "data": {
      "text/plain": [
       "{36, 49, 64, 81, 100}"
      ]
     },
     "execution_count": 107,
     "metadata": {},
     "output_type": "execute_result"
    }
   ],
   "source": [
    "{i**2 for i in range(1,11) if i>5} "
   ]
  },
  {
   "cell_type": "code",
   "execution_count": 108,
   "id": "edd49487-95fb-465f-bcf2-9d10d767f18b",
   "metadata": {},
   "outputs": [
    {
     "data": {
      "text/plain": [
       "{2, 3, 4, 5, 6, 7}"
      ]
     },
     "execution_count": 108,
     "metadata": {},
     "output_type": "execute_result"
    }
   ],
   "source": [
    "{i+2 for i in range(0, 11) if i<6}"
   ]
  },
  {
   "cell_type": "code",
   "execution_count": null,
   "id": "a0a7e9cd-0bdf-4b8a-bc50-34d2c7ed8902",
   "metadata": {},
   "outputs": [],
   "source": []
  },
  {
   "cell_type": "code",
   "execution_count": null,
   "id": "df59cea5-babb-4f75-8609-62c09c40dd9b",
   "metadata": {},
   "outputs": [],
   "source": []
  },
  {
   "cell_type": "code",
   "execution_count": 109,
   "id": "c71c1f1f-6099-47eb-a053-31b5d1f5a9bc",
   "metadata": {},
   "outputs": [],
   "source": [
    "#DICTIONARY \n",
    "\n",
    "#Key-Value Pairs: Data mapping.\n",
    "#Aliases: Map, associative array.\n",
    "#dict = { 'name': 'nitish', 'age': 33, 'gender': 'male' }  \n",
    "#Traits: \n",
    "#Mutable\n",
    "#No indexing\n",
    "#Unique keys\n",
    "#Immutable keys\n",
    "#{\"Name\":\"Saurabh\", \"Gender\":\"Male\"}\n",
    "#{'Name': 'Saurabh', 'Gender': 'Male'}\n",
    "#4 Key Rules About Dictionaries\n",
    "#No Indexing: No index support.\n",
    "#Mutable: Can modify post-creation.\n",
    "#Keys: Immutable (str, num, tuple); Values: Any type.\n",
    "#Unique Keys: Keys must be unique; overwrite on reassignment.\n",
    "\n",
    "\n",
    "\n",
    "#MUTABLE TYPES = LIST , SETS , DICTIONARY \n",
    "#IMMUTABLE  = SETS  , STRINGS , tuples ,INT FLOAT , Bool, COmplex \n",
    "\n"
   ]
  },
  {
   "cell_type": "code",
   "execution_count": 110,
   "id": "7509aa07-f4e0-436c-b5be-8bace9503202",
   "metadata": {},
   "outputs": [
    {
     "name": "stdout",
     "output_type": "stream",
     "text": [
      "{}\n"
     ]
    }
   ],
   "source": [
    "#CREATE \n",
    "\n",
    "#1. Create\n",
    "#2. Access\n",
    "#3. Edit\n",
    "#4. Add\n",
    "#5. Delete\n",
    "#6. Operations\n",
    "#7. Functions\n",
    "\n",
    "#empty dictionary {}\n",
    "D= {} \n",
    "print(D)   "
   ]
  },
  {
   "cell_type": "code",
   "execution_count": 174,
   "id": "50df0456-df3d-4ee9-9bbc-62c799eb8afb",
   "metadata": {},
   "outputs": [
    {
     "name": "stdout",
     "output_type": "stream",
     "text": [
      "{'STATE': 'DELHI', 'RESOURCE': 'POWER', 'LEVEL': 'CENTRAL', 'RISK': 'MANIPULATION'}\n"
     ]
    }
   ],
   "source": [
    "d1 = {\"STATE\":\"DELHI\",\"RESOURCE\":\"POWER\",\"LEVEL\":\"CENTRAL\",\"RISK\":\"MANIPULATION\"}  \n",
    "print(d1) "
   ]
  },
  {
   "cell_type": "code",
   "execution_count": 175,
   "id": "598c1008-b5ae-466d-9c7f-c3a68beb43d6",
   "metadata": {},
   "outputs": [
    {
     "name": "stdout",
     "output_type": "stream",
     "text": [
      "{'LOCATION': 'NOIDA', 'IINTERVAL': '6 months', 'LOYALTY': {'PRESIENT': 2, 'INVESTOR': 300}}\n"
     ]
    }
   ],
   "source": [
    "#2D DICT\n",
    "d2 = {\"LOCATION\":\"NOIDA\",\"IINTERVAL\":\"6 months\",\"LOYALTY\":{\"PRESIENT\":2,\"INVESTOR\":300}} \n",
    "print(d2)\n"
   ]
  },
  {
   "cell_type": "code",
   "execution_count": 176,
   "id": "b47b7bce-7bcc-4e0d-91a8-0bc1fb77a6bc",
   "metadata": {},
   "outputs": [
    {
     "name": "stdout",
     "output_type": "stream",
     "text": [
      "{(1, 2, 3): 'SAME MARKS'}\n",
      "{'SELF': 'SACRIFICE', 'MODEL': 'FREEDOM', 'INFORMATION': {'CHARACTER': 'SUBHASH CHANDRA BOSE', 'RATING': 7.9}, 'ROTATION': '15'}\n"
     ]
    }
   ],
   "source": [
    "#KEY ARE IMMUTABLE SO THEY CAN BE SET \n",
    "#SET as keys : #TypeError: unhashable type: 'set' \n",
    "d3  = {(1,2,3):\"SAME MARKS\"}  \n",
    "print(d3)    \n",
    "\n",
    "\n",
    "\n",
    "d4 = {\"SELF\":\"SACRIFICE\" , \"MODEL\":\"FREEDOM\" , \"INFORMATION\":{\"CHARACTER\":\"SUBHASH CHANDRA BOSE\" , \"RATING\":7.9 } , \"ROTATION\":\"15\"} \n",
    "print(d4)\n"
   ]
  },
  {
   "cell_type": "code",
   "execution_count": 177,
   "id": "4a3efc8c-da0b-4bd5-8507-54df1364a703",
   "metadata": {},
   "outputs": [
    {
     "name": "stdout",
     "output_type": "stream",
     "text": [
      "SUBHASH CHANDRA BOSE\n",
      "SACRIFICE\n"
     ]
    }
   ],
   "source": [
    "#NO INDEXING AND SLICING  \n",
    "#USE ONLY KEY \n",
    "#ACCESING VALUE FROM DICTIONARY \n",
    "\n",
    "print(d4[\"INFORMATION\"][\"CHARACTER\"]) #2D \n",
    "print(d4[\"SELF\"])  #1D\n"
   ]
  },
  {
   "cell_type": "code",
   "execution_count": 178,
   "id": "aabb0569-8c60-4349-a7ee-f253ac2d1cb1",
   "metadata": {},
   "outputs": [
    {
     "name": "stdout",
     "output_type": "stream",
     "text": [
      "{'SELF': 'SACRIFICE', 'MODEL': 'FREEDOM', 'INFORMATION': {'CHARACTER': 'SUBHASH CHANDRA BOSE', 'RATING': 7.9}, 'ROTATION': '15'}\n"
     ]
    }
   ],
   "source": [
    "#EDITING DICTIONARY \n",
    "\n",
    "print(d4)  \n",
    "d4[\"SELF\"] = \"SACRIFICE AND PRECISION\" #1D    \n",
    "\n",
    "d4[\"INFORMATION\"][\"CHARACTER\"] = \"COL> RAJEEV BHARWAN\"   #2D \n",
    "\n",
    "#ADDING NEW ITEM \n",
    "d4[\"INFORMATION\"][\"ATTACK\"] = \"FIERCE\"   \n"
   ]
  },
  {
   "cell_type": "code",
   "execution_count": 181,
   "id": "7e4877a5-4a08-4b03-926f-db79adb98f90",
   "metadata": {},
   "outputs": [
    {
     "name": "stdout",
     "output_type": "stream",
     "text": [
      "{}\n",
      "{}\n"
     ]
    }
   ],
   "source": [
    "\n",
    "#DELETION \n",
    "#del d4[\"INFORMATION\"][\"RATING\"] \n",
    "\n",
    "\n",
    "print(d4)\n",
    "\n",
    "#CLEAR \n",
    "d4.clear()   #emties THE all KEy:vaLue PAIR \n",
    "print(d4)  "
   ]
  },
  {
   "cell_type": "code",
   "execution_count": 192,
   "id": "cc3ea3d5-5505-42b0-bca4-ac08a78acdcf",
   "metadata": {},
   "outputs": [
    {
     "name": "stdout",
     "output_type": "stream",
     "text": [
      "COURT\n",
      "{'ROTATIONAL': '15 per day', 'justice': '75%'}\n"
     ]
    }
   ],
   "source": [
    "#MULTIPLY <ADDITION >>>>> NOT SUPPORTED \n",
    "#LOOPs >>>> SUPPORTED \n",
    "D = {(\"lawyer\" , \"rules\" , \"cases\"):\"COURT\" , \"SPEED\":{\"ROTATIONAL\":\"15 per day\" , \"justice\":\"75%\"} }\n",
    "for i in D:\n",
    "    #print(i , end = \"\\n\\n\\n\") #ACCESSED KEYS \n",
    "     print(D[i]) #ACCESS KEYPAIRS     "
   ]
  },
  {
   "cell_type": "code",
   "execution_count": 204,
   "id": "bfe4168d-e231-4684-9ed3-47ae4d225474",
   "metadata": {},
   "outputs": [
    {
     "ename": "SyntaxError",
     "evalue": "expression cannot contain assignment, perhaps you meant \"==\"? (352690274.py, line 15)",
     "output_type": "error",
     "traceback": [
      "  \u001b[36mCell\u001b[39m\u001b[36m \u001b[39m\u001b[32mIn[204]\u001b[39m\u001b[32m, line 15\u001b[39m\n\u001b[31m    \u001b[39m\u001b[31mprint(sorted(d20.reverse=True))\u001b[39m\n                 ^\n\u001b[31mSyntaxError\u001b[39m\u001b[31m:\u001b[39m expression cannot contain assignment, perhaps you meant \"==\"?\n"
     ]
    }
   ],
   "source": [
    "#OPERATIONS ON DICTIONARY \n",
    "\n",
    "print(len(D))\n",
    "\n",
    "#print(max(D)) #TypeError: '>' not supported between instances of 'str' and 'tuple'  \n",
    "\n",
    "D_simple = {\"COLLEGE\":\"VIT,PUNE\" , \"ACREEIDETED\":\"A+++\" , \"STUDENTS\":3000 , \"STRENGTH\":8000} \n",
    "print( max(D_simple)) \n",
    "\n",
    "print(min(D_simple)) \n",
    "\n",
    "print(sorted(D_simple)) \n",
    "d20 = {\"COLLEGE\":\"VIT,PUNE\" , \"ACREEIDETED\":\"A+++\" , \"STUDENTS\":3000 , \"STRENGTH\":8000} \n",
    "\n",
    "#print(sorted(d20.reverse=True))   \n",
    "\n",
    "\n"
   ]
  },
  {
   "cell_type": "code",
   "execution_count": 208,
   "id": "b607a86c-3eff-41ae-b1f7-1a1f9fdf10c1",
   "metadata": {},
   "outputs": [
    {
     "name": "stdout",
     "output_type": "stream",
     "text": [
      "dict_items([('Name', 'Nitish'), ('Gender', 'Male'), ('Age', 30)])\n"
     ]
    },
    {
     "data": {
      "text/plain": [
       "3"
      ]
     },
     "execution_count": 208,
     "metadata": {},
     "output_type": "execute_result"
    }
   ],
   "source": [
    "#DICTIONARY  COMPREHENSION \n",
    "\n",
    "# {key: value for var in iterable}  create dicts from iterable \n",
    "\n",
    "\n",
    "DD = {\"Name\":\"Nitish\", \"Gender\":\"Male\", \"Age\":30}\n",
    "print(DD.items()) \n",
    "len(DD) \n",
    "\n"
   ]
  },
  {
   "cell_type": "code",
   "execution_count": 226,
   "id": "ecdb5f03-e3bd-4002-9e0d-89d3ad9cf989",
   "metadata": {},
   "outputs": [
    {
     "name": "stdout",
     "output_type": "stream",
     "text": [
      "{'Name': 'Nitish', 'Gender': 'Male'}\n",
      "{1: 1, 2: 4, 3: 9, 4: 16, 5: 25, 6: 36, 7: 49}\n",
      "{10: 100, 20: 200, 30: 300, 40: 400, 50: 500, 60: 600, 70: 700, 80: 800, 90: 900}\n",
      "{10: 100, 20: 200, 30: 300, 40: 400, 50: 500, 60: 600, 70: 700, 80: 800, 90: 900, 100: 1000}\n"
     ]
    }
   ],
   "source": [
    "D90 = {key:value for key,value in DD.items() if len(key)>3}  \n",
    "print(D90) \n",
    "\n",
    "\n",
    "L= [1,2,3,4,5,6,7]  \n",
    "D100 = {item: item**2 for item in L } \n",
    "print(D100)\n",
    "\n",
    "\n",
    "M = [10, 20,30,40,50,60,70,80,90]\n",
    "D110 = {value:value*10 for value in M }  \n",
    "print(D110) \n",
    "\n",
    "D120 = {value:value*10 for value in range(10,110,10) }\n",
    "print(D120)  \n"
   ]
  },
  {
   "cell_type": "code",
   "execution_count": 229,
   "id": "75bb4e8f-8e8a-4bbd-bb8f-154188625854",
   "metadata": {},
   "outputs": [
    {
     "name": "stdout",
     "output_type": "stream",
     "text": [
      "dict_items([('BANGLORE', 1400), ('CHANDIGARH', 1500), ('NAGPUR', 300)])\n",
      "{'BANGLORE': 2800.0, 'CHANDIGARH': 3000.0, 'NAGPUR': 600.0}\n"
     ]
    }
   ],
   "source": [
    "DDD = {\"BANGLORE\":1400 , \"CHANDIGARH\": 1500 , \"NAGPUR\":300} \n",
    "D130 = {key:value*2.0 for (key , value) in DDD.items()} \n",
    "print(DDD.items())\n",
    "print(D130) "
   ]
  },
  {
   "cell_type": "code",
   "execution_count": 234,
   "id": "2006e0ec-2224-471a-9946-7baad776aa23",
   "metadata": {},
   "outputs": [
    {
     "data": {
      "text/plain": [
       "{'INNER ENGINEERING': 'MASTA MAGAN',\n",
       " 'BSP': 'KHULKE JILE FEELING',\n",
       " 'SHOONYA': 'KHO  JAA'}"
      ]
     },
     "execution_count": 234,
     "metadata": {},
     "output_type": "execute_result"
    }
   ],
   "source": [
    "days = [\"Sunday\", \"Monday\", \"Tuesday\", \"Wednesday\", \"Thursday\", \"Friday\", \"Saturday\"]\n",
    "temp_C = [30.5, 32.6, 31.8, 33.4, 29.8, 30.2, 29.9]\n",
    "{i:j for (i,j) in zip(days,temp_C)} \n",
    "\n",
    "\n",
    "tools = [\"INNER ENGINEERING\" , \"BSP\" , \"SHOONYA\"]\n",
    "meaning = [\"MASTA MAGAN\",\"KHULKE JILE FEELING\",\"KHO  JAA\"]\n",
    "\n",
    "{key:value for (key,value) in zip(tools, meaning)} \n"
   ]
  },
  {
   "cell_type": "code",
   "execution_count": 1,
   "id": "2e655dd1-e4db-418d-b0b2-d8b693528a18",
   "metadata": {},
   "outputs": [
    {
     "name": "stdout",
     "output_type": "stream",
     "text": [
      "{12: {0: 0, 1: 12, 2: 24, 3: 36, 4: 48, 5: 60, 6: 72, 7: 84, 8: 96, 9: 108, 10: 120, 11: 132, 12: 144, 13: 156, 14: 168, 15: 180, 16: 192, 17: 204, 18: 216, 19: 228, 20: 240}, 13: {0: 0, 1: 13, 2: 26, 3: 39, 4: 52, 5: 65, 6: 78, 7: 91, 8: 104, 9: 117, 10: 130, 11: 143, 12: 156, 13: 169, 14: 182, 15: 195, 16: 208, 17: 221, 18: 234, 19: 247, 20: 260}, 14: {0: 0, 1: 14, 2: 28, 3: 42, 4: 56, 5: 70, 6: 84, 7: 98, 8: 112, 9: 126, 10: 140, 11: 154, 12: 168, 13: 182, 14: 196, 15: 210, 16: 224, 17: 238, 18: 252, 19: 266, 20: 280}, 15: {0: 0, 1: 15, 2: 30, 3: 45, 4: 60, 5: 75, 6: 90, 7: 105, 8: 120, 9: 135, 10: 150, 11: 165, 12: 180, 13: 195, 14: 210, 15: 225, 16: 240, 17: 255, 18: 270, 19: 285, 20: 300}}\n"
     ]
    }
   ],
   "source": [
    "#NESTED COMPREHENSION  \n",
    "\n",
    "tables = {i:{j:j*i for j in range(0,21)} for i in range(12,16)}\n",
    "print(tables)    \n"
   ]
  },
  {
   "cell_type": "code",
   "execution_count": 11,
   "id": "2acb1409-47aa-4bdb-aec8-14455a62898f",
   "metadata": {},
   "outputs": [
    {
     "name": "stdout",
     "output_type": "stream",
     "text": [
      "2025 Promotion DATA\n"
     ]
    },
    {
     "data": {
      "text/plain": [
       "{'SANDEEP': 'TEAM LEAD',\n",
       " 'MANDEEP': 'TEAM A1 Member',\n",
       " 'JAGADISH': 'MANAGER',\n",
       " 'SUDHISH': 'SENIOR DEVELOPER',\n",
       " 'SANG YON': 'RESEARCH HEAD',\n",
       " 'SUN YAN': 'TESTING MANAGER',\n",
       " 'SON GOKU': 'HR HEAD'}"
      ]
     },
     "execution_count": 11,
     "metadata": {},
     "output_type": "execute_result"
    }
   ],
   "source": [
    "#tuple and list combo \n",
    "LIST_of_YEARLY_PROMOTION = [\"SANDEEP\" , \"MANDEEP\" , \"JAGADISH\" , \"SUDHISH\" , \"SANG YON\" , \"SUN YAN\" , \"SON GOKU\"] \n",
    "\n",
    "DESIGNATION = (\"TEAM LEAD\",\"TEAM A1 Member\" , \"MANAGER\" , \"SENIOR DEVELOPER\" , \"RESEARCH HEAD\" , \"TESTING MANAGER\" , \"HR HEAD\") \n",
    "type(DESIGNATION) \n",
    "print(\"2025 Promotion DATA\")\n",
    "{key:value for key,value in  zip(LIST_of_YEARLY_PROMOTION, DESIGNATION) } \n"
   ]
  },
  {
   "cell_type": "code",
   "execution_count": null,
   "id": "0c088199-cf79-4c59-8f46-4b534fd27324",
   "metadata": {},
   "outputs": [],
   "source": []
  }
 ],
 "metadata": {
  "kernelspec": {
   "display_name": "Python 3 (ipykernel)",
   "language": "python",
   "name": "python3"
  },
  "language_info": {
   "codemirror_mode": {
    "name": "ipython",
    "version": 3
   },
   "file_extension": ".py",
   "mimetype": "text/x-python",
   "name": "python",
   "nbconvert_exporter": "python",
   "pygments_lexer": "ipython3",
   "version": "3.11.0"
  }
 },
 "nbformat": 4,
 "nbformat_minor": 5
}
